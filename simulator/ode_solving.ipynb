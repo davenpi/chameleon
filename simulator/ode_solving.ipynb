{
 "cells": [
  {
   "cell_type": "code",
   "execution_count": null,
   "id": "8003a132-57d1-4aac-8583-92e426fea1c0",
   "metadata": {},
   "outputs": [],
   "source": [
    "import numpy as np\n",
    "import matplotlib.pyplot as plt\n",
    "import scipy.integrate as si\n",
    "import chameleon as c"
   ]
  },
  {
   "cell_type": "markdown",
   "id": "ec564882-860b-407a-af2c-6c1c7c96ee67",
   "metadata": {},
   "source": [
    "I want to use the scipy integrate method `solve_ivp` to solve a system of differential equations."
   ]
  },
  {
   "cell_type": "code",
   "execution_count": null,
   "id": "8e701883-969f-48c8-92d4-79f55149c0ce",
   "metadata": {},
   "outputs": [],
   "source": [
    "def G(t):\n",
    "    env = c.Chameleon()\n",
    "    sig_a = -env.pos_init * t\n",
    "    dx = env.pos_init[1] - env.pos_init[0]\n",
    "    g = -si.trapezoid(sig_a, dx=dx)\n",
    "    return g\n",
    "\n",
    "\n",
    "def system(t, y, m, L, c, a, E, G_fun):\n",
    "    \"\"\"simulate dy/dt = -y\"\"\"\n",
    "    mat = np.array([[0, 1], [-E / (L * m), -(L * c + a) / (L * m)]])\n",
    "    y_out = np.matmul(mat, y) + np.array([0, G_fun(t) / (L * m)])\n",
    "    return y_out\n",
    "\n",
    "\n",
    "sol = si.solve_ivp(system, [0, 15], np.array([1, 0]), args=[1, 1, 10, 10, 0.1, G])"
   ]
  },
  {
   "cell_type": "code",
   "execution_count": null,
   "id": "f3f18a47-ec5f-41f7-be6f-4783f2b6b1c4",
   "metadata": {},
   "outputs": [],
   "source": [
    "y1 = sol[\"y\"][0]\n",
    "y2 = sol[\"y\"][1]\n",
    "t = sol[\"t\"]"
   ]
  },
  {
   "cell_type": "code",
   "execution_count": null,
   "id": "c9493136-4c84-4d02-bd03-31efc65d0a3f",
   "metadata": {},
   "outputs": [],
   "source": [
    "plt.plot(t, y1)\n",
    "plt.plot(t, y2)\n",
    "plt.xlabel(\"t\")\n",
    "plt.ylabel(\"$u_L(t)$\")\n",
    "plt.legend((\"y1\", \"y2\"))\n",
    "plt.show()"
   ]
  },
  {
   "cell_type": "code",
   "execution_count": null,
   "id": "3735cf76-2de5-4089-ab5b-be974eab95e0",
   "metadata": {},
   "outputs": [],
   "source": []
  },
  {
   "cell_type": "code",
   "execution_count": null,
   "id": "cb30f562-7ac4-4860-9cf9-925216fe1272",
   "metadata": {},
   "outputs": [],
   "source": []
  }
 ],
 "metadata": {
  "kernelspec": {
   "display_name": "chameleon",
   "language": "python",
   "name": "chameleon"
  },
  "language_info": {
   "codemirror_mode": {
    "name": "ipython",
    "version": 3
   },
   "file_extension": ".py",
   "mimetype": "text/x-python",
   "name": "python",
   "nbconvert_exporter": "python",
   "pygments_lexer": "ipython3",
   "version": "3.7.4"
  }
 },
 "nbformat": 4,
 "nbformat_minor": 5
}
