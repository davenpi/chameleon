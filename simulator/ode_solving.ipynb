{
 "cells": [
  {
   "cell_type": "code",
   "execution_count": null,
   "id": "8003a132-57d1-4aac-8583-92e426fea1c0",
   "metadata": {},
   "outputs": [],
   "source": [
    "%reset -f\n",
    "import numpy as np\n",
    "import matplotlib.pyplot as plt\n",
    "import scipy.integrate as si\n",
    "import chameleon as c"
   ]
  },
  {
   "cell_type": "markdown",
   "id": "ec564882-860b-407a-af2c-6c1c7c96ee67",
   "metadata": {},
   "source": [
    "I want to use the scipy integrate method `solve_ivp` to solve a system of differential equations."
   ]
  },
  {
   "cell_type": "code",
   "execution_count": null,
   "id": "a2075b80-af6d-4205-bf32-cd81f3c698f6",
   "metadata": {},
   "outputs": [],
   "source": [
    "m = 1\n",
    "L = 1\n",
    "cd = 2\n",
    "a = 1\n",
    "E = 1\n",
    "T = 10"
   ]
  },
  {
   "cell_type": "code",
   "execution_count": null,
   "id": "539ecfaa-6ca5-442d-af93-a1d82e69accc",
   "metadata": {},
   "outputs": [],
   "source": [
    "def sig_a(env, t):\n",
    "    return -env.pos_init*t\n",
    "\n",
    "def integrate_to_t(env, t):\n",
    "    \"\"\"Integrate the environment from 0 to t\"\"\"\n",
    "    time_steps = int(t / env.dt)\n",
    "    t_arr = np.linspace(0, t, time_steps)\n",
    "    for t in t_arr:\n",
    "        sig = sig_a(env, t)\n",
    "        env.one_step_return(sig)\n",
    "    return\n",
    "\n",
    "env = c.Chameleon(dt=0.1, c = cd)\n",
    "integrate_to_t(env, T)"
   ]
  },
  {
   "cell_type": "code",
   "execution_count": null,
   "id": "94b8f44a-44e9-4b73-9cee-9ae835bb0a98",
   "metadata": {},
   "outputs": [],
   "source": [
    "env.u_current"
   ]
  },
  {
   "cell_type": "code",
   "execution_count": null,
   "id": "f3854df4-2b85-406b-a287-cbfbb0e8a1e0",
   "metadata": {},
   "outputs": [],
   "source": [
    "plt.plot(env.pos_init, env.u_current)"
   ]
  },
  {
   "cell_type": "code",
   "execution_count": null,
   "id": "8e701883-969f-48c8-92d4-79f55149c0ce",
   "metadata": {},
   "outputs": [],
   "source": [
    "def G(t, L):\n",
    "    env = c.Chameleon(init_length=L)\n",
    "    sig_a = -env.pos_init * t\n",
    "    dx = env.pos_init[1] - env.pos_init[0]\n",
    "    g = -si.trapezoid(sig_a, dx=dx)\n",
    "    return g\n",
    "\n",
    "\n",
    "def system(t, y, m, L, c, a, E, G_fun):\n",
    "    \"\"\"simulate dy/dt = -y\"\"\"\n",
    "    mat = np.array([[0, 1], [-E / (L * m), -(L * c + a) / (L * m)]])\n",
    "    y_out = np.matmul(mat, y) + np.array([0, G_fun(t,L) / (L * m)])\n",
    "    return y_out\n",
    "\n",
    "sol = si.solve_ivp(system, [0, T], np.array([0, 0]), args=[m, L, cd, a, E, G])"
   ]
  },
  {
   "cell_type": "code",
   "execution_count": null,
   "id": "f3f18a47-ec5f-41f7-be6f-4783f2b6b1c4",
   "metadata": {},
   "outputs": [],
   "source": [
    "y1 = sol[\"y\"][0]\n",
    "y2 = sol[\"y\"][1]\n",
    "t = sol[\"t\"]\n",
    "F = -cd*y2 - m*np.gradient(y2, t, edge_order=2) "
   ]
  },
  {
   "cell_type": "code",
   "execution_count": null,
   "id": "2b366aaf-7911-4969-b823-6d432839056d",
   "metadata": {},
   "outputs": [],
   "source": [
    "t.shape"
   ]
  },
  {
   "cell_type": "code",
   "execution_count": null,
   "id": "9dd8442c-d3f0-4446-a490-7b3aa5c9993c",
   "metadata": {},
   "outputs": [],
   "source": [
    "# analytic = [{0.},{-0.422633},{-0.76084},{-1.04321},{-1.27968},{-1.47777},{-1.6437},{-1.7827},{-1.89914},{-1.99667},{-2.07837}]\n",
    "# a = [s.pop() for s in analytic]\n",
    "# trange = np.linspace(0, T, len(a))"
   ]
  },
  {
   "cell_type": "code",
   "execution_count": null,
   "id": "c9493136-4c84-4d02-bd03-31efc65d0a3f",
   "metadata": {},
   "outputs": [],
   "source": [
    "plt.figure(figsize=(10,10))\n",
    "plt.plot(t, y1)\n",
    "plt.plot(t, y2)\n",
    "plt.plot(t, F)\n",
    "plt.plot(np.linspace(0, T, len(env.F)), env.F)\n",
    "# plt.plot(trange, a)\n",
    "plt.xlabel(\"t\")\n",
    "plt.ylabel(\"$u_L(t)$\")\n",
    "plt.legend((\"$u_L$\", r\"$\\frac{du_L}{dt}$\", r\"$F(t)$\", \"F from sim\"))\n",
    "plt.show()"
   ]
  },
  {
   "cell_type": "code",
   "execution_count": null,
   "id": "25b20600-c464-49fc-91b4-7867d431c6a6",
   "metadata": {},
   "outputs": [],
   "source": [
    "env.u_current"
   ]
  }
 ],
 "metadata": {
  "kernelspec": {
   "display_name": "chameleon",
   "language": "python",
   "name": "chameleon"
  },
  "language_info": {
   "codemirror_mode": {
    "name": "ipython",
    "version": 3
   },
   "file_extension": ".py",
   "mimetype": "text/x-python",
   "name": "python",
   "nbconvert_exporter": "python",
   "pygments_lexer": "ipython3",
   "version": "3.7.4"
  }
 },
 "nbformat": 4,
 "nbformat_minor": 5
}
