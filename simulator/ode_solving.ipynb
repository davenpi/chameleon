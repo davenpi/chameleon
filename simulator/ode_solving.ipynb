{
 "cells": [
  {
   "cell_type": "code",
   "execution_count": 13,
   "id": "8003a132-57d1-4aac-8583-92e426fea1c0",
   "metadata": {},
   "outputs": [],
   "source": [
    "%reset -f\n",
    "import numpy as np\n",
    "import matplotlib.pyplot as plt\n",
    "import scipy.integrate as si\n",
    "import chameleon as c"
   ]
  },
  {
   "cell_type": "markdown",
   "id": "ec564882-860b-407a-af2c-6c1c7c96ee67",
   "metadata": {},
   "source": [
    "I want to use the scipy integrate method `solve_ivp` to solve a system of differential equations."
   ]
  },
  {
   "cell_type": "code",
   "execution_count": 14,
   "id": "a2075b80-af6d-4205-bf32-cd81f3c698f6",
   "metadata": {},
   "outputs": [],
   "source": [
    "m = 6\n",
    "L = 5\n",
    "cd = 2\n",
    "a = 3\n",
    "E = 169 / 120\n",
    "T = 10"
   ]
  },
  {
   "cell_type": "code",
   "execution_count": 15,
   "id": "539ecfaa-6ca5-442d-af93-a1d82e69accc",
   "metadata": {},
   "outputs": [
    {
     "name": "stdout",
     "output_type": "stream",
     "text": [
      "CPU times: user 966 ms, sys: 8.41 ms, total: 974 ms\n",
      "Wall time: 982 ms\n"
     ]
    }
   ],
   "source": [
    "def sig_a(env, t):\n",
    "    return -(np.sin(env.pos_init) ** 2) * np.sin(t) ** 2\n",
    "\n",
    "\n",
    "def integrate_to_t(env, t):\n",
    "    \"\"\"Integrate the environment from 0 to t\"\"\"\n",
    "    time_steps = int(t / env.dt)\n",
    "    t_arr = np.linspace(0, t, time_steps)\n",
    "    for t in t_arr:\n",
    "        sig = sig_a(env, t)\n",
    "        env.one_step_return(sig)\n",
    "    return\n",
    "\n",
    "\n",
    "env = c.Chameleon(dt=0.01, c=cd, m=m, init_length=L, E=E, alpha=a)\n",
    "integrate_to_t(env, T)"
   ]
  },
  {
   "cell_type": "code",
   "execution_count": null,
   "id": "8e701883-969f-48c8-92d4-79f55149c0ce",
   "metadata": {},
   "outputs": [],
   "source": [
    "def G(t, L):\n",
    "    env = c.Chameleon(init_length=L)\n",
    "    sig = sig_a(env, t)\n",
    "    dx = env.pos_init[1] - env.pos_init[0]\n",
    "    g = -si.trapezoid(sig, dx=dx)\n",
    "    return g\n",
    "\n",
    "\n",
    "def system(t, y, m, L, c, a, E, G_fun):\n",
    "    \"\"\"simulate dy/dt = -y\"\"\"\n",
    "    mat = np.array([[0, 1], [-E / (L * m), -(L * c + a) / (L * m)]])\n",
    "    y_out = np.matmul(mat, y) + np.array([0, G_fun(t, L) / (L * m)])\n",
    "    return y_out\n",
    "\n",
    "\n",
    "sol = si.solve_ivp(\n",
    "    system,\n",
    "    t_span=[0, T],\n",
    "    method=\"BDF\",\n",
    "    dense_output=True,\n",
    "    y0=np.array([0, 0]),\n",
    "    args=[m, L, cd, a, E, G],\n",
    ")"
   ]
  },
  {
   "cell_type": "code",
   "execution_count": null,
   "id": "f3f18a47-ec5f-41f7-be6f-4783f2b6b1c4",
   "metadata": {},
   "outputs": [],
   "source": [
    "y1 = sol[\"y\"][0]\n",
    "y2 = sol[\"y\"][1]\n",
    "t = sol[\"t\"]\n",
    "F = -cd * y2 - m * np.gradient(y2, t, edge_order=2)"
   ]
  },
  {
   "cell_type": "code",
   "execution_count": null,
   "id": "2b366aaf-7911-4969-b823-6d432839056d",
   "metadata": {},
   "outputs": [],
   "source": [
    "t.shape"
   ]
  },
  {
   "cell_type": "code",
   "execution_count": null,
   "id": "9dd8442c-d3f0-4446-a490-7b3aa5c9993c",
   "metadata": {},
   "outputs": [],
   "source": [
    "analytic = [\n",
    "    {0.0},\n",
    "    {-0.0319976},\n",
    "    {-0.119079},\n",
    "    {-0.238296},\n",
    "    {-0.358829},\n",
    "    {-0.449538},\n",
    "    {-0.48659},\n",
    "    {-0.459301},\n",
    "    {-0.37275},\n",
    "    {-0.246546},\n",
    "    {-0.110022},\n",
    "    {0.00493849},\n",
    "    {0.0717093},\n",
    "    {0.0754366},\n",
    "    {0.016675},\n",
    "    {-0.0887497},\n",
    "    {-0.213616},\n",
    "    {-0.325974},\n",
    "    {-0.396965},\n",
    "    {-0.407891},\n",
    "    {-0.354794},\n",
    "    {-0.249419},\n",
    "    {-0.116348},\n",
    "    {0.0130285},\n",
    "    {0.108188},\n",
    "    {0.146956},\n",
    "    {0.120931},\n",
    "    {0.0375431},\n",
    "    {-0.0817636},\n",
    "    {-0.206783},\n",
    "    {-0.30594},\n",
    "    {-0.354024},\n",
    "    {-0.338355},\n",
    "    {-0.261895},\n",
    "    {-0.142516},\n",
    "    {-0.00862621},\n",
    "    {0.107784},\n",
    "    {0.17898},\n",
    "    {0.188268},\n",
    "    {0.134088},\n",
    "    {0.0303937},\n",
    "]\n",
    "analytic = [s.pop() for s in analytic]\n",
    "trange = np.linspace(0, T, len(analytic))"
   ]
  },
  {
   "cell_type": "code",
   "execution_count": null,
   "id": "c9493136-4c84-4d02-bd03-31efc65d0a3f",
   "metadata": {},
   "outputs": [],
   "source": [
    "plt.figure(figsize=(10, 10))\n",
    "plt.plot(t, F)\n",
    "plt.plot(np.linspace(0, T, len(env.F)), env.F)\n",
    "plt.plot(trange, analytic)\n",
    "plt.xlabel(\"t\")\n",
    "plt.ylabel(\"$u_L(t)$\")\n",
    "plt.legend((r\"$F(t)$\", \"F from sim\", \"F analytic\"))\n",
    "plt.show()"
   ]
  },
  {
   "cell_type": "code",
   "execution_count": null,
   "id": "a24d306e-dee4-4c98-a968-b7b1ee76558d",
   "metadata": {},
   "outputs": [],
   "source": []
  },
  {
   "cell_type": "code",
   "execution_count": null,
   "id": "5bfea644-bee5-44a7-94dc-587a9f524196",
   "metadata": {},
   "outputs": [],
   "source": []
  }
 ],
 "metadata": {
  "kernelspec": {
   "display_name": "chameleon",
   "language": "python",
   "name": "chameleon"
  },
  "language_info": {
   "codemirror_mode": {
    "name": "ipython",
    "version": 3
   },
   "file_extension": ".py",
   "mimetype": "text/x-python",
   "name": "python",
   "nbconvert_exporter": "python",
   "pygments_lexer": "ipython3",
   "version": "3.7.4"
  }
 },
 "nbformat": 4,
 "nbformat_minor": 5
}
