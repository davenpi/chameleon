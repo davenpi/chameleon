{
 "cells": [
  {
   "cell_type": "code",
   "execution_count": 1,
   "id": "f4de3bc2-bbec-44cd-a60a-7a49b1fe5976",
   "metadata": {},
   "outputs": [],
   "source": [
    "import copy\n",
    "import numpy as np"
   ]
  },
  {
   "cell_type": "code",
   "execution_count": 2,
   "id": "42fef41a-a8ce-493e-9a25-b0633bad4dfa",
   "metadata": {},
   "outputs": [],
   "source": [
    "# writing a new function to do one step of updating the displacement. \n",
    "def one_step(u_current : np.ndarray, active_stress : np.ndarray, dt: float) -> np.ndarray:\n",
    "    u_gradient = np.gradient(u_current, edge_order=2)\n",
    "    update = dt * (u_gradient + active_stress) # need to add weighting of E/a and 1/a respectively\n",
    "    u_final = u_current + update\n",
    "    u_final[0] = u_current[0]\n",
    "    return u_final"
   ]
  },
  {
   "cell_type": "code",
   "execution_count": 5,
   "id": "e970d90f-4a5a-4eca-a748-40ba1fd522b2",
   "metadata": {},
   "outputs": [],
   "source": [
    "n_elems = 50\n",
    "u_current = np.linspace(0, 1, n_elems)\n",
    "active_stress = u_current + u_current**2"
   ]
  },
  {
   "cell_type": "code",
   "execution_count": 6,
   "id": "9cf1b1f6-ed5e-4d21-9dbf-47f2e920b08f",
   "metadata": {},
   "outputs": [],
   "source": [
    "for i in range(1000):\n",
    "    u_final = one_step(u_current, active_stress, dt=1e-3)\n",
    "    u_current = copy.deepcopy(u_final)"
   ]
  },
  {
   "cell_type": "code",
   "execution_count": null,
   "id": "e8a1bd5d-7def-4f56-a417-7a415a35f9e6",
   "metadata": {},
   "outputs": [],
   "source": []
  },
  {
   "cell_type": "code",
   "execution_count": null,
   "id": "6a6f0edc-5dcc-4445-adad-86578ed9a1e3",
   "metadata": {},
   "outputs": [],
   "source": []
  }
 ],
 "metadata": {
  "kernelspec": {
   "display_name": "chameleon",
   "language": "python",
   "name": "chameleon"
  },
  "language_info": {
   "codemirror_mode": {
    "name": "ipython",
    "version": 3
   },
   "file_extension": ".py",
   "mimetype": "text/x-python",
   "name": "python",
   "nbconvert_exporter": "python",
   "pygments_lexer": "ipython3",
   "version": "3.7.4"
  }
 },
 "nbformat": 4,
 "nbformat_minor": 5
}
