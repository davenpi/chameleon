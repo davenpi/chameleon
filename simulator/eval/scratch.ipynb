{
 "cells": [
  {
   "cell_type": "code",
   "execution_count": 1,
   "id": "aa19a508-f92f-4430-b131-e29194568d25",
   "metadata": {},
   "outputs": [],
   "source": [
    "%reset -f\n",
    "import gym\n",
    "import tqdm\n",
    "import torch\n",
    "import pickle\n",
    "import numpy as np\n",
    "import matplotlib.pyplot as plt\n",
    "from stable_baselines3 import PPO\n",
    "from stable_baselines3.common.monitor import Monitor\n",
    "from chameleon import Chameleon\n",
    "from stable_baselines3.common.callbacks import (\n",
    "    EvalCallback,\n",
    "    BaseCallback,\n",
    "    StopTrainingOnRewardThreshold,\n",
    ")"
   ]
  },
  {
   "cell_type": "code",
   "execution_count": 38,
   "id": "b021bd63-69f8-462e-b8fc-306abe7a43b2",
   "metadata": {},
   "outputs": [],
   "source": [
    "env = Chameleon()\n",
    "# env = Monitor(env, filename=\"nbmon\")\n",
    "model = PPO(\n",
    "    policy=\"MlpPolicy\",\n",
    "    env=env,\n",
    "    verbose=0,\n",
    ")\n",
    "# model.learn(total_timesteps=int(6e5))\n",
    "# model.load(\"logs/best_model.zip\")"
   ]
  },
  {
   "cell_type": "code",
   "execution_count": 40,
   "id": "8b61d389-2f41-4643-bc89-a199320f28f3",
   "metadata": {},
   "outputs": [
    {
     "data": {
      "text/plain": [
       "ActorCriticPolicy(\n",
       "  (features_extractor): FlattenExtractor(\n",
       "    (flatten): Flatten(start_dim=1, end_dim=-1)\n",
       "  )\n",
       "  (mlp_extractor): MlpExtractor(\n",
       "    (shared_net): Sequential()\n",
       "    (policy_net): Sequential(\n",
       "      (0): Linear(in_features=1, out_features=64, bias=True)\n",
       "      (1): Tanh()\n",
       "      (2): Linear(in_features=64, out_features=64, bias=True)\n",
       "      (3): Tanh()\n",
       "    )\n",
       "    (value_net): Sequential(\n",
       "      (0): Linear(in_features=1, out_features=64, bias=True)\n",
       "      (1): Tanh()\n",
       "      (2): Linear(in_features=64, out_features=64, bias=True)\n",
       "      (3): Tanh()\n",
       "    )\n",
       "  )\n",
       "  (action_net): Linear(in_features=64, out_features=1, bias=True)\n",
       "  (value_net): Linear(in_features=64, out_features=1, bias=True)\n",
       ")"
      ]
     },
     "execution_count": 40,
     "metadata": {},
     "output_type": "execute_result"
    }
   ],
   "source": [
    "model.policy"
   ]
  },
  {
   "cell_type": "code",
   "execution_count": 49,
   "id": "35f1c6f6-f007-40fb-a356-72774091b461",
   "metadata": {},
   "outputs": [],
   "source": [
    "mlp_extractor = model.policy.mlp_extractor"
   ]
  },
  {
   "cell_type": "code",
   "execution_count": 57,
   "id": "4ef67b5f-7d45-43c8-b282-0ad31d1c0a8c",
   "metadata": {},
   "outputs": [],
   "source": [
    "feature_extractor = model.policy.features_extractor"
   ]
  },
  {
   "cell_type": "code",
   "execution_count": 58,
   "id": "1cb6a529-fc4d-4315-86b2-9902e9d50deb",
   "metadata": {},
   "outputs": [
    {
     "data": {
      "text/plain": [
       "FlattenExtractor(\n",
       "  (flatten): Flatten(start_dim=1, end_dim=-1)\n",
       ")"
      ]
     },
     "execution_count": 58,
     "metadata": {},
     "output_type": "execute_result"
    }
   ],
   "source": [
    "feature_extractor"
   ]
  },
  {
   "cell_type": "code",
   "execution_count": 54,
   "id": "b830ff3e-ec0a-455b-82ac-84691f702b40",
   "metadata": {},
   "outputs": [
    {
     "data": {
      "text/plain": [
       "MlpExtractor(\n",
       "  (shared_net): Sequential()\n",
       "  (policy_net): Sequential(\n",
       "    (0): Linear(in_features=1, out_features=64, bias=True)\n",
       "    (1): Tanh()\n",
       "    (2): Linear(in_features=64, out_features=64, bias=True)\n",
       "    (3): Tanh()\n",
       "  )\n",
       "  (value_net): Sequential(\n",
       "    (0): Linear(in_features=1, out_features=64, bias=True)\n",
       "    (1): Tanh()\n",
       "    (2): Linear(in_features=64, out_features=64, bias=True)\n",
       "    (3): Tanh()\n",
       "  )\n",
       ")"
      ]
     },
     "execution_count": 54,
     "metadata": {},
     "output_type": "execute_result"
    }
   ],
   "source": [
    "mlp_extractor"
   ]
  },
  {
   "cell_type": "code",
   "execution_count": 51,
   "id": "c2015a35-11b2-4bb6-bcf4-a21b343df77b",
   "metadata": {},
   "outputs": [],
   "source": [
    "pytorch_total_params = sum(p.numel() for p in mlp_extractor.parameters())\n",
    "pytorch_trainable_total_params = sum(\n",
    "    p.numel() for p in mlp_extractor.parameters() if p.requires_grad\n",
    ")"
   ]
  },
  {
   "cell_type": "code",
   "execution_count": 55,
   "id": "893fc546-088f-4184-acb0-e7e325b34ebb",
   "metadata": {},
   "outputs": [
    {
     "data": {
      "text/plain": [
       "8706"
      ]
     },
     "execution_count": 55,
     "metadata": {},
     "output_type": "execute_result"
    }
   ],
   "source": [
    "pytorch_trainable_total_params + 2 * 65"
   ]
  },
  {
   "cell_type": "code",
   "execution_count": 42,
   "id": "645257c4-1129-41e4-9577-918bce6917bc",
   "metadata": {},
   "outputs": [],
   "source": [
    "pytorch_total_params = sum(p.numel() for p in model.policy.parameters())\n",
    "pytorch_trainable_total_params = sum(\n",
    "    p.numel() for p in model.policy.parameters() if p.requires_grad\n",
    ")"
   ]
  },
  {
   "cell_type": "code",
   "execution_count": 48,
   "id": "9eaa40b6-913b-4f3c-93ad-c567e030c4e2",
   "metadata": {},
   "outputs": [
    {
     "data": {
      "text/plain": [
       "stable_baselines3.ppo.ppo.PPO"
      ]
     },
     "execution_count": 48,
     "metadata": {},
     "output_type": "execute_result"
    }
   ],
   "source": [
    "type(model)"
   ]
  },
  {
   "cell_type": "code",
   "execution_count": 45,
   "id": "e4219684-32ef-4812-8061-04a6b01b65ce",
   "metadata": {},
   "outputs": [
    {
     "data": {
      "text/plain": [
       "8707"
      ]
     },
     "execution_count": 45,
     "metadata": {},
     "output_type": "execute_result"
    }
   ],
   "source": [
    "pytorch_trainable_total_params"
   ]
  },
  {
   "cell_type": "markdown",
   "id": "e89129dc-9fba-4b3f-bcc6-53f675ceae00",
   "metadata": {},
   "source": [
    "# This is all of the disctinct networks and I can get the total number of parameters in the networks by adding up the number of parameters in each subcomponent. \n",
    "\n",
    "So looking at the number of parameters in the model.policy should match the sum of the things below. Maybe I will be off by the number of standard deviation parameters which is one in my case. "
   ]
  },
  {
   "cell_type": "code",
   "execution_count": null,
   "id": "cb17ea35-11d2-4c81-8f85-95a4b1b48a9a",
   "metadata": {},
   "outputs": [],
   "source": [
    "mlp_extractor = model.policy.mlp_extractor"
   ]
  },
  {
   "cell_type": "code",
   "execution_count": null,
   "id": "02d76174-01c5-4078-8e30-72739f656b1f",
   "metadata": {},
   "outputs": [],
   "source": [
    "mlp_extractor"
   ]
  },
  {
   "cell_type": "code",
   "execution_count": null,
   "id": "7e188db7-fad5-45ac-b1b7-c35646764d1f",
   "metadata": {},
   "outputs": [],
   "source": [
    "# for p in mlp_extractor.policy_net.parameters():\n",
    "#     print(p)\n",
    "#     print(p.shape)"
   ]
  },
  {
   "cell_type": "code",
   "execution_count": null,
   "id": "65d5c52e-fac8-4830-8b33-aa0f78420622",
   "metadata": {},
   "outputs": [],
   "source": [
    "model.policy.action_net"
   ]
  },
  {
   "cell_type": "code",
   "execution_count": null,
   "id": "277107dd-0a17-4a3a-b04e-38bfa6de3dd9",
   "metadata": {},
   "outputs": [],
   "source": [
    "model.policy.value_net"
   ]
  },
  {
   "cell_type": "code",
   "execution_count": null,
   "id": "70e55e4d-811e-45c1-888c-8a0811976bea",
   "metadata": {},
   "outputs": [],
   "source": [
    "model.learning_rate"
   ]
  },
  {
   "cell_type": "code",
   "execution_count": null,
   "id": "1c58a20b-6d00-4bba-8558-fa7f29b51e57",
   "metadata": {},
   "outputs": [],
   "source": [
    "model"
   ]
  }
 ],
 "metadata": {
  "kernelspec": {
   "display_name": "chameleon",
   "language": "python",
   "name": "chameleon"
  },
  "language_info": {
   "codemirror_mode": {
    "name": "ipython",
    "version": 3
   },
   "file_extension": ".py",
   "mimetype": "text/x-python",
   "name": "python",
   "nbconvert_exporter": "python",
   "pygments_lexer": "ipython3",
   "version": "3.7.4"
  }
 },
 "nbformat": 4,
 "nbformat_minor": 5
}
