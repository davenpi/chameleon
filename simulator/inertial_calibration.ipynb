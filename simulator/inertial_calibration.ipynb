{
 "cells": [
  {
   "cell_type": "code",
   "execution_count": null,
   "id": "decdf668-db69-4ea6-b023-07b9d30096c4",
   "metadata": {},
   "outputs": [],
   "source": [
    "%reset -f\n",
    "import scipy.integrate as si\n",
    "import numpy as np\n",
    "import matplotlib.pyplot as plt\n",
    "import chameleon as c\n",
    "import time"
   ]
  },
  {
   "cell_type": "code",
   "execution_count": null,
   "id": "97b234d8-09fc-4830-a4b1-80919ec9ab09",
   "metadata": {},
   "outputs": [],
   "source": []
  },
  {
   "cell_type": "code",
   "execution_count": null,
   "id": "7bc59bbe-ec3b-46c4-9b3d-e7be07cbbc13",
   "metadata": {},
   "outputs": [],
   "source": [
    "def sig_a(env, t):\n",
    "    return -(np.sin(env.pos_init) ** 2) * np.sin(t) ** 2\n",
    "\n",
    "\n",
    "def integrate_to_t(env, t):\n",
    "    \"\"\"Integrate the environment from 0 to t\"\"\"\n",
    "    time_steps = int(t / env.dt)\n",
    "    t_arr = np.linspace(0, t, time_steps)\n",
    "    for t in t_arr:\n",
    "        sig = sig_a(env, t)\n",
    "        env.one_step_return(sig)\n",
    "    return"
   ]
  },
  {
   "cell_type": "code",
   "execution_count": null,
   "id": "fe2ab29f-5a26-49c5-8432-f5e88f6d0a68",
   "metadata": {},
   "outputs": [],
   "source": [
    "m = 2\n",
    "L = 10\n",
    "cd = 10\n",
    "a = 3\n",
    "E = 4\n",
    "T = 10\n",
    "env = c.Chameleon(dt=0.01, c=cd, m=m, init_length=L, alpha=a, E=E)\n",
    "integrate_to_t(env, T)"
   ]
  },
  {
   "cell_type": "code",
   "execution_count": null,
   "id": "bcccbf69-aec7-4fb6-b956-f18dead43548",
   "metadata": {},
   "outputs": [],
   "source": [
    "a = [\n",
    "    {0.0},\n",
    "    {-0.00160647},\n",
    "    {-0.00234247},\n",
    "    {-0.00147493},\n",
    "    {0.00147602},\n",
    "    {0.00666136},\n",
    "    {0.0138793},\n",
    "    {0.0226071},\n",
    "    {0.0320837},\n",
    "    {0.0414298},\n",
    "    {0.0497868},\n",
    "    {0.056452},\n",
    "    {0.0609901},\n",
    "    {0.0633015},\n",
    "    {0.063638},\n",
    "    {0.0625634},\n",
    "    {0.0608643},\n",
    "    {0.0594256},\n",
    "    {0.0590915},\n",
    "    {0.0605315},\n",
    "    {0.0641351},\n",
    "    {0.0699502},\n",
    "    {0.0776757},\n",
    "    {0.0867087},\n",
    "    {0.0962399},\n",
    "    {0.105381},\n",
    "    {0.113307},\n",
    "    {0.119382},\n",
    "    {0.123264},\n",
    "    {0.124958},\n",
    "    {0.124812},\n",
    "    {0.123466},\n",
    "    {0.121751},\n",
    "    {0.120553},\n",
    "    {0.120679},\n",
    "    {0.122725},\n",
    "    {0.126985},\n",
    "    {0.133404},\n",
    "    {0.141585},\n",
    "    {0.150853},\n",
    "    {0.160362},\n",
    "    {0.169228},\n",
    "    {0.176667},\n",
    "    {0.182122},\n",
    "    {0.185349},\n",
    "    {0.186455},\n",
    "    {0.185882},\n",
    "    {0.184337},\n",
    "    {0.182682},\n",
    "    {0.181795},\n",
    "    {0.182432},\n",
    "]\n",
    "a = [s.pop() for s in a]"
   ]
  },
  {
   "cell_type": "code",
   "execution_count": null,
   "id": "0d76f913-6cc1-449d-81aa-4dbcd063090f",
   "metadata": {},
   "outputs": [],
   "source": [
    "plt.plot(np.linspace(0, env.length, len(a)), a)\n",
    "plt.plot(env.pos_init, env.u_current)\n",
    "plt.legend((\"Analytic\", \"Simulation\"))\n",
    "plt.title(f\"Displacement at time {T}:  Overdamped\")\n",
    "plt.xlabel(\"x\")\n",
    "plt.ylabel(f\"$u(x, {T})$\")\n",
    "plt.show()"
   ]
  }
 ],
 "metadata": {
  "kernelspec": {
   "display_name": "chameleon",
   "language": "python",
   "name": "chameleon"
  },
  "language_info": {
   "codemirror_mode": {
    "name": "ipython",
    "version": 3
   },
   "file_extension": ".py",
   "mimetype": "text/x-python",
   "name": "python",
   "nbconvert_exporter": "python",
   "pygments_lexer": "ipython3",
   "version": "3.7.4"
  }
 },
 "nbformat": 4,
 "nbformat_minor": 5
}
