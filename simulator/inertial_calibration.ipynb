{
 "cells": [
  {
   "cell_type": "code",
   "execution_count": 1,
   "id": "decdf668-db69-4ea6-b023-07b9d30096c4",
   "metadata": {},
   "outputs": [],
   "source": [
    "%reset -f\n",
    "import scipy.integrate as si\n",
    "import numpy as np\n",
    "import matplotlib.pyplot as plt\n",
    "import chameleon as c\n",
    "import time"
   ]
  },
  {
   "cell_type": "code",
   "execution_count": null,
   "id": "97b234d8-09fc-4830-a4b1-80919ec9ab09",
   "metadata": {},
   "outputs": [],
   "source": []
  },
  {
   "cell_type": "code",
   "execution_count": 2,
   "id": "7bc59bbe-ec3b-46c4-9b3d-e7be07cbbc13",
   "metadata": {},
   "outputs": [],
   "source": [
    "def sig_a(env, t):\n",
    "    return -env.pos_init * t\n",
    "\n",
    "\n",
    "def integrate_to_t(env, t):\n",
    "    \"\"\"Integrate the environment from 0 to t\"\"\"\n",
    "    time_steps = int(t / env.dt)\n",
    "    t_arr = np.linspace(0, t, time_steps)\n",
    "    for t in t_arr:\n",
    "        sig = sig_a(env, t)\n",
    "        env.one_step_return(sig)\n",
    "    return"
   ]
  },
  {
   "cell_type": "code",
   "execution_count": 3,
   "id": "fe2ab29f-5a26-49c5-8432-f5e88f6d0a68",
   "metadata": {},
   "outputs": [],
   "source": [
    "t = 10\n",
    "env = c.Chameleon(dt=0.01, c=2)\n",
    "integrate_to_t(env, t)"
   ]
  },
  {
   "cell_type": "code",
   "execution_count": 4,
   "id": "bcccbf69-aec7-4fb6-b956-f18dead43548",
   "metadata": {},
   "outputs": [],
   "source": [
    "a = [\n",
    "    {0.0},\n",
    "    {-0.0516402},\n",
    "    {-0.0132799},\n",
    "    {0.115081},\n",
    "    {0.333442},\n",
    "    {0.641804},\n",
    "    {1.04017},\n",
    "    {1.52853},\n",
    "    {2.10689},\n",
    "    {2.77525},\n",
    "    {3.53362},\n",
    "]\n",
    "a = [s.pop() for s in a]"
   ]
  },
  {
   "cell_type": "code",
   "execution_count": null,
   "id": "4d365fc0-89f0-4ce2-8839-ccaa43e3b663",
   "metadata": {},
   "outputs": [],
   "source": []
  },
  {
   "cell_type": "code",
   "execution_count": null,
   "id": "19fb606a-36be-485d-a544-84493ad908fd",
   "metadata": {},
   "outputs": [],
   "source": []
  },
  {
   "cell_type": "code",
   "execution_count": 5,
   "id": "0d76f913-6cc1-449d-81aa-4dbcd063090f",
   "metadata": {},
   "outputs": [
    {
     "data": {
      "image/png": "[encoded data removed]",
      "text/plain": [
       "<Figure size 432x288 with 1 Axes>"
      ]
     },
     "metadata": {
      "needs_background": "light"
     },
     "output_type": "display_data"
    }
   ],
   "source": [
    "plt.plot(np.linspace(0, env.length, len(a)), a)\n",
    "plt.plot(env.pos_init, env.u_current)\n",
    "plt.legend((\"Analytic\", \"Simulation\"))\n",
    "plt.title(f\"Displacement at time {t}\")\n",
    "plt.xlabel(\"x\")\n",
    "plt.ylabel(f\"$u(x, {t})$\")\n",
    "plt.show()"
   ]
  },
  {
   "cell_type": "code",
   "execution_count": null,
   "id": "0deb7bdc-4369-4812-8130-76524240152c",
   "metadata": {},
   "outputs": [],
   "source": [
    "np.linspace(0, env.length, len(a))"
   ]
  },
  {
   "cell_type": "code",
   "execution_count": null,
   "id": "ef54980d-849e-47e2-97b2-21643a1123fd",
   "metadata": {},
   "outputs": [],
   "source": [
    "a"
   ]
  },
  {
   "cell_type": "code",
   "execution_count": null,
   "id": "7cdc07f6-91ee-49c8-942d-9b21cf71e264",
   "metadata": {},
   "outputs": [],
   "source": []
  }
 ],
 "metadata": {
  "kernelspec": {
   "display_name": "chameleon",
   "language": "python",
   "name": "chameleon"
  },
  "language_info": {
   "codemirror_mode": {
    "name": "ipython",
    "version": 3
   },
   "file_extension": ".py",
   "mimetype": "text/x-python",
   "name": "python",
   "nbconvert_exporter": "python",
   "pygments_lexer": "ipython3",
   "version": "3.7.4"
  }
 },
 "nbformat": 4,
 "nbformat_minor": 5
}
