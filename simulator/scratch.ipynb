{
 "cells": [
  {
   "cell_type": "code",
   "execution_count": 1,
   "id": "1e4c6178-deed-4d49-9335-2725e208967b",
   "metadata": {},
   "outputs": [],
   "source": [
    "%reset -f\n",
    "import time\n",
    "import pickle\n",
    "import gym\n",
    "from scipy.interpolate import UnivariateSpline\n",
    "from stable_baselines3 import DDPG\n",
    "import matplotlib.pyplot as plt\n",
    "from stable_baselines3.common.env_checker import check_env\n",
    "import numpy as np\n",
    "from tqdm import tqdm\n",
    "import derivatives as d\n",
    "import forward_helpers as fh\n",
    "from chameleon import Chameleon"
   ]
  },
  {
   "cell_type": "code",
   "execution_count": null,
   "id": "e473efb4-02ee-42bf-bb3a-21458f85063f",
   "metadata": {},
   "outputs": [],
   "source": []
  },
  {
   "cell_type": "code",
   "execution_count": 6,
   "id": "b243f895-9e98-4dec-bf20-5680d1b1b688",
   "metadata": {},
   "outputs": [],
   "source": [
    "n_elems = 10\n",
    "steps = 1000\n",
    "chameleon = Chameleon(E=1, n_elems=n_elems)"
   ]
  },
  {
   "cell_type": "code",
   "execution_count": 3,
   "id": "e1ff8ab7-cf58-4fc2-b0ae-967f9c9acf57",
   "metadata": {},
   "outputs": [
    {
     "name": "stderr",
     "output_type": "stream",
     "text": [
      "/Users/iandavenport/Desktop/learnrl/venv/lib/python3.7/site-packages/stable_baselines3/common/env_checker.py:273: UserWarning: We recommend you to use a symmetric and normalized Box action space (range=[-1, 1]) cf https://stable-baselines3.readthedocs.io/en/master/guide/rl_tips.html\n",
      "  \"We recommend you to use a symmetric and normalized Box action space (range=[-1, 1]) \"\n"
     ]
    },
    {
     "name": "stdout",
     "output_type": "stream",
     "text": [
      "[0.42846936 0.2765398  0.9082336 ]\n",
      "[0.42846936 0.47040876 0.53477369 0.62156414 0.7307801  0.86242159\n",
      " 1.0164886  1.19298113 1.39189918 1.61324275]\n"
     ]
    },
    {
     "ename": "ValueError",
     "evalue": "x must be increasing if s > 0",
     "output_type": "error",
     "traceback": [
      "\u001b[0;31m---------------------------------------------------------------------------\u001b[0m",
      "\u001b[0;31mValueError\u001b[0m                                Traceback (most recent call last)",
      "\u001b[0;32m/var/folders/7w/j5gl6mrn46jd965bzw_01wh40000gn/T/ipykernel_15650/2785467847.py\u001b[0m in \u001b[0;36m<module>\u001b[0;34m\u001b[0m\n\u001b[0;32m----> 1\u001b[0;31m \u001b[0mcheck_env\u001b[0m\u001b[0;34m(\u001b[0m\u001b[0mchameleon\u001b[0m\u001b[0;34m)\u001b[0m\u001b[0;34m\u001b[0m\u001b[0;34m\u001b[0m\u001b[0m\n\u001b[0m",
      "\u001b[0;32m~/Desktop/learnrl/venv/lib/python3.7/site-packages/stable_baselines3/common/env_checker.py\u001b[0m in \u001b[0;36mcheck_env\u001b[0;34m(env, warn, skip_render_check)\u001b[0m\n\u001b[1;32m    276\u001b[0m \u001b[0;34m\u001b[0m\u001b[0m\n\u001b[1;32m    277\u001b[0m     \u001b[0;31m# ============ Check the returned values ===============\u001b[0m\u001b[0;34m\u001b[0m\u001b[0;34m\u001b[0m\u001b[0;34m\u001b[0m\u001b[0m\n\u001b[0;32m--> 278\u001b[0;31m     \u001b[0m_check_returned_values\u001b[0m\u001b[0;34m(\u001b[0m\u001b[0menv\u001b[0m\u001b[0;34m,\u001b[0m \u001b[0mobservation_space\u001b[0m\u001b[0;34m,\u001b[0m \u001b[0maction_space\u001b[0m\u001b[0;34m)\u001b[0m\u001b[0;34m\u001b[0m\u001b[0;34m\u001b[0m\u001b[0m\n\u001b[0m\u001b[1;32m    279\u001b[0m \u001b[0;34m\u001b[0m\u001b[0m\n\u001b[1;32m    280\u001b[0m     \u001b[0;31m# ==== Check the render method and the declared render modes ====\u001b[0m\u001b[0;34m\u001b[0m\u001b[0;34m\u001b[0m\u001b[0;34m\u001b[0m\u001b[0m\n",
      "\u001b[0;32m~/Desktop/learnrl/venv/lib/python3.7/site-packages/stable_baselines3/common/env_checker.py\u001b[0m in \u001b[0;36m_check_returned_values\u001b[0;34m(env, observation_space, action_space)\u001b[0m\n\u001b[1;32m    154\u001b[0m     \u001b[0;31m# Sample a random action\u001b[0m\u001b[0;34m\u001b[0m\u001b[0;34m\u001b[0m\u001b[0;34m\u001b[0m\u001b[0m\n\u001b[1;32m    155\u001b[0m     \u001b[0maction\u001b[0m \u001b[0;34m=\u001b[0m \u001b[0maction_space\u001b[0m\u001b[0;34m.\u001b[0m\u001b[0msample\u001b[0m\u001b[0;34m(\u001b[0m\u001b[0;34m)\u001b[0m\u001b[0;34m\u001b[0m\u001b[0;34m\u001b[0m\u001b[0m\n\u001b[0;32m--> 156\u001b[0;31m     \u001b[0mdata\u001b[0m \u001b[0;34m=\u001b[0m \u001b[0menv\u001b[0m\u001b[0;34m.\u001b[0m\u001b[0mstep\u001b[0m\u001b[0;34m(\u001b[0m\u001b[0maction\u001b[0m\u001b[0;34m)\u001b[0m\u001b[0;34m\u001b[0m\u001b[0;34m\u001b[0m\u001b[0m\n\u001b[0m\u001b[1;32m    157\u001b[0m \u001b[0;34m\u001b[0m\u001b[0m\n\u001b[1;32m    158\u001b[0m     \u001b[0;32massert\u001b[0m \u001b[0mlen\u001b[0m\u001b[0;34m(\u001b[0m\u001b[0mdata\u001b[0m\u001b[0;34m)\u001b[0m \u001b[0;34m==\u001b[0m \u001b[0;36m4\u001b[0m\u001b[0;34m,\u001b[0m \u001b[0;34m\"The `step()` method must return four values: obs, reward, done, info\"\u001b[0m\u001b[0;34m\u001b[0m\u001b[0;34m\u001b[0m\u001b[0m\n",
      "\u001b[0;32m~/Desktop/research/chameleon/simulator/chameleon.py\u001b[0m in \u001b[0;36mstep\u001b[0;34m(self, action, **sim_steps)\u001b[0m\n\u001b[1;32m     87\u001b[0m         \u001b[0mdone\u001b[0m \u001b[0;34m=\u001b[0m \u001b[0;32mFalse\u001b[0m\u001b[0;34m\u001b[0m\u001b[0;34m\u001b[0m\u001b[0m\n\u001b[1;32m     88\u001b[0m         \u001b[0;31m# try:\u001b[0m\u001b[0;34m\u001b[0m\u001b[0;34m\u001b[0m\u001b[0;34m\u001b[0m\u001b[0m\n\u001b[0;32m---> 89\u001b[0;31m         \u001b[0mfh\u001b[0m\u001b[0;34m.\u001b[0m\u001b[0mforward_simulate\u001b[0m\u001b[0;34m(\u001b[0m\u001b[0mself\u001b[0m\u001b[0;34m,\u001b[0m \u001b[0mactive_stress\u001b[0m\u001b[0;34m,\u001b[0m \u001b[0msim_steps\u001b[0m\u001b[0;34m=\u001b[0m\u001b[0msteps\u001b[0m\u001b[0;34m)\u001b[0m\u001b[0;34m\u001b[0m\u001b[0;34m\u001b[0m\u001b[0m\n\u001b[0m\u001b[1;32m     90\u001b[0m         \u001b[0mstate\u001b[0m \u001b[0;34m=\u001b[0m \u001b[0mnp\u001b[0m\u001b[0;34m.\u001b[0m\u001b[0marray\u001b[0m\u001b[0;34m(\u001b[0m\u001b[0;34m[\u001b[0m\u001b[0mself\u001b[0m\u001b[0;34m.\u001b[0m\u001b[0mpos_f\u001b[0m\u001b[0;34m[\u001b[0m\u001b[0;34m-\u001b[0m\u001b[0;36m1\u001b[0m\u001b[0;34m]\u001b[0m\u001b[0;34m]\u001b[0m\u001b[0;34m,\u001b[0m \u001b[0mdtype\u001b[0m\u001b[0;34m=\u001b[0m\u001b[0mnp\u001b[0m\u001b[0;34m.\u001b[0m\u001b[0mfloat32\u001b[0m\u001b[0;34m)\u001b[0m\u001b[0;34m\u001b[0m\u001b[0;34m\u001b[0m\u001b[0m\n\u001b[1;32m     91\u001b[0m         \u001b[0;31m# get negative reward for distance and one negative reward for time\u001b[0m\u001b[0;34m\u001b[0m\u001b[0;34m\u001b[0m\u001b[0;34m\u001b[0m\u001b[0m\n",
      "\u001b[0;32m~/Desktop/research/chameleon/simulator/forward_helpers.py\u001b[0m in \u001b[0;36mforward_simulate\u001b[0;34m(chameleon, active_stress, **sim_steps)\u001b[0m\n\u001b[1;32m    129\u001b[0m         \u001b[0mT\u001b[0m \u001b[0;34m=\u001b[0m \u001b[0mchameleon\u001b[0m\u001b[0;34m.\u001b[0m\u001b[0mn_steps\u001b[0m\u001b[0;34m\u001b[0m\u001b[0;34m\u001b[0m\u001b[0m\n\u001b[1;32m    130\u001b[0m     \u001b[0;32mfor\u001b[0m \u001b[0mi\u001b[0m \u001b[0;32min\u001b[0m \u001b[0mrange\u001b[0m\u001b[0;34m(\u001b[0m\u001b[0mT\u001b[0m\u001b[0;34m)\u001b[0m\u001b[0;34m:\u001b[0m\u001b[0;34m\u001b[0m\u001b[0;34m\u001b[0m\u001b[0m\n\u001b[0;32m--> 131\u001b[0;31m         \u001b[0mone_step\u001b[0m\u001b[0;34m(\u001b[0m\u001b[0mchameleon\u001b[0m\u001b[0;34m,\u001b[0m \u001b[0mactive_stress\u001b[0m\u001b[0;34m)\u001b[0m\u001b[0;34m\u001b[0m\u001b[0;34m\u001b[0m\u001b[0m\n\u001b[0m",
      "\u001b[0;32m~/Desktop/research/chameleon/simulator/forward_helpers.py\u001b[0m in \u001b[0;36mone_step\u001b[0;34m(chameleon, active_stress)\u001b[0m\n\u001b[1;32m     95\u001b[0m         \u001b[0mActive\u001b[0m \u001b[0mtorque\u001b[0m \u001b[0mspecified\u001b[0m \u001b[0mat\u001b[0m \u001b[0mthis\u001b[0m \u001b[0mmoment\u001b[0m \u001b[0;32min\u001b[0m \u001b[0mtime\u001b[0m\u001b[0;34m.\u001b[0m\u001b[0;34m\u001b[0m\u001b[0;34m\u001b[0m\u001b[0m\n\u001b[1;32m     96\u001b[0m     \"\"\"\n\u001b[0;32m---> 97\u001b[0;31m     \u001b[0mupdate_disp\u001b[0m\u001b[0;34m(\u001b[0m\u001b[0mchameleon\u001b[0m\u001b[0;34m,\u001b[0m \u001b[0mactive_stress\u001b[0m\u001b[0;34m)\u001b[0m\u001b[0;34m\u001b[0m\u001b[0;34m\u001b[0m\u001b[0m\n\u001b[0m\u001b[1;32m     98\u001b[0m     \u001b[0mupdate_pos\u001b[0m\u001b[0;34m(\u001b[0m\u001b[0mchameleon\u001b[0m\u001b[0;34m)\u001b[0m\u001b[0;34m\u001b[0m\u001b[0;34m\u001b[0m\u001b[0m\n\u001b[1;32m     99\u001b[0m     \u001b[0mchameleon\u001b[0m\u001b[0;34m.\u001b[0m\u001b[0mposition_history\u001b[0m\u001b[0;34m.\u001b[0m\u001b[0mappend\u001b[0m\u001b[0;34m(\u001b[0m\u001b[0mchameleon\u001b[0m\u001b[0;34m.\u001b[0m\u001b[0mpos_f\u001b[0m\u001b[0;34m)\u001b[0m\u001b[0;34m\u001b[0m\u001b[0;34m\u001b[0m\u001b[0m\n",
      "\u001b[0;32m~/Desktop/research/chameleon/simulator/forward_helpers.py\u001b[0m in \u001b[0;36mupdate_disp\u001b[0;34m(chameleon, active_stress)\u001b[0m\n\u001b[1;32m     52\u001b[0m     \"\"\"\n\u001b[1;32m     53\u001b[0m     internal_stress = (chameleon.E / chameleon.alpha) * d.second_space_derivative(\n\u001b[0;32m---> 54\u001b[0;31m         \u001b[0mchameleon\u001b[0m\u001b[0;34m.\u001b[0m\u001b[0mdisp_current\u001b[0m\u001b[0;34m,\u001b[0m \u001b[0mchameleon\u001b[0m\u001b[0;34m.\u001b[0m\u001b[0mpos_f\u001b[0m\u001b[0;34m\u001b[0m\u001b[0;34m\u001b[0m\u001b[0m\n\u001b[0m\u001b[1;32m     55\u001b[0m     )\n\u001b[1;32m     56\u001b[0m     external_stress = (1 / chameleon.alpha) * d.first_space_deriv(\n",
      "\u001b[0;32m~/Desktop/research/chameleon/simulator/derivatives.py\u001b[0m in \u001b[0;36msecond_space_derivative\u001b[0;34m(y, x)\u001b[0m\n\u001b[1;32m     83\u001b[0m         \u001b[0mValue\u001b[0m \u001b[0mof\u001b[0m \u001b[0msecond\u001b[0m \u001b[0mderivative\u001b[0m \u001b[0mat\u001b[0m \u001b[0minput\u001b[0m \u001b[0mpositions\u001b[0m\u001b[0;34m.\u001b[0m\u001b[0;34m\u001b[0m\u001b[0;34m\u001b[0m\u001b[0m\n\u001b[1;32m     84\u001b[0m     \"\"\"\n\u001b[0;32m---> 85\u001b[0;31m     \u001b[0mspline\u001b[0m \u001b[0;34m=\u001b[0m \u001b[0mUnivariateSpline\u001b[0m\u001b[0;34m(\u001b[0m\u001b[0mx\u001b[0m\u001b[0;34m,\u001b[0m \u001b[0my\u001b[0m\u001b[0;34m)\u001b[0m\u001b[0;34m\u001b[0m\u001b[0;34m\u001b[0m\u001b[0m\n\u001b[0m\u001b[1;32m     86\u001b[0m     \u001b[0mderiv\u001b[0m \u001b[0;34m=\u001b[0m \u001b[0mspline\u001b[0m\u001b[0;34m.\u001b[0m\u001b[0mderivative\u001b[0m\u001b[0;34m(\u001b[0m\u001b[0mn\u001b[0m\u001b[0;34m=\u001b[0m\u001b[0;36m2\u001b[0m\u001b[0;34m)\u001b[0m\u001b[0;34m(\u001b[0m\u001b[0mx\u001b[0m\u001b[0;34m)\u001b[0m\u001b[0;34m\u001b[0m\u001b[0;34m\u001b[0m\u001b[0m\n\u001b[1;32m     87\u001b[0m     \u001b[0;32mreturn\u001b[0m \u001b[0mderiv\u001b[0m\u001b[0;34m\u001b[0m\u001b[0;34m\u001b[0m\u001b[0m\n",
      "\u001b[0;32m~/Desktop/learnrl/venv/lib/python3.7/site-packages/scipy/interpolate/fitpack2.py\u001b[0m in \u001b[0;36m__init__\u001b[0;34m(self, x, y, w, bbox, k, s, ext, check_finite)\u001b[0m\n\u001b[1;32m    198\u001b[0m \u001b[0;34m\u001b[0m\u001b[0m\n\u001b[1;32m    199\u001b[0m         x, y, w, bbox, self.ext = self.validate_input(x, y, w, bbox, k, s, ext,\n\u001b[0;32m--> 200\u001b[0;31m                                                       check_finite)\n\u001b[0m\u001b[1;32m    201\u001b[0m \u001b[0;34m\u001b[0m\u001b[0m\n\u001b[1;32m    202\u001b[0m         \u001b[0;31m# _data == x,y,w,xb,xe,k,s,n,t,c,fp,fpint,nrdata,ier\u001b[0m\u001b[0;34m\u001b[0m\u001b[0;34m\u001b[0m\u001b[0;34m\u001b[0m\u001b[0m\n",
      "\u001b[0;32m~/Desktop/learnrl/venv/lib/python3.7/site-packages/scipy/interpolate/fitpack2.py\u001b[0m in \u001b[0;36mvalidate_input\u001b[0;34m(x, y, w, bbox, k, s, ext, check_finite)\u001b[0m\n\u001b[1;32m    222\u001b[0m         \u001b[0;32mif\u001b[0m \u001b[0ms\u001b[0m \u001b[0;32mis\u001b[0m \u001b[0;32mNone\u001b[0m \u001b[0;32mor\u001b[0m \u001b[0ms\u001b[0m \u001b[0;34m>\u001b[0m \u001b[0;36m0\u001b[0m\u001b[0;34m:\u001b[0m\u001b[0;34m\u001b[0m\u001b[0;34m\u001b[0m\u001b[0m\n\u001b[1;32m    223\u001b[0m             \u001b[0;32mif\u001b[0m \u001b[0;32mnot\u001b[0m \u001b[0mnp\u001b[0m\u001b[0;34m.\u001b[0m\u001b[0mall\u001b[0m\u001b[0;34m(\u001b[0m\u001b[0mdiff\u001b[0m\u001b[0;34m(\u001b[0m\u001b[0mx\u001b[0m\u001b[0;34m)\u001b[0m \u001b[0;34m>=\u001b[0m \u001b[0;36m0.0\u001b[0m\u001b[0;34m)\u001b[0m\u001b[0;34m:\u001b[0m\u001b[0;34m\u001b[0m\u001b[0;34m\u001b[0m\u001b[0m\n\u001b[0;32m--> 224\u001b[0;31m                 \u001b[0;32mraise\u001b[0m \u001b[0mValueError\u001b[0m\u001b[0;34m(\u001b[0m\u001b[0;34m\"x must be increasing if s > 0\"\u001b[0m\u001b[0;34m)\u001b[0m\u001b[0;34m\u001b[0m\u001b[0;34m\u001b[0m\u001b[0m\n\u001b[0m\u001b[1;32m    225\u001b[0m         \u001b[0;32melse\u001b[0m\u001b[0;34m:\u001b[0m\u001b[0;34m\u001b[0m\u001b[0;34m\u001b[0m\u001b[0m\n\u001b[1;32m    226\u001b[0m             \u001b[0;32mif\u001b[0m \u001b[0;32mnot\u001b[0m \u001b[0mnp\u001b[0m\u001b[0;34m.\u001b[0m\u001b[0mall\u001b[0m\u001b[0;34m(\u001b[0m\u001b[0mdiff\u001b[0m\u001b[0;34m(\u001b[0m\u001b[0mx\u001b[0m\u001b[0;34m)\u001b[0m \u001b[0;34m>\u001b[0m \u001b[0;36m0.0\u001b[0m\u001b[0;34m)\u001b[0m\u001b[0;34m:\u001b[0m\u001b[0;34m\u001b[0m\u001b[0;34m\u001b[0m\u001b[0m\n",
      "\u001b[0;31mValueError\u001b[0m: x must be increasing if s > 0"
     ]
    }
   ],
   "source": [
    "check_env(chameleon)"
   ]
  },
  {
   "cell_type": "code",
   "execution_count": 4,
   "id": "76dc8ef7-d628-4841-99e1-f2c24a268c10",
   "metadata": {},
   "outputs": [],
   "source": [
    "breaking_action = [0.42846936, 0.2765398, 0.9082336]"
   ]
  },
  {
   "cell_type": "code",
   "execution_count": null,
   "id": "c64312e4-2c1b-419d-96a6-01996786975b",
   "metadata": {},
   "outputs": [],
   "source": [
    "breaking"
   ]
  },
  {
   "cell_type": "code",
   "execution_count": 5,
   "id": "81cc46ad-df2d-454f-bbff-8c1d2d859fe5",
   "metadata": {},
   "outputs": [],
   "source": [
    "active_stress = np.array(\n",
    "    [\n",
    "        0.42846936,\n",
    "        0.47040876,\n",
    "        0.53477369,\n",
    "        0.62156414,\n",
    "        0.7307801,\n",
    "        0.86242159,\n",
    "        1.0164886,\n",
    "        1.19298113,\n",
    "        1.39189918,\n",
    "        1.61324275,\n",
    "    ]\n",
    ")\n",
    "# np.save(\"breaking_stress\", active_stress)"
   ]
  },
  {
   "cell_type": "code",
   "execution_count": 7,
   "id": "e554c03b-0820-4afb-816f-3a6d284df956",
   "metadata": {
    "tags": []
   },
   "outputs": [
    {
     "ename": "ValueError",
     "evalue": "x must be increasing if s > 0",
     "output_type": "error",
     "traceback": [
      "\u001b[0;31m---------------------------------------------------------------------------\u001b[0m",
      "\u001b[0;31mValueError\u001b[0m                                Traceback (most recent call last)",
      "\u001b[0;32m/var/folders/7w/j5gl6mrn46jd965bzw_01wh40000gn/T/ipykernel_15650/591595111.py\u001b[0m in \u001b[0;36m<module>\u001b[0;34m\u001b[0m\n\u001b[0;32m----> 1\u001b[0;31m \u001b[0mfh\u001b[0m\u001b[0;34m.\u001b[0m\u001b[0mforward_simulate\u001b[0m\u001b[0;34m(\u001b[0m\u001b[0mchameleon\u001b[0m\u001b[0;34m,\u001b[0m \u001b[0mactive_stress\u001b[0m\u001b[0;34m,\u001b[0m \u001b[0msim_steps\u001b[0m\u001b[0;34m=\u001b[0m\u001b[0msteps\u001b[0m\u001b[0;34m)\u001b[0m\u001b[0;34m\u001b[0m\u001b[0;34m\u001b[0m\u001b[0m\n\u001b[0m",
      "\u001b[0;32m~/Desktop/research/chameleon/simulator/forward_helpers.py\u001b[0m in \u001b[0;36mforward_simulate\u001b[0;34m(chameleon, active_stress, **sim_steps)\u001b[0m\n\u001b[1;32m    129\u001b[0m         \u001b[0mT\u001b[0m \u001b[0;34m=\u001b[0m \u001b[0mchameleon\u001b[0m\u001b[0;34m.\u001b[0m\u001b[0mn_steps\u001b[0m\u001b[0;34m\u001b[0m\u001b[0;34m\u001b[0m\u001b[0m\n\u001b[1;32m    130\u001b[0m     \u001b[0;32mfor\u001b[0m \u001b[0mi\u001b[0m \u001b[0;32min\u001b[0m \u001b[0mrange\u001b[0m\u001b[0;34m(\u001b[0m\u001b[0mT\u001b[0m\u001b[0;34m)\u001b[0m\u001b[0;34m:\u001b[0m\u001b[0;34m\u001b[0m\u001b[0;34m\u001b[0m\u001b[0m\n\u001b[0;32m--> 131\u001b[0;31m         \u001b[0mone_step\u001b[0m\u001b[0;34m(\u001b[0m\u001b[0mchameleon\u001b[0m\u001b[0;34m,\u001b[0m \u001b[0mactive_stress\u001b[0m\u001b[0;34m)\u001b[0m\u001b[0;34m\u001b[0m\u001b[0;34m\u001b[0m\u001b[0m\n\u001b[0m",
      "\u001b[0;32m~/Desktop/research/chameleon/simulator/forward_helpers.py\u001b[0m in \u001b[0;36mone_step\u001b[0;34m(chameleon, active_stress)\u001b[0m\n\u001b[1;32m     95\u001b[0m         \u001b[0mActive\u001b[0m \u001b[0mtorque\u001b[0m \u001b[0mspecified\u001b[0m \u001b[0mat\u001b[0m \u001b[0mthis\u001b[0m \u001b[0mmoment\u001b[0m \u001b[0;32min\u001b[0m \u001b[0mtime\u001b[0m\u001b[0;34m.\u001b[0m\u001b[0;34m\u001b[0m\u001b[0;34m\u001b[0m\u001b[0m\n\u001b[1;32m     96\u001b[0m     \"\"\"\n\u001b[0;32m---> 97\u001b[0;31m     \u001b[0mupdate_disp\u001b[0m\u001b[0;34m(\u001b[0m\u001b[0mchameleon\u001b[0m\u001b[0;34m,\u001b[0m \u001b[0mactive_stress\u001b[0m\u001b[0;34m)\u001b[0m\u001b[0;34m\u001b[0m\u001b[0;34m\u001b[0m\u001b[0m\n\u001b[0m\u001b[1;32m     98\u001b[0m     \u001b[0mupdate_pos\u001b[0m\u001b[0;34m(\u001b[0m\u001b[0mchameleon\u001b[0m\u001b[0;34m)\u001b[0m\u001b[0;34m\u001b[0m\u001b[0;34m\u001b[0m\u001b[0m\n\u001b[1;32m     99\u001b[0m     \u001b[0mchameleon\u001b[0m\u001b[0;34m.\u001b[0m\u001b[0mposition_history\u001b[0m\u001b[0;34m.\u001b[0m\u001b[0mappend\u001b[0m\u001b[0;34m(\u001b[0m\u001b[0mchameleon\u001b[0m\u001b[0;34m.\u001b[0m\u001b[0mpos_f\u001b[0m\u001b[0;34m)\u001b[0m\u001b[0;34m\u001b[0m\u001b[0;34m\u001b[0m\u001b[0m\n",
      "\u001b[0;32m~/Desktop/research/chameleon/simulator/forward_helpers.py\u001b[0m in \u001b[0;36mupdate_disp\u001b[0;34m(chameleon, active_stress)\u001b[0m\n\u001b[1;32m     52\u001b[0m     \"\"\"\n\u001b[1;32m     53\u001b[0m     internal_stress = (chameleon.E / chameleon.alpha) * d.second_space_derivative(\n\u001b[0;32m---> 54\u001b[0;31m         \u001b[0mchameleon\u001b[0m\u001b[0;34m.\u001b[0m\u001b[0mdisp_current\u001b[0m\u001b[0;34m,\u001b[0m \u001b[0mchameleon\u001b[0m\u001b[0;34m.\u001b[0m\u001b[0mpos_f\u001b[0m\u001b[0;34m\u001b[0m\u001b[0;34m\u001b[0m\u001b[0m\n\u001b[0m\u001b[1;32m     55\u001b[0m     )\n\u001b[1;32m     56\u001b[0m     external_stress = (1 / chameleon.alpha) * d.first_space_deriv(\n",
      "\u001b[0;32m~/Desktop/research/chameleon/simulator/derivatives.py\u001b[0m in \u001b[0;36msecond_space_derivative\u001b[0;34m(y, x)\u001b[0m\n\u001b[1;32m     83\u001b[0m         \u001b[0mValue\u001b[0m \u001b[0mof\u001b[0m \u001b[0msecond\u001b[0m \u001b[0mderivative\u001b[0m \u001b[0mat\u001b[0m \u001b[0minput\u001b[0m \u001b[0mpositions\u001b[0m\u001b[0;34m.\u001b[0m\u001b[0;34m\u001b[0m\u001b[0;34m\u001b[0m\u001b[0m\n\u001b[1;32m     84\u001b[0m     \"\"\"\n\u001b[0;32m---> 85\u001b[0;31m     \u001b[0mspline\u001b[0m \u001b[0;34m=\u001b[0m \u001b[0mUnivariateSpline\u001b[0m\u001b[0;34m(\u001b[0m\u001b[0mx\u001b[0m\u001b[0;34m,\u001b[0m \u001b[0my\u001b[0m\u001b[0;34m)\u001b[0m\u001b[0;34m\u001b[0m\u001b[0;34m\u001b[0m\u001b[0m\n\u001b[0m\u001b[1;32m     86\u001b[0m     \u001b[0mderiv\u001b[0m \u001b[0;34m=\u001b[0m \u001b[0mspline\u001b[0m\u001b[0;34m.\u001b[0m\u001b[0mderivative\u001b[0m\u001b[0;34m(\u001b[0m\u001b[0mn\u001b[0m\u001b[0;34m=\u001b[0m\u001b[0;36m2\u001b[0m\u001b[0;34m)\u001b[0m\u001b[0;34m(\u001b[0m\u001b[0mx\u001b[0m\u001b[0;34m)\u001b[0m\u001b[0;34m\u001b[0m\u001b[0;34m\u001b[0m\u001b[0m\n\u001b[1;32m     87\u001b[0m     \u001b[0;32mreturn\u001b[0m \u001b[0mderiv\u001b[0m\u001b[0;34m\u001b[0m\u001b[0;34m\u001b[0m\u001b[0m\n",
      "\u001b[0;32m~/Desktop/learnrl/venv/lib/python3.7/site-packages/scipy/interpolate/fitpack2.py\u001b[0m in \u001b[0;36m__init__\u001b[0;34m(self, x, y, w, bbox, k, s, ext, check_finite)\u001b[0m\n\u001b[1;32m    198\u001b[0m \u001b[0;34m\u001b[0m\u001b[0m\n\u001b[1;32m    199\u001b[0m         x, y, w, bbox, self.ext = self.validate_input(x, y, w, bbox, k, s, ext,\n\u001b[0;32m--> 200\u001b[0;31m                                                       check_finite)\n\u001b[0m\u001b[1;32m    201\u001b[0m \u001b[0;34m\u001b[0m\u001b[0m\n\u001b[1;32m    202\u001b[0m         \u001b[0;31m# _data == x,y,w,xb,xe,k,s,n,t,c,fp,fpint,nrdata,ier\u001b[0m\u001b[0;34m\u001b[0m\u001b[0;34m\u001b[0m\u001b[0;34m\u001b[0m\u001b[0m\n",
      "\u001b[0;32m~/Desktop/learnrl/venv/lib/python3.7/site-packages/scipy/interpolate/fitpack2.py\u001b[0m in \u001b[0;36mvalidate_input\u001b[0;34m(x, y, w, bbox, k, s, ext, check_finite)\u001b[0m\n\u001b[1;32m    222\u001b[0m         \u001b[0;32mif\u001b[0m \u001b[0ms\u001b[0m \u001b[0;32mis\u001b[0m \u001b[0;32mNone\u001b[0m \u001b[0;32mor\u001b[0m \u001b[0ms\u001b[0m \u001b[0;34m>\u001b[0m \u001b[0;36m0\u001b[0m\u001b[0;34m:\u001b[0m\u001b[0;34m\u001b[0m\u001b[0;34m\u001b[0m\u001b[0m\n\u001b[1;32m    223\u001b[0m             \u001b[0;32mif\u001b[0m \u001b[0;32mnot\u001b[0m \u001b[0mnp\u001b[0m\u001b[0;34m.\u001b[0m\u001b[0mall\u001b[0m\u001b[0;34m(\u001b[0m\u001b[0mdiff\u001b[0m\u001b[0;34m(\u001b[0m\u001b[0mx\u001b[0m\u001b[0;34m)\u001b[0m \u001b[0;34m>=\u001b[0m \u001b[0;36m0.0\u001b[0m\u001b[0;34m)\u001b[0m\u001b[0;34m:\u001b[0m\u001b[0;34m\u001b[0m\u001b[0;34m\u001b[0m\u001b[0m\n\u001b[0;32m--> 224\u001b[0;31m                 \u001b[0;32mraise\u001b[0m \u001b[0mValueError\u001b[0m\u001b[0;34m(\u001b[0m\u001b[0;34m\"x must be increasing if s > 0\"\u001b[0m\u001b[0;34m)\u001b[0m\u001b[0;34m\u001b[0m\u001b[0;34m\u001b[0m\u001b[0m\n\u001b[0m\u001b[1;32m    225\u001b[0m         \u001b[0;32melse\u001b[0m\u001b[0;34m:\u001b[0m\u001b[0;34m\u001b[0m\u001b[0;34m\u001b[0m\u001b[0m\n\u001b[1;32m    226\u001b[0m             \u001b[0;32mif\u001b[0m \u001b[0;32mnot\u001b[0m \u001b[0mnp\u001b[0m\u001b[0;34m.\u001b[0m\u001b[0mall\u001b[0m\u001b[0;34m(\u001b[0m\u001b[0mdiff\u001b[0m\u001b[0;34m(\u001b[0m\u001b[0mx\u001b[0m\u001b[0;34m)\u001b[0m \u001b[0;34m>\u001b[0m \u001b[0;36m0.0\u001b[0m\u001b[0;34m)\u001b[0m\u001b[0;34m:\u001b[0m\u001b[0;34m\u001b[0m\u001b[0;34m\u001b[0m\u001b[0m\n",
      "\u001b[0;31mValueError\u001b[0m: x must be increasing if s > 0"
     ]
    }
   ],
   "source": [
    "fh.forward_simulate(chameleon, active_stress, sim_steps=steps)"
   ]
  },
  {
   "cell_type": "code",
   "execution_count": 8,
   "id": "80ac7b76-326f-471c-b3df-dcef6639b191",
   "metadata": {},
   "outputs": [
    {
     "data": {
      "text/plain": [
       "deque([array([0.        , 0.11111111, 0.22222222, 0.33333333, 0.44444444,\n",
       "              0.55555556, 0.66666667, 0.77777778, 0.88888889, 1.        ]),\n",
       "       array([0.        , 0.11158948, 0.22290242, 0.33421536, 0.4455283 ,\n",
       "              0.55684124, 0.66815418, 0.77946713, 0.89078007, 0.82264198])])"
      ]
     },
     "execution_count": 8,
     "metadata": {},
     "output_type": "execute_result"
    }
   ],
   "source": [
    "chameleon.position_history"
   ]
  },
  {
   "cell_type": "code",
   "execution_count": 9,
   "id": "cfa1b019-5c03-4156-a7ec-c890d37b8cd0",
   "metadata": {},
   "outputs": [
    {
     "data": {
      "text/plain": [
       "deque([array([0., 0., 0., 0., 0., 0., 0., 0., 0., 0.]),\n",
       "       array([ 0.        ,  0.00047837,  0.0006802 ,  0.00088203,  0.00108386,\n",
       "               0.00128569,  0.00148752,  0.00168935,  0.00189118, -0.17735802])])"
      ]
     },
     "execution_count": 9,
     "metadata": {},
     "output_type": "execute_result"
    }
   ],
   "source": [
    "chameleon.displacement_history"
   ]
  },
  {
   "cell_type": "code",
   "execution_count": null,
   "id": "dabc030a-5a5c-4b3d-b83d-8d0ef3b96b7f",
   "metadata": {},
   "outputs": [],
   "source": [
    "# # Create environment\n",
    "# env = Chameleon(E=10, n_elems=n_elems)\n",
    "\n",
    "# # Instantiate the agent\n",
    "# model = DDPG(\"MlpPolicy\", env, verbose=1)\n",
    "# # Train the agent\n",
    "# model.learn(total_timesteps=int(20))"
   ]
  },
  {
   "cell_type": "markdown",
   "id": "e57c80e9-f007-4ec1-95fa-41b1f854be2e",
   "metadata": {},
   "source": [
    "## Is this is too slow? In order to do RL I may need to be able to simulate much faster than this. (Jax?)"
   ]
  },
  {
   "cell_type": "markdown",
   "id": "e4fe260c-f759-4c74-867d-c15e0a67c3d5",
   "metadata": {},
   "source": [
    "## There seems to be an issue when the stress is not monotonically increasing (actually more complex than this). The second element often ends up behind the first and as a result the sim crashes. I am not exactly sure why it is happening but it is clearly related to the boundary condition being imposed on the first element. If I then try to make sure the second element is always beyond the first, the third element goes behind the second. I think the issue is related to the stress on the first element causing a high force since the 0->1 element gets stretched a lot and it may be less than the stress from the 1->2 element. If the active stress is not enough to overcome that, then the second element would move to the left and maybe end up behind the first element. \n",
    "\n",
    "Actually i don't buy that argument because then a uniform stress might also cause this issue. In that case we would have a large stress from the stretching 0->1 element and if the active stress wasn't enough to overcome it we could end up with the same issue. But whenever I run uniform simulations I don't see that problem (no matter the magnitude of the active stress).\n",
    "\n",
    "One way to debug is to save the NET force (and component forces maybe) on each element at each point in time and to see what happens. \n",
    "\n",
    "# I think its the Derivative of $\\sigma$ that's important here."
   ]
  },
  {
   "cell_type": "markdown",
   "id": "41b3bdaf-f3a8-4af8-957e-5210f6ddcc8f",
   "metadata": {},
   "source": [
    "## Why do the elements come in after the first time step? \n",
    "\n",
    "Then after the first time step is over they move out as expected. Strange. It's only the element on the end and it comes from satisfying the boundary condition."
   ]
  },
  {
   "cell_type": "code",
   "execution_count": null,
   "id": "5cea9e73-5b34-451d-82bb-2f337524e90c",
   "metadata": {},
   "outputs": [],
   "source": [
    "chameleon.position_history[0]"
   ]
  },
  {
   "cell_type": "code",
   "execution_count": null,
   "id": "34dc8412-54c8-4095-a0f7-fa9494367faf",
   "metadata": {},
   "outputs": [],
   "source": [
    "chameleon.position_history[1]"
   ]
  },
  {
   "cell_type": "code",
   "execution_count": null,
   "id": "f84d9326-3148-449a-af8a-93aa6d0784ba",
   "metadata": {},
   "outputs": [],
   "source": [
    "chameleon.position_history[2]"
   ]
  },
  {
   "cell_type": "markdown",
   "id": "5df2593d-e8ee-4620-a89f-d33f45f0e78d",
   "metadata": {},
   "source": [
    "# some hacky code to store the position history for later visualization.\n"
   ]
  },
  {
   "cell_type": "code",
   "execution_count": null,
   "id": "2c4cb66c-3d14-4e93-8d24-2424313378ab",
   "metadata": {},
   "outputs": [],
   "source": [
    "history = []\n",
    "for i in range(len(chameleon.position_history)):\n",
    "    x_p = chameleon.position_history[i]\n",
    "    y = np.zeros(chameleon.n_elems)\n",
    "    ar = np.vstack((x_p, y)).T\n",
    "    history.append(ar)\n",
    "\n",
    "with open(\"history.txt\", \"wb\") as fp:\n",
    "    pickle.dump(history, fp)"
   ]
  }
 ],
 "metadata": {
  "kernelspec": {
   "display_name": "rl_env",
   "language": "python",
   "name": "rl_env"
  },
  "language_info": {
   "codemirror_mode": {
    "name": "ipython",
    "version": 3
   },
   "file_extension": ".py",
   "mimetype": "text/x-python",
   "name": "python",
   "nbconvert_exporter": "python",
   "pygments_lexer": "ipython3",
   "version": "3.7.4"
  }
 },
 "nbformat": 4,
 "nbformat_minor": 5
}
