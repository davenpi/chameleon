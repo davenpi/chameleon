{
 "cells": [
  {
   "cell_type": "code",
   "execution_count": 1,
   "id": "1e4c6178-deed-4d49-9335-2725e208967b",
   "metadata": {},
   "outputs": [],
   "source": [
    "%reset -f\n",
    "import time\n",
    "import pickle\n",
    "import gym\n",
    "from scipy.interpolate import UnivariateSpline\n",
    "from stable_baselines3 import DDPG\n",
    "import matplotlib.pyplot as plt\n",
    "from stable_baselines3.common.env_checker import check_env\n",
    "import numpy as np\n",
    "from tqdm import tqdm\n",
    "import derivatives as d\n",
    "import forward_helpers as fh\n",
    "from chameleon import Chameleon"
   ]
  },
  {
   "cell_type": "code",
   "execution_count": 2,
   "id": "b243f895-9e98-4dec-bf20-5680d1b1b688",
   "metadata": {},
   "outputs": [],
   "source": [
    "n_elems = 10\n",
    "steps = 1000\n",
    "chameleon = Chameleon(E=100, n_elems=n_elems)"
   ]
  },
  {
   "cell_type": "code",
   "execution_count": 4,
   "id": "5a7133ce-9e88-4dc3-84fe-c991f7b77096",
   "metadata": {},
   "outputs": [
    {
     "data": {
      "text/plain": [
       "\u001b[0;31mSignature:\u001b[0m \u001b[0mfh\u001b[0m\u001b[0;34m.\u001b[0m\u001b[0mupdate_disp\u001b[0m\u001b[0;34m(\u001b[0m\u001b[0mchameleon\u001b[0m\u001b[0;34m,\u001b[0m \u001b[0mactive_stress\u001b[0m\u001b[0;34m:\u001b[0m \u001b[0mnumpy\u001b[0m\u001b[0;34m.\u001b[0m\u001b[0mndarray\u001b[0m\u001b[0;34m)\u001b[0m\u001b[0;34m\u001b[0m\u001b[0;34m\u001b[0m\u001b[0m\n",
       "\u001b[0;31mSource:\u001b[0m   \n",
       "\u001b[0;32mdef\u001b[0m \u001b[0mupdate_disp\u001b[0m\u001b[0;34m(\u001b[0m\u001b[0mchameleon\u001b[0m\u001b[0;34m,\u001b[0m \u001b[0mactive_stress\u001b[0m\u001b[0;34m:\u001b[0m \u001b[0mnp\u001b[0m\u001b[0;34m.\u001b[0m\u001b[0mndarray\u001b[0m\u001b[0;34m)\u001b[0m\u001b[0;34m:\u001b[0m\u001b[0;34m\u001b[0m\n",
       "\u001b[0;34m\u001b[0m    \u001b[0;34m\"\"\"\u001b[0m\n",
       "\u001b[0;34m    Update the displacement using the dynamical equation of motion.\u001b[0m\n",
       "\u001b[0;34m\u001b[0m\n",
       "\u001b[0;34m    Our equation of motion is E*d^2u/dx^2 + d(sigma_a)/dx = alpha * du/dt\u001b[0m\n",
       "\u001b[0;34m    In general we know that u(t) = u(t-1) + delta_t * du/dt so we use the\u001b[0m\n",
       "\u001b[0;34m    equation of motion laid out above to give an update rule for u.\u001b[0m\n",
       "\u001b[0;34m    First we compute the internal force which is the second derivative\u001b[0m\n",
       "\u001b[0;34m    of displacement with respect to position. Then we compute the external\u001b[0m\n",
       "\u001b[0;34m    force which is the derivative of the externally applied stress with\u001b[0m\n",
       "\u001b[0;34m    respect to position. Since the sum of those two (times some constants)\u001b[0m\n",
       "\u001b[0;34m    is equal to du/dt, we update u using the computed spatial derivatives\u001b[0m\n",
       "\u001b[0;34m    times the appropriate constants. In the end we need to make sure the\u001b[0m\n",
       "\u001b[0;34m    point on the left end of the rod is stationary so we manually set it's\u001b[0m\n",
       "\u001b[0;34m    displacement to zero and we need to make sure that Edu/dx=-singma_a at\u001b[0m\n",
       "\u001b[0;34m    the right end. I am using a trick described\u001b[0m\n",
       "\u001b[0;34m    http://hplgit.github.io/prog4comp/doc/pub/p4c-sphinx-Python/._pylight006.html\u001b[0m\n",
       "\u001b[0;34m    to ensure that the derivative boundary condition is satisfied.\u001b[0m\n",
       "\u001b[0;34m\u001b[0m\n",
       "\u001b[0;34m    Parameters\u001b[0m\n",
       "\u001b[0;34m    ----------\u001b[0m\n",
       "\u001b[0;34m    chameleon :\u001b[0m\n",
       "\u001b[0;34m        Chameleon object whose tongue we are simulating.\u001b[0m\n",
       "\u001b[0;34m    active_stress : np.ndarray\u001b[0m\n",
       "\u001b[0;34m        Externally applied stress.\u001b[0m\n",
       "\u001b[0;34m    \"\"\"\u001b[0m\u001b[0;34m\u001b[0m\n",
       "\u001b[0;34m\u001b[0m\u001b[0;34m\u001b[0m\n",
       "\u001b[0;34m\u001b[0m    \u001b[0minternal_term\u001b[0m \u001b[0;34m=\u001b[0m \u001b[0;34m(\u001b[0m\u001b[0mchameleon\u001b[0m\u001b[0;34m.\u001b[0m\u001b[0mE\u001b[0m \u001b[0;34m/\u001b[0m \u001b[0mchameleon\u001b[0m\u001b[0;34m.\u001b[0m\u001b[0malpha\u001b[0m\u001b[0;34m)\u001b[0m \u001b[0;34m*\u001b[0m \u001b[0md\u001b[0m\u001b[0;34m.\u001b[0m\u001b[0msecond_space_derivative\u001b[0m\u001b[0;34m(\u001b[0m\u001b[0;34m\u001b[0m\n",
       "\u001b[0;34m\u001b[0m        \u001b[0mchameleon\u001b[0m\u001b[0;34m.\u001b[0m\u001b[0mdisp_current\u001b[0m\u001b[0;34m,\u001b[0m \u001b[0mchameleon\u001b[0m\u001b[0;34m.\u001b[0m\u001b[0mpos_0\u001b[0m\u001b[0;34m\u001b[0m\n",
       "\u001b[0;34m\u001b[0m    \u001b[0;34m)\u001b[0m\u001b[0;34m\u001b[0m\n",
       "\u001b[0;34m\u001b[0m    \u001b[0mexternal_term\u001b[0m \u001b[0;34m=\u001b[0m \u001b[0;34m(\u001b[0m\u001b[0;36m1\u001b[0m \u001b[0;34m/\u001b[0m \u001b[0mchameleon\u001b[0m\u001b[0;34m.\u001b[0m\u001b[0malpha\u001b[0m\u001b[0;34m)\u001b[0m \u001b[0;34m*\u001b[0m \u001b[0md\u001b[0m\u001b[0;34m.\u001b[0m\u001b[0mfirst_space_deriv\u001b[0m\u001b[0;34m(\u001b[0m\u001b[0;34m\u001b[0m\n",
       "\u001b[0;34m\u001b[0m        \u001b[0mactive_stress\u001b[0m\u001b[0;34m,\u001b[0m \u001b[0mchameleon\u001b[0m\u001b[0;34m.\u001b[0m\u001b[0mpos_0\u001b[0m\u001b[0;34m\u001b[0m\n",
       "\u001b[0;34m\u001b[0m    \u001b[0;34m)\u001b[0m\u001b[0;34m\u001b[0m\n",
       "\u001b[0;34m\u001b[0m    \u001b[0;31m#dx = chameleon.pos_f[-1] - chameleon.pos_f[-2]\u001b[0m\u001b[0;34m\u001b[0m\n",
       "\u001b[0;34m\u001b[0m    \u001b[0mdx\u001b[0m \u001b[0;34m=\u001b[0m \u001b[0mchameleon\u001b[0m\u001b[0;34m.\u001b[0m\u001b[0mpos_0\u001b[0m\u001b[0;34m[\u001b[0m\u001b[0;34m-\u001b[0m\u001b[0;36m1\u001b[0m\u001b[0;34m]\u001b[0m \u001b[0;34m-\u001b[0m \u001b[0mchameleon\u001b[0m\u001b[0;34m.\u001b[0m\u001b[0mpos_0\u001b[0m\u001b[0;34m[\u001b[0m\u001b[0;34m-\u001b[0m\u001b[0;36m2\u001b[0m\u001b[0;34m]\u001b[0m\u001b[0;34m\u001b[0m\n",
       "\u001b[0;34m\u001b[0m    \u001b[0;31m# update = (chameleon.dt / chameleon.alpha) * (\u001b[0m\u001b[0;34m\u001b[0m\n",
       "\u001b[0;34m\u001b[0m    \u001b[0;31m#     active_stress[-1]\u001b[0m\u001b[0;34m\u001b[0m\n",
       "\u001b[0;34m\u001b[0m    \u001b[0;31m#     + chameleon.E\u001b[0m\u001b[0;34m\u001b[0m\n",
       "\u001b[0;34m\u001b[0m    \u001b[0;31m#     * (\u001b[0m\u001b[0;34m\u001b[0m\n",
       "\u001b[0;34m\u001b[0m    \u001b[0;31m#         2 * chameleon.disp_current[-2]\u001b[0m\u001b[0;34m\u001b[0m\n",
       "\u001b[0;34m\u001b[0m    \u001b[0;31m#         - 2 * chameleon.disp_current[-1]\u001b[0m\u001b[0;34m\u001b[0m\n",
       "\u001b[0;34m\u001b[0m    \u001b[0;31m#         - (2 * dx * active_stress[-1]) / (chameleon.E)\u001b[0m\u001b[0;34m\u001b[0m\n",
       "\u001b[0;34m\u001b[0m    \u001b[0;31m#     )\u001b[0m\u001b[0;34m\u001b[0m\n",
       "\u001b[0;34m\u001b[0m    \u001b[0;31m#     / (dx ** 2)\u001b[0m\u001b[0;34m\u001b[0m\n",
       "\u001b[0;34m\u001b[0m    \u001b[0;31m# )\u001b[0m\u001b[0;34m\u001b[0m\n",
       "\u001b[0;34m\u001b[0m    \u001b[0;31m# last_element_disp = chameleon.disp_current[-1] + update\u001b[0m\u001b[0;34m\u001b[0m\n",
       "\u001b[0;34m\u001b[0m    \u001b[0mnew_disp\u001b[0m \u001b[0;34m=\u001b[0m \u001b[0mchameleon\u001b[0m\u001b[0;34m.\u001b[0m\u001b[0mdisp_current\u001b[0m \u001b[0;34m+\u001b[0m \u001b[0mchameleon\u001b[0m\u001b[0;34m.\u001b[0m\u001b[0mdt\u001b[0m \u001b[0;34m*\u001b[0m \u001b[0;34m(\u001b[0m\u001b[0minternal_term\u001b[0m \u001b[0;34m+\u001b[0m \u001b[0mexternal_term\u001b[0m\u001b[0;34m)\u001b[0m\u001b[0;34m\u001b[0m\n",
       "\u001b[0;34m\u001b[0m    \u001b[0mlast_element_disp\u001b[0m \u001b[0;34m=\u001b[0m \u001b[0;34m(\u001b[0m\u001b[0;34m-\u001b[0m\u001b[0mactive_stress\u001b[0m\u001b[0;34m[\u001b[0m\u001b[0;34m-\u001b[0m\u001b[0;36m1\u001b[0m\u001b[0;34m]\u001b[0m \u001b[0;34m*\u001b[0m \u001b[0mdx\u001b[0m\u001b[0;34m)\u001b[0m \u001b[0;34m/\u001b[0m \u001b[0;34m(\u001b[0m\u001b[0mchameleon\u001b[0m\u001b[0;34m.\u001b[0m\u001b[0mE\u001b[0m\u001b[0;34m)\u001b[0m \u001b[0;34m+\u001b[0m \u001b[0mnew_disp\u001b[0m\u001b[0;34m[\u001b[0m\u001b[0;34m-\u001b[0m\u001b[0;36m2\u001b[0m\u001b[0;34m]\u001b[0m\u001b[0;34m\u001b[0m\n",
       "\u001b[0;34m\u001b[0m    \u001b[0;31m# satisfying boundary conditions\u001b[0m\u001b[0;34m\u001b[0m\n",
       "\u001b[0;34m\u001b[0m    \u001b[0mnew_disp\u001b[0m\u001b[0;34m[\u001b[0m\u001b[0;36m0\u001b[0m\u001b[0;34m]\u001b[0m \u001b[0;34m=\u001b[0m \u001b[0;36m0\u001b[0m\u001b[0;34m\u001b[0m\n",
       "\u001b[0;34m\u001b[0m    \u001b[0mnew_disp\u001b[0m\u001b[0;34m[\u001b[0m\u001b[0;34m-\u001b[0m\u001b[0;36m1\u001b[0m\u001b[0;34m]\u001b[0m \u001b[0;34m=\u001b[0m \u001b[0mlast_element_disp\u001b[0m\u001b[0;34m\u001b[0m\n",
       "\u001b[0;34m\u001b[0m    \u001b[0mchameleon\u001b[0m\u001b[0;34m.\u001b[0m\u001b[0mdisp_previous\u001b[0m \u001b[0;34m=\u001b[0m \u001b[0mchameleon\u001b[0m\u001b[0;34m.\u001b[0m\u001b[0mdisp_current\u001b[0m\u001b[0;34m\u001b[0m\n",
       "\u001b[0;34m\u001b[0m    \u001b[0mchameleon\u001b[0m\u001b[0;34m.\u001b[0m\u001b[0mdisp_current\u001b[0m \u001b[0;34m=\u001b[0m \u001b[0mnew_disp\u001b[0m\u001b[0;34m\u001b[0m\n",
       "\u001b[0;34m\u001b[0m    \u001b[0mchameleon\u001b[0m\u001b[0;34m.\u001b[0m\u001b[0mactive_stress_history\u001b[0m\u001b[0;34m.\u001b[0m\u001b[0mappend\u001b[0m\u001b[0;34m(\u001b[0m\u001b[0mactive_stress\u001b[0m\u001b[0;34m)\u001b[0m\u001b[0;34m\u001b[0m\u001b[0;34m\u001b[0m\u001b[0m\n",
       "\u001b[0;31mFile:\u001b[0m      ~/Desktop/research/chameleon/simulator/forward_helpers.py\n",
       "\u001b[0;31mType:\u001b[0m      function\n"
      ]
     },
     "metadata": {},
     "output_type": "display_data"
    }
   ],
   "source": [
    "??fh.update_disp"
   ]
  },
  {
   "cell_type": "code",
   "execution_count": 5,
   "id": "76dc8ef7-d628-4841-99e1-f2c24a268c10",
   "metadata": {},
   "outputs": [],
   "source": [
    "# breaking_action = [0.42846936, 0.2765398, 0.9082336 ]"
   ]
  },
  {
   "cell_type": "code",
   "execution_count": 6,
   "id": "81cc46ad-df2d-454f-bbff-8c1d2d859fe5",
   "metadata": {},
   "outputs": [],
   "source": [
    "# E = 1, 10 works E = 0.1, 100 breaks\n",
    "active_stress = np.array(\n",
    "    [\n",
    "        0.42846936,\n",
    "        0.47040876,\n",
    "        0.53477369,\n",
    "        0.62156414,\n",
    "        0.7307801,\n",
    "        0.86242159,\n",
    "        1.0164886,\n",
    "        1.19298113,\n",
    "        1.39189918,\n",
    "        1.61324275,\n",
    "    ]\n",
    ")\n",
    "\n",
    "# np.save(\"breaking_stress\", active_stress)"
   ]
  },
  {
   "cell_type": "code",
   "execution_count": 7,
   "id": "e554c03b-0820-4afb-816f-3a6d284df956",
   "metadata": {
    "tags": []
   },
   "outputs": [
    {
     "ename": "ValueError",
     "evalue": "The rod elements have become out of order",
     "output_type": "error",
     "traceback": [
      "\u001b[0;31m---------------------------------------------------------------------------\u001b[0m",
      "\u001b[0;31mValueError\u001b[0m                                Traceback (most recent call last)",
      "\u001b[0;32m/var/folders/7w/j5gl6mrn46jd965bzw_01wh40000gn/T/ipykernel_23355/591595111.py\u001b[0m in \u001b[0;36m<module>\u001b[0;34m\u001b[0m\n\u001b[0;32m----> 1\u001b[0;31m \u001b[0mfh\u001b[0m\u001b[0;34m.\u001b[0m\u001b[0mforward_simulate\u001b[0m\u001b[0;34m(\u001b[0m\u001b[0mchameleon\u001b[0m\u001b[0;34m,\u001b[0m \u001b[0mactive_stress\u001b[0m\u001b[0;34m,\u001b[0m \u001b[0msim_steps\u001b[0m\u001b[0;34m=\u001b[0m\u001b[0msteps\u001b[0m\u001b[0;34m)\u001b[0m\u001b[0;34m\u001b[0m\u001b[0;34m\u001b[0m\u001b[0m\n\u001b[0m",
      "\u001b[0;32m~/Desktop/research/chameleon/simulator/forward_helpers.py\u001b[0m in \u001b[0;36mforward_simulate\u001b[0;34m(chameleon, active_stress, **sim_steps)\u001b[0m\n\u001b[1;32m    132\u001b[0m             \u001b[0mone_step\u001b[0m\u001b[0;34m(\u001b[0m\u001b[0mchameleon\u001b[0m\u001b[0;34m,\u001b[0m \u001b[0mactive_stress\u001b[0m\u001b[0;34m)\u001b[0m\u001b[0;34m\u001b[0m\u001b[0;34m\u001b[0m\u001b[0m\n\u001b[1;32m    133\u001b[0m         \u001b[0;32melse\u001b[0m\u001b[0;34m:\u001b[0m\u001b[0;34m\u001b[0m\u001b[0;34m\u001b[0m\u001b[0m\n\u001b[0;32m--> 134\u001b[0;31m             \u001b[0;32mraise\u001b[0m \u001b[0mValueError\u001b[0m\u001b[0;34m(\u001b[0m\u001b[0;34m\"The rod elements have become out of order\"\u001b[0m\u001b[0;34m)\u001b[0m\u001b[0;34m\u001b[0m\u001b[0;34m\u001b[0m\u001b[0m\n\u001b[0m",
      "\u001b[0;31mValueError\u001b[0m: The rod elements have become out of order"
     ]
    }
   ],
   "source": [
    "fh.forward_simulate(chameleon, active_stress, sim_steps=steps)"
   ]
  },
  {
   "cell_type": "code",
   "execution_count": 8,
   "id": "69c3d47c-4393-4f31-92b5-c1b735870da7",
   "metadata": {},
   "outputs": [
    {
     "data": {
      "text/plain": [
       "array([0.        , 0.0034091 , 0.21917334, 0.35261967, 0.40374809,\n",
       "       0.5450082 , 0.77640002, 0.8451943 , 0.75139105, 0.86070967])"
      ]
     },
     "execution_count": 8,
     "metadata": {},
     "output_type": "execute_result"
    }
   ],
   "source": [
    "chameleon.pos_f"
   ]
  },
  {
   "cell_type": "code",
   "execution_count": 9,
   "id": "ffd69b21-844f-41e5-a88e-331d9047c29b",
   "metadata": {},
   "outputs": [
    {
     "data": {
      "text/plain": [
       "deque([array([0.        , 0.11111111, 0.22222222, 0.33333333, 0.44444444,\n",
       "              0.55555556, 0.66666667, 0.77777778, 0.88888889, 1.        ]),\n",
       "       array([0.        , 0.11158948, 0.22290242, 0.33421536, 0.4455283 ,\n",
       "              0.55684124, 0.66815418, 0.77946713, 0.89078007, 1.00009869]),\n",
       "       array([0.        , 0.11038787, 0.22302263, 0.33509739, 0.44661216,\n",
       "              0.55812693, 0.6696417 , 0.77711797, 0.88055574, 0.98987436]),\n",
       "       array([0.        , 0.12338209, 0.22485081, 0.33257746, 0.44656203,\n",
       "              0.55123466, 0.64659533, 0.76618215, 0.90999512, 1.01931374]),\n",
       "       array([0.        , 0.0034091 , 0.21917334, 0.35261967, 0.40374809,\n",
       "              0.5450082 , 0.77640002, 0.8451943 , 0.75139105, 0.86070967])])"
      ]
     },
     "execution_count": 9,
     "metadata": {},
     "output_type": "execute_result"
    }
   ],
   "source": [
    "chameleon.position_history"
   ]
  },
  {
   "cell_type": "code",
   "execution_count": null,
   "id": "7c62b00a-e183-4b01-abab-f4bcd511d83f",
   "metadata": {},
   "outputs": [],
   "source": [
    "x = chameleon.pos_0"
   ]
  },
  {
   "cell_type": "code",
   "execution_count": null,
   "id": "f4387bb6-b976-4705-905a-f45b9f13cdb9",
   "metadata": {},
   "outputs": [],
   "source": [
    "x"
   ]
  },
  {
   "cell_type": "code",
   "execution_count": null,
   "id": "47086397-c8e4-4585-8d95-18bddec78c94",
   "metadata": {},
   "outputs": [],
   "source": [
    "chameleon.disp_current"
   ]
  },
  {
   "cell_type": "code",
   "execution_count": null,
   "id": "8efbeb90-0527-45d5-8cef-acc8e1ff7fa8",
   "metadata": {},
   "outputs": [],
   "source": [
    "chameleon.position_history"
   ]
  },
  {
   "cell_type": "markdown",
   "id": "7633eedb-8ca9-49ba-b5ab-bdbec25dc412",
   "metadata": {},
   "source": [
    "# need to be able to compute the displacement for one step by hand and compare to what I get here. I want to use the first order method of enforcing the BC because that has a smooth simulation video but it may be less accurate than second order method which oscillates like crazy in the simulation. "
   ]
  },
  {
   "cell_type": "markdown",
   "id": "e57c80e9-f007-4ec1-95fa-41b1f854be2e",
   "metadata": {},
   "source": [
    "## Is this is too slow? In order to do RL I may need to be able to simulate much faster than this. (Jax?)"
   ]
  },
  {
   "cell_type": "markdown",
   "id": "e4fe260c-f759-4c74-867d-c15e0a67c3d5",
   "metadata": {},
   "source": [
    "## There seems to be an issue when the stress is not monotonically increasing (actually more complex than this). The second element often ends up behind the first and as a result the sim crashes. I am not exactly sure why it is happening but it is clearly related to the boundary condition being imposed on the first element. If I then try to make sure the second element is always beyond the first, the third element goes behind the second. I think the issue is related to the stress on the first element causing a high force since the 0->1 element gets stretched a lot and it may be less than the stress from the 1->2 element. If the active stress is not enough to overcome that, then the second element would move to the left and maybe end up behind the first element. \n",
    "\n",
    "Actually i don't buy that argument because then a uniform stress might also cause this issue. In that case we would have a large stress from the stretching 0->1 element and if the active stress wasn't enough to overcome it we could end up with the same issue. But whenever I run uniform simulations I don't see that problem (no matter the magnitude of the active stress).\n",
    "\n",
    "One way to debug is to save the NET force (and component forces maybe) on each element at each point in time and to see what happens. \n",
    "\n",
    "# I think its the Derivative of $\\sigma$ that's important here."
   ]
  },
  {
   "cell_type": "markdown",
   "id": "41b3bdaf-f3a8-4af8-957e-5210f6ddcc8f",
   "metadata": {},
   "source": [
    "## Why do the elements come in after the first time step? \n",
    "\n",
    "Then after the first time step is over they move out as expected. Strange. It's only the element on the end and it comes from satisfying the boundary condition."
   ]
  },
  {
   "cell_type": "markdown",
   "id": "5df2593d-e8ee-4620-a89f-d33f45f0e78d",
   "metadata": {},
   "source": [
    "# some hacky code to store the position history for later visualization.\n"
   ]
  },
  {
   "cell_type": "code",
   "execution_count": null,
   "id": "2c4cb66c-3d14-4e93-8d24-2424313378ab",
   "metadata": {},
   "outputs": [],
   "source": [
    "history = []\n",
    "for i in range(len(chameleon.position_history)):\n",
    "    x_p = chameleon.position_history[i]\n",
    "    y = np.zeros(chameleon.n_elems)\n",
    "    ar = np.vstack((x_p, y)).T\n",
    "    history.append(ar)\n",
    "\n",
    "with open(\"history.txt\", \"wb\") as fp:\n",
    "    pickle.dump(history, fp)"
   ]
  },
  {
   "cell_type": "code",
   "execution_count": null,
   "id": "4a2a7971-6562-47b5-bb75-e5f45215578c",
   "metadata": {},
   "outputs": [],
   "source": []
  }
 ],
 "metadata": {
  "kernelspec": {
   "display_name": "rl_env",
   "language": "python",
   "name": "rl_env"
  },
  "language_info": {
   "codemirror_mode": {
    "name": "ipython",
    "version": 3
   },
   "file_extension": ".py",
   "mimetype": "text/x-python",
   "name": "python",
   "nbconvert_exporter": "python",
   "pygments_lexer": "ipython3",
   "version": "3.7.4"
  }
 },
 "nbformat": 4,
 "nbformat_minor": 5
}
