{
 "cells": [
  {
   "cell_type": "code",
   "execution_count": null,
   "id": "aa19a508-f92f-4430-b131-e29194568d25",
   "metadata": {},
   "outputs": [],
   "source": [
    "import gym\n",
    "import pickle\n",
    "import numpy as np\n",
    "import matplotlib.pyplot as plt\n",
    "from stable_baselines3 import DDPG\n",
    "\n",
    "# from stable_baselines3.common.env_checker import check_env\n",
    "from chameleon import Chameleon"
   ]
  },
  {
   "cell_type": "code",
   "execution_count": null,
   "id": "b021bd63-69f8-462e-b8fc-306abe7a43b2",
   "metadata": {},
   "outputs": [],
   "source": [
    "target_pos = 0.2\n",
    "E = 1.0\n",
    "env = Chameleon(E=E, target_pos=target_pos)\n",
    "model = DDPG(\"MlpPolicy\", env, verbose=0)\n",
    "model.learn(total_timesteps=int(5e3))"
   ]
  },
  {
   "cell_type": "code",
   "execution_count": null,
   "id": "84af4f2a-4f54-4e8b-8cf2-7e571271e39e",
   "metadata": {},
   "outputs": [],
   "source": [
    "# model.predict(env.reset())\n",
    "# winning action for E = 1 target = 0.2 and rtol=0.025. Only takes 1 step\n",
    "# action = array([ 0.9999769 ,  0.04784906, -0.9999367 ], dtype=np.float32)"
   ]
  },
  {
   "cell_type": "code",
   "execution_count": null,
   "id": "df13a512-c16b-4cc0-afc0-13dbe1cf2c76",
   "metadata": {},
   "outputs": [],
   "source": [
    "# pos_hist = []\n",
    "# state = env.reset()\n",
    "# pos_hist.append(env.pos)\n",
    "# done = False\n",
    "# while not done:\n",
    "#     action = model.predict(state)[0]\n",
    "#     state, rew, done, _ = env.step(action)\n",
    "#     pos_hist.append(env.pos)"
   ]
  },
  {
   "cell_type": "code",
   "execution_count": null,
   "id": "50bc91fd-894c-432b-819c-bb34e1831106",
   "metadata": {},
   "outputs": [],
   "source": [
    "# done = False\n",
    "# state = env.reset()\n",
    "# pos_hist = []\n",
    "# pos_hist.append(env.position_history[-1])\n",
    "# while not done:\n",
    "#     action = model.predict(state)[0]\n",
    "#     state, rew, done, _ = env.step(action)\n",
    "#     pos_hist.append(env.position_history[-1])"
   ]
  },
  {
   "cell_type": "code",
   "execution_count": null,
   "id": "2c73f67a-accc-45dc-a731-80fa5fd0df8c",
   "metadata": {},
   "outputs": [],
   "source": [
    "# history = []\n",
    "# for i in range(len(pos_hist)):\n",
    "#     x_p = pos_hist[i]\n",
    "#     y = np.zeros(env.n_elems)\n",
    "#     ar = np.vstack((x_p, y)).T\n",
    "#     history.append(ar)\n",
    "\n",
    "# with open(\"winning_history.txt\", \"wb\") as fp:\n",
    "#     pickle.dump(history, fp)"
   ]
  },
  {
   "cell_type": "code",
   "execution_count": null,
   "id": "15806c2f-182a-43dd-86c4-a3c58e2f3bee",
   "metadata": {},
   "outputs": [],
   "source": []
  }
 ],
 "metadata": {
  "kernelspec": {
   "display_name": "chameleon",
   "language": "python",
   "name": "chameleon"
  },
  "language_info": {
   "codemirror_mode": {
    "name": "ipython",
    "version": 3
   },
   "file_extension": ".py",
   "mimetype": "text/x-python",
   "name": "python",
   "nbconvert_exporter": "python",
   "pygments_lexer": "ipython3",
   "version": "3.7.4"
  }
 },
 "nbformat": 4,
 "nbformat_minor": 5
}
