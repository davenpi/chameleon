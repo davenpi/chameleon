{
 "cells": [
  {
   "cell_type": "code",
   "execution_count": null,
   "id": "aa19a508-f92f-4430-b131-e29194568d25",
   "metadata": {},
   "outputs": [],
   "source": [
    "%reset -f\n",
    "import gym\n",
    "import torch\n",
    "import tqdm\n",
    "import pickle\n",
    "import numpy as np\n",
    "import matplotlib.pyplot as plt\n",
    "from stable_baselines3 import PPO\n",
    "from stable_baselines3.common.monitor import Monitor\n",
    "from chameleon import Chameleon\n",
    "from stable_baselines3.common.callbacks import (\n",
    "    EvalCallback,\n",
    "    BaseCallback,\n",
    "    StopTrainingOnRewardThreshold,\n",
    ")"
   ]
  },
  {
   "cell_type": "code",
   "execution_count": null,
   "id": "b021bd63-69f8-462e-b8fc-306abe7a43b2",
   "metadata": {},
   "outputs": [],
   "source": [
    "env = Chameleon(atol=0.1, E=50, target_pos=1.5, train=False)\n",
    "# model = PPO(\n",
    "#     policy=\"MlpPolicy\",\n",
    "#     env=env,\n",
    "#     verbose=0,\n",
    "# )\n",
    "# model.learn(total_timesteps=2048)\n",
    "model = PPO.load(\"agents_a0.1_target1.82/run0/best_model.zip\")"
   ]
  },
  {
   "cell_type": "code",
   "execution_count": null,
   "id": "69ccf498-9e73-458e-9350-02298cea6733",
   "metadata": {},
   "outputs": [],
   "source": [
    "# state = env.reset()\n",
    "# done = False\n",
    "# while not done:\n",
    "#     action = model.predict(state, deterministic=True)[0]\n",
    "#     state, rew, done, info = env.step(action)\n",
    "#     if done:\n",
    "#         state = env.winning_pos[-1]\n",
    "#     print(f\"Tip position is {env.pos[-1]}\")\n",
    "#     print(f\"Target position is {env.target_pos}\")\n",
    "#     print(f\"Reward is {rew}\")\n",
    "#     print(f\"Action is {action}\")\n",
    "#     print(f\"State is {state}\")\n",
    "#     print('\\n\\n')"
   ]
  },
  {
   "cell_type": "code",
   "execution_count": null,
   "id": "8f489b81-0c61-4b5a-86b3-815513038565",
   "metadata": {},
   "outputs": [],
   "source": [
    "env.U0"
   ]
  },
  {
   "cell_type": "code",
   "execution_count": null,
   "id": "881cf765-c670-42bb-9d9b-3853ff20b33a",
   "metadata": {},
   "outputs": [],
   "source": [
    "env.step([1])"
   ]
  },
  {
   "cell_type": "code",
   "execution_count": null,
   "id": "556224fa-f43f-45a2-b99d-1bd593072706",
   "metadata": {},
   "outputs": [],
   "source": [
    "env.pos"
   ]
  },
  {
   "cell_type": "code",
   "execution_count": null,
   "id": "7595cd28-4a9b-44ce-b122-7d71d5392042",
   "metadata": {},
   "outputs": [],
   "source": [
    "env.u_current"
   ]
  },
  {
   "cell_type": "code",
   "execution_count": null,
   "id": "d63eec7b-7d22-42aa-ab46-97b391c44a10",
   "metadata": {},
   "outputs": [],
   "source": [
    "env.U0"
   ]
  },
  {
   "cell_type": "code",
   "execution_count": null,
   "id": "2a51f2ca-1b39-4eeb-8b77-8e2c5f8ed2de",
   "metadata": {},
   "outputs": [],
   "source": [
    "env.returning"
   ]
  },
  {
   "cell_type": "code",
   "execution_count": null,
   "id": "dc9a702e-1166-45b6-a1ec-6024c0d498cd",
   "metadata": {},
   "outputs": [],
   "source": [
    "env.time"
   ]
  },
  {
   "cell_type": "code",
   "execution_count": null,
   "id": "c1e3c5fe-3ea1-45f8-bc8b-c7cf0b925417",
   "metadata": {},
   "outputs": [],
   "source": [
    "env.time_crunch"
   ]
  },
  {
   "cell_type": "code",
   "execution_count": null,
   "id": "22b16f40-15f9-45e4-8fb4-e4179301d028",
   "metadata": {},
   "outputs": [],
   "source": [
    "env.little_u"
   ]
  },
  {
   "cell_type": "code",
   "execution_count": null,
   "id": "39dba2a9-4948-4980-a07c-c160e0478dc8",
   "metadata": {},
   "outputs": [],
   "source": [
    "env.u_velocity_history"
   ]
  },
  {
   "cell_type": "code",
   "execution_count": null,
   "id": "f4d5ec1b-ccf2-4ac8-b615-3aa7941fb941",
   "metadata": {},
   "outputs": [],
   "source": []
  },
  {
   "cell_type": "code",
   "execution_count": null,
   "id": "a8226eaa-9fe4-49f2-9616-f19388e0d49f",
   "metadata": {},
   "outputs": [],
   "source": []
  },
  {
   "cell_type": "code",
   "execution_count": null,
   "id": "fc0e3ba9-cd4d-4e48-b3da-84eba2cd18cd",
   "metadata": {},
   "outputs": [],
   "source": []
  },
  {
   "cell_type": "code",
   "execution_count": null,
   "id": "8b61d389-2f41-4643-bc89-a199320f28f3",
   "metadata": {},
   "outputs": [],
   "source": [
    "model.policy"
   ]
  },
  {
   "cell_type": "code",
   "execution_count": null,
   "id": "35f1c6f6-f007-40fb-a356-72774091b461",
   "metadata": {},
   "outputs": [],
   "source": [
    "mlp_extractor = model.policy.mlp_extractor"
   ]
  },
  {
   "cell_type": "code",
   "execution_count": null,
   "id": "4ef67b5f-7d45-43c8-b282-0ad31d1c0a8c",
   "metadata": {},
   "outputs": [],
   "source": [
    "feature_extractor = model.policy.features_extractor"
   ]
  },
  {
   "cell_type": "code",
   "execution_count": null,
   "id": "1cb6a529-fc4d-4315-86b2-9902e9d50deb",
   "metadata": {},
   "outputs": [],
   "source": [
    "feature_extractor"
   ]
  },
  {
   "cell_type": "code",
   "execution_count": null,
   "id": "b830ff3e-ec0a-455b-82ac-84691f702b40",
   "metadata": {},
   "outputs": [],
   "source": [
    "mlp_extractor"
   ]
  },
  {
   "cell_type": "code",
   "execution_count": null,
   "id": "c2015a35-11b2-4bb6-bcf4-a21b343df77b",
   "metadata": {},
   "outputs": [],
   "source": [
    "pytorch_total_params = sum(p.numel() for p in mlp_extractor.parameters())\n",
    "pytorch_trainable_total_params = sum(\n",
    "    p.numel() for p in mlp_extractor.parameters() if p.requires_grad\n",
    ")"
   ]
  },
  {
   "cell_type": "code",
   "execution_count": null,
   "id": "893fc546-088f-4184-acb0-e7e325b34ebb",
   "metadata": {},
   "outputs": [],
   "source": [
    "pytorch_trainable_total_params + 2 * 65"
   ]
  },
  {
   "cell_type": "code",
   "execution_count": null,
   "id": "645257c4-1129-41e4-9577-918bce6917bc",
   "metadata": {},
   "outputs": [],
   "source": [
    "pytorch_total_params = sum(p.numel() for p in model.policy.parameters())\n",
    "pytorch_trainable_total_params = sum(\n",
    "    p.numel() for p in model.policy.parameters() if p.requires_grad\n",
    ")"
   ]
  },
  {
   "cell_type": "code",
   "execution_count": null,
   "id": "9eaa40b6-913b-4f3c-93ad-c567e030c4e2",
   "metadata": {},
   "outputs": [],
   "source": [
    "type(model)"
   ]
  },
  {
   "cell_type": "code",
   "execution_count": null,
   "id": "e4219684-32ef-4812-8061-04a6b01b65ce",
   "metadata": {},
   "outputs": [],
   "source": [
    "pytorch_trainable_total_params"
   ]
  },
  {
   "cell_type": "markdown",
   "id": "e89129dc-9fba-4b3f-bcc6-53f675ceae00",
   "metadata": {},
   "source": [
    "# This is all of the disctinct networks and I can get the total number of parameters in the networks by adding up the number of parameters in each subcomponent. \n",
    "\n",
    "So looking at the number of parameters in the model.policy should match the sum of the things below. Maybe I will be off by the number of standard deviation parameters which is one in my case. "
   ]
  },
  {
   "cell_type": "code",
   "execution_count": null,
   "id": "cb17ea35-11d2-4c81-8f85-95a4b1b48a9a",
   "metadata": {},
   "outputs": [],
   "source": [
    "mlp_extractor = model.policy.mlp_extractor"
   ]
  },
  {
   "cell_type": "code",
   "execution_count": null,
   "id": "02d76174-01c5-4078-8e30-72739f656b1f",
   "metadata": {},
   "outputs": [],
   "source": [
    "mlp_extractor"
   ]
  },
  {
   "cell_type": "code",
   "execution_count": null,
   "id": "7e188db7-fad5-45ac-b1b7-c35646764d1f",
   "metadata": {},
   "outputs": [],
   "source": [
    "# for p in mlp_extractor.policy_net.parameters():\n",
    "#     print(p)\n",
    "#     print(p.shape)"
   ]
  },
  {
   "cell_type": "code",
   "execution_count": null,
   "id": "65d5c52e-fac8-4830-8b33-aa0f78420622",
   "metadata": {},
   "outputs": [],
   "source": [
    "model.policy.action_net"
   ]
  },
  {
   "cell_type": "code",
   "execution_count": null,
   "id": "277107dd-0a17-4a3a-b04e-38bfa6de3dd9",
   "metadata": {},
   "outputs": [],
   "source": [
    "model.policy.value_net"
   ]
  },
  {
   "cell_type": "code",
   "execution_count": null,
   "id": "70e55e4d-811e-45c1-888c-8a0811976bea",
   "metadata": {},
   "outputs": [],
   "source": [
    "model.learning_rate"
   ]
  },
  {
   "cell_type": "code",
   "execution_count": null,
   "id": "1c58a20b-6d00-4bba-8558-fa7f29b51e57",
   "metadata": {},
   "outputs": [],
   "source": [
    "model"
   ]
  }
 ],
 "metadata": {
  "kernelspec": {
   "display_name": "chameleon",
   "language": "python",
   "name": "chameleon"
  },
  "language_info": {
   "codemirror_mode": {
    "name": "ipython",
    "version": 3
   },
   "file_extension": ".py",
   "mimetype": "text/x-python",
   "name": "python",
   "nbconvert_exporter": "python",
   "pygments_lexer": "ipython3",
   "version": "3.7.4"
  }
 },
 "nbformat": 4,
 "nbformat_minor": 5
}
