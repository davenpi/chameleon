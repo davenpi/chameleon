{
 "cells": [
  {
   "cell_type": "code",
   "execution_count": 1,
   "id": "1e4c6178-deed-4d49-9335-2725e208967b",
   "metadata": {},
   "outputs": [],
   "source": [
    "%reset -f\n",
    "import time\n",
    "import pickle\n",
    "import gym\n",
    "from scipy.interpolate import UnivariateSpline\n",
    "from stable_baselines3 import DDPG\n",
    "import matplotlib.pyplot as plt\n",
    "from stable_baselines3.common.env_checker import check_env\n",
    "import numpy as np\n",
    "from tqdm import tqdm\n",
    "import derivatives as d\n",
    "import forward_helpers as fh\n",
    "from chameleon import Chameleon"
   ]
  },
  {
   "cell_type": "code",
   "execution_count": null,
   "id": "e473efb4-02ee-42bf-bb3a-21458f85063f",
   "metadata": {},
   "outputs": [],
   "source": []
  },
  {
   "cell_type": "code",
   "execution_count": 2,
   "id": "b243f895-9e98-4dec-bf20-5680d1b1b688",
   "metadata": {},
   "outputs": [],
   "source": [
    "n_elems = 10\n",
    "steps = 10\n",
    "chameleon = Chameleon(E=1, n_elems=n_elems)"
   ]
  },
  {
   "cell_type": "code",
   "execution_count": 3,
   "id": "e1ff8ab7-cf58-4fc2-b0ae-967f9c9acf57",
   "metadata": {
    "tags": []
   },
   "outputs": [],
   "source": [
    "# check_env(chameleon)"
   ]
  },
  {
   "cell_type": "code",
   "execution_count": 4,
   "id": "76dc8ef7-d628-4841-99e1-f2c24a268c10",
   "metadata": {},
   "outputs": [],
   "source": [
    "# breaking_action = [0.42846936, 0.2765398, 0.9082336 ]"
   ]
  },
  {
   "cell_type": "code",
   "execution_count": null,
   "id": "c64312e4-2c1b-419d-96a6-01996786975b",
   "metadata": {},
   "outputs": [],
   "source": []
  },
  {
   "cell_type": "code",
   "execution_count": 5,
   "id": "81cc46ad-df2d-454f-bbff-8c1d2d859fe5",
   "metadata": {},
   "outputs": [],
   "source": [
    "active_stress = np.array(\n",
    "    [\n",
    "        0.42846936,\n",
    "        0.47040876,\n",
    "        0.53477369,\n",
    "        0.62156414,\n",
    "        0.7307801,\n",
    "        0.86242159,\n",
    "        1.0164886,\n",
    "        1.19298113,\n",
    "        1.39189918,\n",
    "        1.61324275,\n",
    "    ]\n",
    ")\n",
    "# np.save(\"breaking_stress\", active_stress)"
   ]
  },
  {
   "cell_type": "code",
   "execution_count": 6,
   "id": "e554c03b-0820-4afb-816f-3a6d284df956",
   "metadata": {
    "tags": []
   },
   "outputs": [],
   "source": [
    "fh.forward_simulate(chameleon, active_stress, sim_steps=steps)"
   ]
  },
  {
   "cell_type": "code",
   "execution_count": null,
   "id": "69c3d47c-4393-4f31-92b5-c1b735870da7",
   "metadata": {},
   "outputs": [],
   "source": []
  },
  {
   "cell_type": "code",
   "execution_count": null,
   "id": "80ac7b76-326f-471c-b3df-dcef6639b191",
   "metadata": {},
   "outputs": [],
   "source": []
  },
  {
   "cell_type": "code",
   "execution_count": null,
   "id": "62d877c0-1c0d-4ec4-8325-bfc6ebb02a60",
   "metadata": {},
   "outputs": [],
   "source": [
    "chameleon.displacement_history"
   ]
  },
  {
   "cell_type": "code",
   "execution_count": null,
   "id": "ffd69b21-844f-41e5-a88e-331d9047c29b",
   "metadata": {},
   "outputs": [],
   "source": [
    "active_stress"
   ]
  },
  {
   "cell_type": "code",
   "execution_count": null,
   "id": "7c62b00a-e183-4b01-abab-f4bcd511d83f",
   "metadata": {},
   "outputs": [],
   "source": [
    "x = chameleon.pos_0"
   ]
  },
  {
   "cell_type": "code",
   "execution_count": null,
   "id": "f4387bb6-b976-4705-905a-f45b9f13cdb9",
   "metadata": {},
   "outputs": [],
   "source": [
    "x"
   ]
  },
  {
   "cell_type": "code",
   "execution_count": null,
   "id": "176c4ebe-7b53-4856-805f-95c22a28c50e",
   "metadata": {},
   "outputs": [],
   "source": [
    "diffs = np.diff(chameleon.pos_f)"
   ]
  },
  {
   "cell_type": "code",
   "execution_count": null,
   "id": "3178f688-c434-434a-b987-5492543276a1",
   "metadata": {},
   "outputs": [],
   "source": [
    "np.all(diffs < 0)"
   ]
  },
  {
   "cell_type": "code",
   "execution_count": null,
   "id": "6ea08f9a-da56-4902-9dd0-fc7125f178af",
   "metadata": {},
   "outputs": [],
   "source": [
    "stress_spline = UnivariateSpline(x, active_stress)\n",
    "spline_deriv = stress_spline.derivative(n=1)(x)"
   ]
  },
  {
   "cell_type": "code",
   "execution_count": null,
   "id": "449c1e67-6a43-42ee-8098-d88456f1f0fa",
   "metadata": {},
   "outputs": [],
   "source": [
    "spline_deriv"
   ]
  },
  {
   "cell_type": "code",
   "execution_count": null,
   "id": "9ce3feee-7da0-4df5-b081-1ef0263a6a13",
   "metadata": {},
   "outputs": [],
   "source": [
    "np.gradient(active_stress, x, edge_order=2)"
   ]
  },
  {
   "cell_type": "code",
   "execution_count": null,
   "id": "9c67dd77-48b2-4418-8059-bea6a9c9f660",
   "metadata": {},
   "outputs": [],
   "source": []
  },
  {
   "cell_type": "code",
   "execution_count": null,
   "id": "63142345-5359-407f-9fca-c134783d2263",
   "metadata": {},
   "outputs": [],
   "source": []
  },
  {
   "cell_type": "code",
   "execution_count": null,
   "id": "2405d63f-4e00-48bd-ba42-070a1bb12270",
   "metadata": {},
   "outputs": [],
   "source": []
  },
  {
   "cell_type": "code",
   "execution_count": null,
   "id": "cfa1b019-5c03-4156-a7ec-c890d37b8cd0",
   "metadata": {},
   "outputs": [],
   "source": [
    "chameleon.displacement_history"
   ]
  },
  {
   "cell_type": "code",
   "execution_count": null,
   "id": "dabc030a-5a5c-4b3d-b83d-8d0ef3b96b7f",
   "metadata": {},
   "outputs": [],
   "source": [
    "# # Create environment\n",
    "# env = Chameleon(E=10, n_elems=n_elems)\n",
    "\n",
    "# # Instantiate the agent\n",
    "# model = DDPG(\"MlpPolicy\", env, verbose=1)\n",
    "# # Train the agent\n",
    "# model.learn(total_timesteps=int(20))"
   ]
  },
  {
   "cell_type": "markdown",
   "id": "e57c80e9-f007-4ec1-95fa-41b1f854be2e",
   "metadata": {},
   "source": [
    "## Is this is too slow? In order to do RL I may need to be able to simulate much faster than this. (Jax?)"
   ]
  },
  {
   "cell_type": "markdown",
   "id": "e4fe260c-f759-4c74-867d-c15e0a67c3d5",
   "metadata": {},
   "source": [
    "## There seems to be an issue when the stress is not monotonically increasing (actually more complex than this). The second element often ends up behind the first and as a result the sim crashes. I am not exactly sure why it is happening but it is clearly related to the boundary condition being imposed on the first element. If I then try to make sure the second element is always beyond the first, the third element goes behind the second. I think the issue is related to the stress on the first element causing a high force since the 0->1 element gets stretched a lot and it may be less than the stress from the 1->2 element. If the active stress is not enough to overcome that, then the second element would move to the left and maybe end up behind the first element. \n",
    "\n",
    "Actually i don't buy that argument because then a uniform stress might also cause this issue. In that case we would have a large stress from the stretching 0->1 element and if the active stress wasn't enough to overcome it we could end up with the same issue. But whenever I run uniform simulations I don't see that problem (no matter the magnitude of the active stress).\n",
    "\n",
    "One way to debug is to save the NET force (and component forces maybe) on each element at each point in time and to see what happens. \n",
    "\n",
    "# I think its the Derivative of $\\sigma$ that's important here."
   ]
  },
  {
   "cell_type": "markdown",
   "id": "41b3bdaf-f3a8-4af8-957e-5210f6ddcc8f",
   "metadata": {},
   "source": [
    "## Why do the elements come in after the first time step? \n",
    "\n",
    "Then after the first time step is over they move out as expected. Strange. It's only the element on the end and it comes from satisfying the boundary condition."
   ]
  },
  {
   "cell_type": "code",
   "execution_count": null,
   "id": "5cea9e73-5b34-451d-82bb-2f337524e90c",
   "metadata": {},
   "outputs": [],
   "source": [
    "chameleon.position_history[0]"
   ]
  },
  {
   "cell_type": "code",
   "execution_count": null,
   "id": "34dc8412-54c8-4095-a0f7-fa9494367faf",
   "metadata": {},
   "outputs": [],
   "source": [
    "chameleon.position_history[1]"
   ]
  },
  {
   "cell_type": "code",
   "execution_count": null,
   "id": "f84d9326-3148-449a-af8a-93aa6d0784ba",
   "metadata": {},
   "outputs": [],
   "source": [
    "chameleon.position_history[2]"
   ]
  },
  {
   "cell_type": "markdown",
   "id": "5df2593d-e8ee-4620-a89f-d33f45f0e78d",
   "metadata": {},
   "source": [
    "# some hacky code to store the position history for later visualization.\n"
   ]
  },
  {
   "cell_type": "code",
   "execution_count": null,
   "id": "2c4cb66c-3d14-4e93-8d24-2424313378ab",
   "metadata": {},
   "outputs": [],
   "source": [
    "history = []\n",
    "for i in range(len(chameleon.position_history)):\n",
    "    x_p = chameleon.position_history[i]\n",
    "    y = np.zeros(chameleon.n_elems)\n",
    "    ar = np.vstack((x_p, y)).T\n",
    "    history.append(ar)\n",
    "\n",
    "with open(\"history.txt\", \"wb\") as fp:\n",
    "    pickle.dump(history, fp)"
   ]
  }
 ],
 "metadata": {
  "kernelspec": {
   "display_name": "rl_env",
   "language": "python",
   "name": "rl_env"
  },
  "language_info": {
   "codemirror_mode": {
    "name": "ipython",
    "version": 3
   },
   "file_extension": ".py",
   "mimetype": "text/x-python",
   "name": "python",
   "nbconvert_exporter": "python",
   "pygments_lexer": "ipython3",
   "version": "3.7.4"
  }
 },
 "nbformat": 4,
 "nbformat_minor": 5
}
