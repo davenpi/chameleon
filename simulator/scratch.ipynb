{
 "cells": [
  {
   "cell_type": "code",
   "execution_count": 1,
   "id": "aa19a508-f92f-4430-b131-e29194568d25",
   "metadata": {},
   "outputs": [],
   "source": [
    "import gym\n",
    "import pickle\n",
    "import numpy as np\n",
    "import matplotlib.pyplot as plt\n",
    "from stable_baselines3 import PPO  # DDPG, SAC, TD3\n",
    "from stable_baselines3.common.monitor import Monitor\n",
    "from chameleon import Chameleon\n",
    "from stable_baselines3.common.callbacks import (\n",
    "    EvalCallback,\n",
    "    BaseCallback,\n",
    "    StopTrainingOnRewardThreshold,\n",
    ")"
   ]
  },
  {
   "cell_type": "code",
   "execution_count": 2,
   "id": "d01b95c2-eaf4-4699-92af-57d02e17bd9c",
   "metadata": {},
   "outputs": [],
   "source": [
    "# eval_env = Chameleon()\n",
    "\n",
    "# callback_on_best = StopTrainingOnRewardThreshold(reward_threshold=0, verbose=0)\n",
    "# eval_callback = EvalCallback(\n",
    "#     eval_env,\n",
    "#     callback_on_new_best=callback_on_best,\n",
    "#     best_model_save_path=\"./logs/\",\n",
    "#     log_path=\"./logs/\",\n",
    "#     eval_freq=1_000,\n",
    "#     deterministic=True,\n",
    "#     render=False,\n",
    "#     verbose=1,\n",
    "# )"
   ]
  },
  {
   "cell_type": "code",
   "execution_count": 3,
   "id": "79e1e14f-e4ee-45a9-b6a2-889c5ce836ef",
   "metadata": {},
   "outputs": [],
   "source": [
    "monitor = True"
   ]
  },
  {
   "cell_type": "code",
   "execution_count": 51,
   "id": "b021bd63-69f8-462e-b8fc-306abe7a43b2",
   "metadata": {
    "tags": []
   },
   "outputs": [
    {
     "data": {
      "text/plain": [
       "<stable_baselines3.ppo.ppo.PPO at 0x7ffbdb54ad10>"
      ]
     },
     "execution_count": 51,
     "metadata": {},
     "output_type": "execute_result"
    }
   ],
   "source": [
    "env = Chameleon(rtol=0.05)\n",
    "if monitor:\n",
    "    env = Monitor(env, \"logging\")\n",
    "model = PPO(\n",
    "    \"MlpPolicy\",\n",
    "    env,\n",
    "    verbose=0,\n",
    ")\n",
    "model.learn(total_timesteps=int(6e5))"
   ]
  },
  {
   "cell_type": "code",
   "execution_count": null,
   "id": "a16f8955-7b10-4400-be94-78a46d633680",
   "metadata": {},
   "outputs": [],
   "source": []
  },
  {
   "cell_type": "code",
   "execution_count": 52,
   "id": "80a8f119-7d3a-423c-926e-85929a9a8d66",
   "metadata": {},
   "outputs": [],
   "source": [
    "rews = np.loadtxt(\"logging.monitor.csv\", delimiter=\",\", skiprows=2, usecols=(0,))"
   ]
  },
  {
   "cell_type": "code",
   "execution_count": 53,
   "id": "697dffbf-076a-4f2f-9f69-0ffb56d8b9bd",
   "metadata": {},
   "outputs": [
    {
     "data": {
      "text/plain": [
       "(111564,)"
      ]
     },
     "execution_count": 53,
     "metadata": {},
     "output_type": "execute_result"
    }
   ],
   "source": [
    "rews.shape"
   ]
  },
  {
   "cell_type": "code",
   "execution_count": 54,
   "id": "a6949ad9-90fb-4fbc-9570-98b6be35df22",
   "metadata": {},
   "outputs": [],
   "source": [
    "rews = rews[564:]"
   ]
  },
  {
   "cell_type": "code",
   "execution_count": 93,
   "id": "ec67dafb-0595-4f3c-b3b2-1c4d4856042f",
   "metadata": {},
   "outputs": [],
   "source": []
  },
  {
   "cell_type": "code",
   "execution_count": 60,
   "id": "d9d7f83f-364a-4eeb-b1ac-b493e5da188a",
   "metadata": {},
   "outputs": [
    {
     "data": {
      "image/png": "[encoded data removed]",
      "text/plain": [
       "<Figure size 432x288 with 1 Axes>"
      ]
     },
     "metadata": {
      "needs_background": "light"
     },
     "output_type": "display_data"
    }
   ],
   "source": [
    "rews = rews.reshape((1110, 100))\n",
    "means = rews.mean(axis=1)\n",
    "plt.plot(means)\n",
    "plt.title(\"Episode reward over time\")\n",
    "plt.xlabel(\"epoch (100 episodes)\")\n",
    "plt.ylabel(\"Mean reward\")\n",
    "plt.savefig(\"rewardvsepoch.png\")\n",
    "plt.show()"
   ]
  },
  {
   "cell_type": "code",
   "execution_count": null,
   "id": "68f593d3-aff1-4f16-aa6c-1dc0399f3812",
   "metadata": {},
   "outputs": [],
   "source": [
    "# stdevs = rews.std(axis=1)\n",
    "# plt.errorbar(x=np.arange(0, means.shape[0]),y=means, yerr=stdevs)"
   ]
  },
  {
   "cell_type": "code",
   "execution_count": 58,
   "id": "df13a512-c16b-4cc0-afc0-13dbe1cf2c76",
   "metadata": {},
   "outputs": [
    {
     "name": "stdout",
     "output_type": "stream",
     "text": [
      "[0.77084917 1.        ]\n",
      "-1\n",
      "[-0.09857135  1.        ]\n",
      "1\n"
     ]
    }
   ],
   "source": [
    "# pos_hist = []\n",
    "# state = env.reset()\n",
    "# # pos_hist.append(env.pos)\n",
    "# done = False\n",
    "# while not done:\n",
    "#     pos_hist.append(env.pos)\n",
    "#     action = model.predict(state, deterministic=True)[0]  # need to do deterministic for PPO\n",
    "#     print(action)\n",
    "#     state, rew, done, _ = env.step(action)\n",
    "#     print(rew)"
   ]
  },
  {
   "cell_type": "code",
   "execution_count": 91,
   "id": "86666006-5d4d-4203-a378-b07b92fad816",
   "metadata": {},
   "outputs": [
    {
     "data": {
      "text/plain": [
       "<Figure size 432x288 with 0 Axes>"
      ]
     },
     "metadata": {},
     "output_type": "display_data"
    }
   ],
   "source": [
    "# for i in range(len(pos_hist)):\n",
    "#     p = pos_hist[i]\n",
    "#     plt.scatter(p , 0*p)\n",
    "#     plt.scatter(env.env.target_pos, 0)\n",
    "#     plt.scatter(env.env.pos_init[-1], 0)\n",
    "#     plt.title(f\"Tip position is {p[-1]}\")\n",
    "#     plt.xlim((0, 0.2))\n",
    "#     plt.savefig(f\"frame{i}.png\")\n",
    "#     plt.clf()"
   ]
  },
  {
   "cell_type": "code",
   "execution_count": 63,
   "id": "2591a5db-f120-4b13-a462-493d130bb040",
   "metadata": {},
   "outputs": [],
   "source": [
    "# pos_hist.append(env.winning_pos)"
   ]
  },
  {
   "cell_type": "code",
   "execution_count": 64,
   "id": "2c73f67a-accc-45dc-a731-80fa5fd0df8c",
   "metadata": {},
   "outputs": [],
   "source": [
    "# history = []\n",
    "# for i in range(len(pos_hist)):\n",
    "#     x_p = pos_hist[i]\n",
    "#     y = np.zeros(env.n_elems)\n",
    "#     ar = np.vstack((x_p, y)).T\n",
    "#     history.append(ar)\n",
    "\n",
    "# with open(\"winning_history.txt\", \"wb\") as fp:\n",
    "#     pickle.dump(history, fp)"
   ]
  },
  {
   "cell_type": "code",
   "execution_count": null,
   "id": "811bec45-5436-4dc1-afb3-171432580ad8",
   "metadata": {},
   "outputs": [],
   "source": [
    "# model.save(\"one_million_ppo\")"
   ]
  },
  {
   "cell_type": "markdown",
   "id": "987fdbe8-5ce1-40a2-9e38-299c6af5c5c2",
   "metadata": {},
   "source": [
    "## max distance E = 1 agent can reach with the given torques is 0.21. How did i find that? By applying the max torque for each time step until the episode was over."
   ]
  },
  {
   "cell_type": "code",
   "execution_count": null,
   "id": "e76b85f0-dfbd-4dad-9bff-a630b2e65bcd",
   "metadata": {},
   "outputs": [],
   "source": [
    "# evals = np.load(\"./logs/evaluations.npz\")\n",
    "# evals.files"
   ]
  }
 ],
 "metadata": {
  "kernelspec": {
   "display_name": "chameleon",
   "language": "python",
   "name": "chameleon"
  },
  "language_info": {
   "codemirror_mode": {
    "name": "ipython",
    "version": 3
   },
   "file_extension": ".py",
   "mimetype": "text/x-python",
   "name": "python",
   "nbconvert_exporter": "python",
   "pygments_lexer": "ipython3",
   "version": "3.7.4"
  }
 },
 "nbformat": 4,
 "nbformat_minor": 5
}
