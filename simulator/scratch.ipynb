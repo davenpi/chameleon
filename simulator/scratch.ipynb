{
 "cells": [
  {
   "cell_type": "code",
   "execution_count": 1,
   "id": "1e4c6178-deed-4d49-9335-2725e208967b",
   "metadata": {},
   "outputs": [],
   "source": [
    "%reset -f\n",
    "import time\n",
    "import pickle\n",
    "import matplotlib.pyplot as plt\n",
    "import numpy as np\n",
    "import derivatives as d\n",
    "from chameleon import Chameleon"
   ]
  },
  {
   "cell_type": "code",
   "execution_count": 2,
   "id": "b243f895-9e98-4dec-bf20-5680d1b1b688",
   "metadata": {},
   "outputs": [],
   "source": [
    "chameleon = Chameleon(E=10, n_elems=50)"
   ]
  },
  {
   "cell_type": "code",
   "execution_count": 3,
   "id": "6181f7cd-9877-45f6-a805-492890dff904",
   "metadata": {},
   "outputs": [],
   "source": [
    "active_stress = np.linspace(1, 10, chameleon.n_elems)"
   ]
  },
  {
   "cell_type": "code",
   "execution_count": 4,
   "id": "63faa6cd-3c24-440d-a697-62ef2dfb101e",
   "metadata": {},
   "outputs": [],
   "source": [
    "# active_stress = (1/10)*active_stress**2"
   ]
  },
  {
   "cell_type": "code",
   "execution_count": 5,
   "id": "bc2c8487-b4c0-4ed3-8505-8b5799d8beee",
   "metadata": {},
   "outputs": [
    {
     "data": {
      "text/plain": [
       "array([ 1.        ,  1.18367347,  1.36734694,  1.55102041,  1.73469388,\n",
       "        1.91836735,  2.10204082,  2.28571429,  2.46938776,  2.65306122,\n",
       "        2.83673469,  3.02040816,  3.20408163,  3.3877551 ,  3.57142857,\n",
       "        3.75510204,  3.93877551,  4.12244898,  4.30612245,  4.48979592,\n",
       "        4.67346939,  4.85714286,  5.04081633,  5.2244898 ,  5.40816327,\n",
       "        5.59183673,  5.7755102 ,  5.95918367,  6.14285714,  6.32653061,\n",
       "        6.51020408,  6.69387755,  6.87755102,  7.06122449,  7.24489796,\n",
       "        7.42857143,  7.6122449 ,  7.79591837,  7.97959184,  8.16326531,\n",
       "        8.34693878,  8.53061224,  8.71428571,  8.89795918,  9.08163265,\n",
       "        9.26530612,  9.44897959,  9.63265306,  9.81632653, 10.        ])"
      ]
     },
     "execution_count": 5,
     "metadata": {},
     "output_type": "execute_result"
    }
   ],
   "source": [
    "active_stress"
   ]
  },
  {
   "cell_type": "markdown",
   "id": "e57c80e9-f007-4ec1-95fa-41b1f854be2e",
   "metadata": {},
   "source": [
    "## Is this is too slow? In order to do RL I want to be able to simulate much faster than this. (Jax?)\n",
    "\n",
    "### could also simulate for a shorter time when I want to.\n",
    "\n",
    "I could almost already build this as an RL environment. Just need to wrap this around a gym environment, reset the thing according to the most recent position and have each specification of torque account for a smaller period of simulation time. Maybe do 1000 steps of sim instead of 10000.\n",
    "\n"
   ]
  },
  {
   "cell_type": "code",
   "execution_count": 6,
   "id": "9fdf2993-3d08-4acb-8809-8feb24c89d54",
   "metadata": {},
   "outputs": [],
   "source": [
    "# %%time\n",
    "# chameleon.step(active_stress)"
   ]
  },
  {
   "cell_type": "code",
   "execution_count": 7,
   "id": "50156435-c94b-4404-919a-b8de7fa1746b",
   "metadata": {},
   "outputs": [
    {
     "name": "stdout",
     "output_type": "stream",
     "text": [
      "CPU times: user 210 ms, sys: 3.53 ms, total: 213 ms\n",
      "Wall time: 213 ms\n"
     ]
    }
   ],
   "source": [
    "%%time\n",
    "chameleon.forward_simulate(active_stress, sim_steps=1000)"
   ]
  },
  {
   "cell_type": "code",
   "execution_count": null,
   "id": "5cea9e73-5b34-451d-82bb-2f337524e90c",
   "metadata": {},
   "outputs": [],
   "source": []
  },
  {
   "cell_type": "markdown",
   "id": "5df2593d-e8ee-4620-a89f-d33f45f0e78d",
   "metadata": {},
   "source": [
    "# some hacky code to store the position history for later visualization.\n"
   ]
  },
  {
   "cell_type": "code",
   "execution_count": 10,
   "id": "2c4cb66c-3d14-4e93-8d24-2424313378ab",
   "metadata": {},
   "outputs": [],
   "source": [
    "history = []\n",
    "for i in range(len(chameleon.position_history)):\n",
    "    x_p = chameleon.position_history[i]\n",
    "    y = np.zeros(chameleon.n_elems)\n",
    "    ar = np.vstack((x_p, y)).T\n",
    "    history.append(ar)\n",
    "\n",
    "with open(\"history.txt\", \"wb\") as fp:\n",
    "    pickle.dump(history, fp)"
   ]
  },
  {
   "cell_type": "code",
   "execution_count": null,
   "id": "fe09dbcd-dbcd-46d9-b3cd-7303688ef4f8",
   "metadata": {},
   "outputs": [],
   "source": []
  }
 ],
 "metadata": {
  "kernelspec": {
   "display_name": "rl_env",
   "language": "python",
   "name": "rl_env"
  },
  "language_info": {
   "codemirror_mode": {
    "name": "ipython",
    "version": 3
   },
   "file_extension": ".py",
   "mimetype": "text/x-python",
   "name": "python",
   "nbconvert_exporter": "python",
   "pygments_lexer": "ipython3",
   "version": "3.7.4"
  }
 },
 "nbformat": 4,
 "nbformat_minor": 5
}
