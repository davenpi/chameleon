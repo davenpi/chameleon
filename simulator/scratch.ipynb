{
 "cells": [
  {
   "cell_type": "code",
   "execution_count": 1,
   "id": "aa19a508-f92f-4430-b131-e29194568d25",
   "metadata": {},
   "outputs": [],
   "source": [
    "%reset -f\n",
    "import gym\n",
    "import pickle\n",
    "import tqdm\n",
    "import numpy as np\n",
    "import matplotlib.pyplot as plt\n",
    "from stable_baselines3 import PPO\n",
    "from stable_baselines3.common.monitor import Monitor\n",
    "from chameleon import Chameleon\n",
    "from stable_baselines3.common.callbacks import (\n",
    "    EvalCallback,\n",
    "    BaseCallback,\n",
    "    StopTrainingOnRewardThreshold,\n",
    ")"
   ]
  },
  {
   "cell_type": "code",
   "execution_count": 2,
   "id": "b021bd63-69f8-462e-b8fc-306abe7a43b2",
   "metadata": {},
   "outputs": [
    {
     "data": {
      "text/plain": [
       "<stable_baselines3.ppo.ppo.PPO at 0x7fc091e24890>"
      ]
     },
     "execution_count": 2,
     "metadata": {},
     "output_type": "execute_result"
    }
   ],
   "source": [
    "env = Chameleon(rtol=0.05)\n",
    "env = Monitor(env, filename=\"nbmon\")\n",
    "model = PPO(\n",
    "    \"MlpPolicy\",\n",
    "    env,\n",
    "    verbose=0,\n",
    ")\n",
    "model.learn(total_timesteps=int(6e5))\n",
    "# model.load(\"logs/best_model.zip\")"
   ]
  },
  {
   "cell_type": "code",
   "execution_count": 3,
   "id": "80a8f119-7d3a-423c-926e-85929a9a8d66",
   "metadata": {},
   "outputs": [],
   "source": [
    "rews = np.loadtxt(\"nbmon.monitor.csv\", delimiter=\",\", skiprows=2, usecols=(0,))"
   ]
  },
  {
   "cell_type": "code",
   "execution_count": 3,
   "id": "09d9d0a6-e6d4-4e44-8e1e-91ad853042f7",
   "metadata": {},
   "outputs": [],
   "source": [
    "# rews.shape"
   ]
  },
  {
   "cell_type": "code",
   "execution_count": 4,
   "id": "66e0ef13-af4b-42b1-9539-9e1fee4c819b",
   "metadata": {},
   "outputs": [],
   "source": [
    "# rews = rews[865:]"
   ]
  },
  {
   "cell_type": "code",
   "execution_count": 5,
   "id": "7242d291-ae70-4a69-b555-47436e7f58ae",
   "metadata": {},
   "outputs": [],
   "source": [
    "# rews.shape"
   ]
  },
  {
   "cell_type": "code",
   "execution_count": 6,
   "id": "d9d7f83f-364a-4eeb-b1ac-b493e5da188a",
   "metadata": {},
   "outputs": [],
   "source": [
    "# rews = rews.reshape((1220, 100))\n",
    "# means = rews.mean(axis=1)\n",
    "# plt.plot(means)\n",
    "# plt.title(\"Episode reward over time\")\n",
    "# plt.xlabel(\"Epoch (100 episodes)\")\n",
    "# plt.ylabel(\"Mean reward\")\n",
    "# plt.savefig(\"rewardvsepoch.png\")\n",
    "# plt.show()"
   ]
  },
  {
   "cell_type": "code",
   "execution_count": 15,
   "id": "34b7add9-34ce-4da5-8055-899cb4394958",
   "metadata": {},
   "outputs": [],
   "source": [
    "# model = PPO.load(\"rtol0.05target0.18nstep6e5\")"
   ]
  },
  {
   "cell_type": "code",
   "execution_count": 2,
   "id": "df13a512-c16b-4cc0-afc0-13dbe1cf2c76",
   "metadata": {},
   "outputs": [],
   "source": [
    "# pos_hist = []\n",
    "# state = env.reset()\n",
    "# done = False\n",
    "# while not done:\n",
    "#     pos_hist.append(env.pos)\n",
    "#     action = model.predict(state, deterministic=True)[\n",
    "#         0\n",
    "#     ]  # need to do deterministic for PPO\n",
    "#     print(action)\n",
    "#     state, rew, done, _ = env.step(action)\n",
    "#     print(rew)"
   ]
  },
  {
   "cell_type": "code",
   "execution_count": 19,
   "id": "2388fb55-6d9e-46f5-a253-a3052d9d1e62",
   "metadata": {},
   "outputs": [],
   "source": [
    "# pos_hist.append(env.winning_pos)"
   ]
  },
  {
   "cell_type": "code",
   "execution_count": 10,
   "id": "2c73f67a-accc-45dc-a731-80fa5fd0df8c",
   "metadata": {},
   "outputs": [],
   "source": [
    "# history = []\n",
    "# for i in range(len(pos_hist)):\n",
    "#     x_p = pos_hist[i]\n",
    "#     y = np.zeros(env.n_elems)\n",
    "#     ar = np.vstack((x_p, y)).T\n",
    "#     history.append(ar)\n",
    "\n",
    "# with open(\"winning_history.txt\", \"wb\") as fp:\n",
    "#     pickle.dump(history, fp)"
   ]
  },
  {
   "cell_type": "code",
   "execution_count": 1,
   "id": "59b71a6f-1d96-4044-9c0e-b8b6fedf5d9f",
   "metadata": {},
   "outputs": [],
   "source": [
    "# i = 0\n",
    "# for pos in pos_hist:\n",
    "#     i+=1\n",
    "#     plt.scatter(pos, 0*pos)\n",
    "#     plt.scatter(0.1, 0)\n",
    "#     plt.scatter(0.18, 0)\n",
    "#     plt.title(f\"Tip position is {pos[-1]}\")\n",
    "#     plt.savefig(f\"frame{i}.png\")\n",
    "#     plt.clf()"
   ]
  },
  {
   "cell_type": "markdown",
   "id": "987fdbe8-5ce1-40a2-9e38-299c6af5c5c2",
   "metadata": {},
   "source": [
    "## max distance E = 1 agent can reach with the given torques is 0.21. How did i find that? By applying the max torque for each time step until the episode was over."
   ]
  }
 ],
 "metadata": {
  "kernelspec": {
   "display_name": "chameleon",
   "language": "python",
   "name": "chameleon"
  },
  "language_info": {
   "codemirror_mode": {
    "name": "ipython",
    "version": 3
   },
   "file_extension": ".py",
   "mimetype": "text/x-python",
   "name": "python",
   "nbconvert_exporter": "python",
   "pygments_lexer": "ipython3",
   "version": "3.7.4"
  }
 },
 "nbformat": 4,
 "nbformat_minor": 5
}
