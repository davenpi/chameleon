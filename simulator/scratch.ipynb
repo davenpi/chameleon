{
 "cells": [
  {
   "cell_type": "code",
   "execution_count": 9,
   "id": "aa19a508-f92f-4430-b131-e29194568d25",
   "metadata": {},
   "outputs": [],
   "source": [
    "%reset -f\n",
    "import gym\n",
    "import torch\n",
    "import tqdm\n",
    "import pickle\n",
    "import numpy as np\n",
    "import matplotlib.pyplot as plt\n",
    "from stable_baselines3 import PPO\n",
    "from stable_baselines3.common.monitor import Monitor\n",
    "from chameleon import Chameleon\n",
    "from stable_baselines3.common.callbacks import (\n",
    "    EvalCallback,\n",
    "    BaseCallback,\n",
    "    StopTrainingOnRewardThreshold,\n",
    ")"
   ]
  },
  {
   "cell_type": "code",
   "execution_count": 10,
   "id": "b021bd63-69f8-462e-b8fc-306abe7a43b2",
   "metadata": {},
   "outputs": [],
   "source": [
    "env = Chameleon(target_pos=0.18, atol=0.009, E=1)\n",
    "model = PPO(\n",
    "    policy=\"MlpPolicy\",\n",
    "    env=env,\n",
    "    verbose=0,\n",
    ")\n",
    "# model.learn(total_timesteps=2048)"
   ]
  },
  {
   "cell_type": "code",
   "execution_count": 12,
   "id": "e50b93b2-c556-4977-aead-ec8e2217c549",
   "metadata": {},
   "outputs": [],
   "source": [
    "E = 1"
   ]
  },
  {
   "cell_type": "code",
   "execution_count": 13,
   "id": "e2fd30c6-c7af-4d83-8e59-6c42c790515b",
   "metadata": {},
   "outputs": [
    {
     "data": {
      "text/plain": [
       "0.10010000000000001"
      ]
     },
     "execution_count": 13,
     "metadata": {},
     "output_type": "execute_result"
    }
   ],
   "source": [
    "env = Chameleon(train=False, target_pos=0.18, atol=0.009, E=E)\n",
    "const_action = -np.ones(env.n_elems)\n",
    "env.one_step(const_action)\n",
    "env.pos[-1]"
   ]
  },
  {
   "cell_type": "code",
   "execution_count": null,
   "id": "7c34ed01-dec7-4fb2-893d-24912a789dc0",
   "metadata": {},
   "outputs": [],
   "source": []
  },
  {
   "cell_type": "code",
   "execution_count": 19,
   "id": "d1a948a0-0c07-4c20-adfd-6bbd0dcf1238",
   "metadata": {},
   "outputs": [
    {
     "name": "stderr",
     "output_type": "stream",
     "text": [
      "100%|████████████████████████████████████████████████████████| 3000/3000 [00:00<00:00, 25932.44it/s]\n"
     ]
    },
    {
     "data": {
      "text/plain": [
       "array([0.        , 0.00398018, 0.00796036, 0.01194054, 0.01592072,\n",
       "       0.01990089, 0.02388107, 0.02786125, 0.03184143, 0.03582161,\n",
       "       0.03980179, 0.04378197, 0.04776215, 0.05174232, 0.0557225 ,\n",
       "       0.05970268, 0.06368286, 0.06766304, 0.07164322, 0.0756234 ,\n",
       "       0.07960358, 0.08358375, 0.08756393, 0.09154411, 0.09552429,\n",
       "       0.09950447, 0.10348465, 0.10746483, 0.11144501, 0.11542518,\n",
       "       0.11940536, 0.12338554, 0.12736572, 0.1313459 , 0.13532608,\n",
       "       0.13930626, 0.14328644, 0.14726662, 0.15124679, 0.15522697,\n",
       "       0.15920715, 0.16318733, 0.16716751, 0.17114769, 0.17512787,\n",
       "       0.17910805, 0.18308822, 0.1870684 , 0.19104858, 0.19502876])"
      ]
     },
     "execution_count": 19,
     "metadata": {},
     "output_type": "execute_result"
    }
   ],
   "source": [
    "env = Chameleon(target_pos=0.18, atol=0.009, E=E)\n",
    "const_action = -np.ones(env.n_elems)\n",
    "for i in tqdm.tqdm(range(3000)):\n",
    "    env.one_step(const_action)\n",
    "env.pos"
   ]
  },
  {
   "cell_type": "code",
   "execution_count": 8,
   "id": "1888bdee-01e4-42a3-91c7-f1422c112291",
   "metadata": {},
   "outputs": [
    {
     "name": "stdout",
     "output_type": "stream",
     "text": [
      "1.99 ms ± 108 µs per loop (mean ± std. dev. of 7 runs, 100 loops each)\n"
     ]
    }
   ],
   "source": [
    "%%timeit\n",
    "for i in range(100):\n",
    "    env.one_step(const_action)"
   ]
  },
  {
   "cell_type": "code",
   "execution_count": null,
   "id": "8da02aa9-ec63-4b06-bf1c-1f6c61bfb8ce",
   "metadata": {},
   "outputs": [],
   "source": [
    "action = np.array([-1])\n",
    "env.step(action)"
   ]
  },
  {
   "cell_type": "code",
   "execution_count": null,
   "id": "315cc745-b4c7-48be-b589-d269ae56ace3",
   "metadata": {},
   "outputs": [],
   "source": [
    "env.pos"
   ]
  },
  {
   "cell_type": "code",
   "execution_count": null,
   "id": "b8a9ef62-1840-41bf-b352-66c29fca5810",
   "metadata": {},
   "outputs": [],
   "source": [
    "env.E"
   ]
  },
  {
   "cell_type": "code",
   "execution_count": null,
   "id": "04723d9f-8bba-4860-b000-330b05d27e30",
   "metadata": {},
   "outputs": [],
   "source": [
    "env.atol"
   ]
  },
  {
   "cell_type": "code",
   "execution_count": null,
   "id": "8801553b-b428-4c7e-8436-5b1604f9090b",
   "metadata": {},
   "outputs": [],
   "source": [
    "env.learning_counter"
   ]
  },
  {
   "cell_type": "code",
   "execution_count": null,
   "id": "e0c5c8d4-9ae0-4cfb-b296-125bd5c123e8",
   "metadata": {},
   "outputs": [],
   "source": [
    "env.episode_length"
   ]
  },
  {
   "cell_type": "code",
   "execution_count": null,
   "id": "9be32353-3643-41ed-9771-c8ab65876ece",
   "metadata": {},
   "outputs": [],
   "source": []
  },
  {
   "cell_type": "code",
   "execution_count": null,
   "id": "43eb16e7-3e6b-4108-bc81-14352a9bf29c",
   "metadata": {},
   "outputs": [],
   "source": []
  },
  {
   "cell_type": "code",
   "execution_count": null,
   "id": "724e4e59-9876-4188-819f-35ea521826ef",
   "metadata": {},
   "outputs": [],
   "source": []
  },
  {
   "cell_type": "code",
   "execution_count": null,
   "id": "c802b9e0-a184-424a-a687-93c4039197f4",
   "metadata": {},
   "outputs": [],
   "source": []
  },
  {
   "cell_type": "code",
   "execution_count": null,
   "id": "a390a929-d7ae-4826-8312-1fd80533cff4",
   "metadata": {},
   "outputs": [],
   "source": []
  },
  {
   "cell_type": "code",
   "execution_count": null,
   "id": "2ed14bdd-e929-4ce4-b93d-285e8e7b30c1",
   "metadata": {},
   "outputs": [],
   "source": []
  },
  {
   "cell_type": "code",
   "execution_count": null,
   "id": "8b61d389-2f41-4643-bc89-a199320f28f3",
   "metadata": {},
   "outputs": [],
   "source": [
    "model.policy"
   ]
  },
  {
   "cell_type": "code",
   "execution_count": null,
   "id": "35f1c6f6-f007-40fb-a356-72774091b461",
   "metadata": {},
   "outputs": [],
   "source": [
    "mlp_extractor = model.policy.mlp_extractor"
   ]
  },
  {
   "cell_type": "code",
   "execution_count": null,
   "id": "4ef67b5f-7d45-43c8-b282-0ad31d1c0a8c",
   "metadata": {},
   "outputs": [],
   "source": [
    "feature_extractor = model.policy.features_extractor"
   ]
  },
  {
   "cell_type": "code",
   "execution_count": null,
   "id": "1cb6a529-fc4d-4315-86b2-9902e9d50deb",
   "metadata": {},
   "outputs": [],
   "source": [
    "feature_extractor"
   ]
  },
  {
   "cell_type": "code",
   "execution_count": null,
   "id": "b830ff3e-ec0a-455b-82ac-84691f702b40",
   "metadata": {},
   "outputs": [],
   "source": [
    "mlp_extractor"
   ]
  },
  {
   "cell_type": "code",
   "execution_count": null,
   "id": "c2015a35-11b2-4bb6-bcf4-a21b343df77b",
   "metadata": {},
   "outputs": [],
   "source": [
    "pytorch_total_params = sum(p.numel() for p in mlp_extractor.parameters())\n",
    "pytorch_trainable_total_params = sum(\n",
    "    p.numel() for p in mlp_extractor.parameters() if p.requires_grad\n",
    ")"
   ]
  },
  {
   "cell_type": "code",
   "execution_count": null,
   "id": "893fc546-088f-4184-acb0-e7e325b34ebb",
   "metadata": {},
   "outputs": [],
   "source": [
    "pytorch_trainable_total_params + 2 * 65"
   ]
  },
  {
   "cell_type": "code",
   "execution_count": null,
   "id": "645257c4-1129-41e4-9577-918bce6917bc",
   "metadata": {},
   "outputs": [],
   "source": [
    "pytorch_total_params = sum(p.numel() for p in model.policy.parameters())\n",
    "pytorch_trainable_total_params = sum(\n",
    "    p.numel() for p in model.policy.parameters() if p.requires_grad\n",
    ")"
   ]
  },
  {
   "cell_type": "code",
   "execution_count": null,
   "id": "9eaa40b6-913b-4f3c-93ad-c567e030c4e2",
   "metadata": {},
   "outputs": [],
   "source": [
    "type(model)"
   ]
  },
  {
   "cell_type": "code",
   "execution_count": null,
   "id": "e4219684-32ef-4812-8061-04a6b01b65ce",
   "metadata": {},
   "outputs": [],
   "source": [
    "pytorch_trainable_total_params"
   ]
  },
  {
   "cell_type": "markdown",
   "id": "e89129dc-9fba-4b3f-bcc6-53f675ceae00",
   "metadata": {},
   "source": [
    "# This is all of the disctinct networks and I can get the total number of parameters in the networks by adding up the number of parameters in each subcomponent. \n",
    "\n",
    "So looking at the number of parameters in the model.policy should match the sum of the things below. Maybe I will be off by the number of standard deviation parameters which is one in my case. "
   ]
  },
  {
   "cell_type": "code",
   "execution_count": null,
   "id": "cb17ea35-11d2-4c81-8f85-95a4b1b48a9a",
   "metadata": {},
   "outputs": [],
   "source": [
    "mlp_extractor = model.policy.mlp_extractor"
   ]
  },
  {
   "cell_type": "code",
   "execution_count": null,
   "id": "02d76174-01c5-4078-8e30-72739f656b1f",
   "metadata": {},
   "outputs": [],
   "source": [
    "mlp_extractor"
   ]
  },
  {
   "cell_type": "code",
   "execution_count": null,
   "id": "7e188db7-fad5-45ac-b1b7-c35646764d1f",
   "metadata": {},
   "outputs": [],
   "source": [
    "# for p in mlp_extractor.policy_net.parameters():\n",
    "#     print(p)\n",
    "#     print(p.shape)"
   ]
  },
  {
   "cell_type": "code",
   "execution_count": null,
   "id": "65d5c52e-fac8-4830-8b33-aa0f78420622",
   "metadata": {},
   "outputs": [],
   "source": [
    "model.policy.action_net"
   ]
  },
  {
   "cell_type": "code",
   "execution_count": null,
   "id": "277107dd-0a17-4a3a-b04e-38bfa6de3dd9",
   "metadata": {},
   "outputs": [],
   "source": [
    "model.policy.value_net"
   ]
  },
  {
   "cell_type": "code",
   "execution_count": null,
   "id": "70e55e4d-811e-45c1-888c-8a0811976bea",
   "metadata": {},
   "outputs": [],
   "source": [
    "model.learning_rate"
   ]
  },
  {
   "cell_type": "code",
   "execution_count": null,
   "id": "1c58a20b-6d00-4bba-8558-fa7f29b51e57",
   "metadata": {},
   "outputs": [],
   "source": [
    "model"
   ]
  }
 ],
 "metadata": {
  "kernelspec": {
   "display_name": "chameleon",
   "language": "python",
   "name": "chameleon"
  },
  "language_info": {
   "codemirror_mode": {
    "name": "ipython",
    "version": 3
   },
   "file_extension": ".py",
   "mimetype": "text/x-python",
   "name": "python",
   "nbconvert_exporter": "python",
   "pygments_lexer": "ipython3",
   "version": "3.7.4"
  }
 },
 "nbformat": 4,
 "nbformat_minor": 5
}
