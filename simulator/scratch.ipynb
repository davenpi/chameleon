{
 "cells": [
  {
   "cell_type": "code",
   "execution_count": null,
   "id": "aa19a508-f92f-4430-b131-e29194568d25",
   "metadata": {},
   "outputs": [],
   "source": [
    "import gym\n",
    "import pickle\n",
    "import numpy as np\n",
    "import matplotlib.pyplot as plt\n",
    "from stable_baselines3 import PPO  # DDPG, SAC, TD3\n",
    "from chameleon import Chameleon"
   ]
  },
  {
   "cell_type": "code",
   "execution_count": null,
   "id": "b021bd63-69f8-462e-b8fc-306abe7a43b2",
   "metadata": {
    "tags": []
   },
   "outputs": [],
   "source": [
    "target_pos = 0.24\n",
    "E = 1.0\n",
    "env = Chameleon(E=E, target_pos=target_pos)\n",
    "# env = gym.make(\"Chameleon-v0\")\n",
    "model = PPO(\"MlpPolicy\", env, gamma=1, learning_rate=1e-4, verbose=0)\n",
    "model.learn(total_timesteps=int(1e6), n_eval_episodes=1)"
   ]
  },
  {
   "cell_type": "code",
   "execution_count": null,
   "id": "df13a512-c16b-4cc0-afc0-13dbe1cf2c76",
   "metadata": {},
   "outputs": [],
   "source": [
    "# pos_hist = []\n",
    "# state = env.reset()\n",
    "# # pos_hist.append(env.pos)\n",
    "# done = False\n",
    "# while not done:\n",
    "#     pos_hist.append(env.pos)\n",
    "#     action = model.predict(state, deterministic=True)[0]  # need to do deterministic for PPO\n",
    "#     print(action)\n",
    "#     state, rew, done, _ = env.step(action)"
   ]
  },
  {
   "cell_type": "code",
   "execution_count": null,
   "id": "2591a5db-f120-4b13-a462-493d130bb040",
   "metadata": {},
   "outputs": [],
   "source": [
    "# pos_hist.append(env.winning_pos)"
   ]
  },
  {
   "cell_type": "code",
   "execution_count": null,
   "id": "2c73f67a-accc-45dc-a731-80fa5fd0df8c",
   "metadata": {},
   "outputs": [],
   "source": [
    "# history = []\n",
    "# for i in range(len(pos_hist)):\n",
    "#     x_p = pos_hist[i]\n",
    "#     y = np.zeros(env.n_elems)\n",
    "#     ar = np.vstack((x_p, y)).T\n",
    "#     history.append(ar)\n",
    "\n",
    "# with open(\"winning_history.txt\", \"wb\") as fp:\n",
    "#     pickle.dump(history, fp)"
   ]
  },
  {
   "cell_type": "code",
   "execution_count": null,
   "id": "811bec45-5436-4dc1-afb3-171432580ad8",
   "metadata": {},
   "outputs": [],
   "source": [
    "# model.save(\"one_million_ppo\")"
   ]
  }
 ],
 "metadata": {
  "kernelspec": {
   "display_name": "chameleon",
   "language": "python",
   "name": "chameleon"
  },
  "language_info": {
   "codemirror_mode": {
    "name": "ipython",
    "version": 3
   },
   "file_extension": ".py",
   "mimetype": "text/x-python",
   "name": "python",
   "nbconvert_exporter": "python",
   "pygments_lexer": "ipython3",
   "version": "3.7.4"
  }
 },
 "nbformat": 4,
 "nbformat_minor": 5
}
