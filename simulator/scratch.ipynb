{
 "cells": [
  {
   "cell_type": "code",
   "execution_count": 1,
   "id": "1e4c6178-deed-4d49-9335-2725e208967b",
   "metadata": {},
   "outputs": [],
   "source": [
    "%reset -f \n",
    "import pickle\n",
    "import matplotlib.pyplot as plt\n",
    "import numpy as np\n",
    "from scipy.interpolate import UnivariateSpline\n",
    "import time\n",
    "import derivatives as d\n",
    "from forward_sim import Chameleon"
   ]
  },
  {
   "cell_type": "code",
   "execution_count": 2,
   "id": "b243f895-9e98-4dec-bf20-5680d1b1b688",
   "metadata": {},
   "outputs": [],
   "source": [
    "chameleon = Chameleon(E=10)"
   ]
  },
  {
   "cell_type": "code",
   "execution_count": 3,
   "id": "6181f7cd-9877-45f6-a805-492890dff904",
   "metadata": {},
   "outputs": [],
   "source": [
    "active_stress = 1/10*np.linspace(1, 10, chameleon.n_elems)"
   ]
  },
  {
   "cell_type": "code",
   "execution_count": 4,
   "id": "63faa6cd-3c24-440d-a697-62ef2dfb101e",
   "metadata": {},
   "outputs": [
    {
     "data": {
      "text/plain": [
       "array([0.1, 0.2, 0.3, 0.4, 0.5, 0.6, 0.7, 0.8, 0.9, 1. ])"
      ]
     },
     "execution_count": 4,
     "metadata": {},
     "output_type": "execute_result"
    }
   ],
   "source": [
    "active_stress"
   ]
  },
  {
   "cell_type": "markdown",
   "id": "e57c80e9-f007-4ec1-95fa-41b1f854be2e",
   "metadata": {},
   "source": [
    "## Is this is too slow? In order to do RL I want to be able to simulate much faster than this. (Jax?)\n",
    "\n",
    "### could also simulate for a shorter time when I want to.\n",
    "\n",
    "I could almost already build this as an RL environment. Just need to wrap this around a gym environment, reset the thing according to the most recent position and have each specification of torque account for a smaller period of simulation time. Maybe do 1000 steps of sim instead of 10000.\n",
    "\n"
   ]
  },
  {
   "cell_type": "code",
   "execution_count": 5,
   "id": "9fdf2993-3d08-4acb-8809-8feb24c89d54",
   "metadata": {},
   "outputs": [
    {
     "name": "stdout",
     "output_type": "stream",
     "text": [
      "CPU times: user 812 µs, sys: 170 µs, total: 982 µs\n",
      "Wall time: 858 µs\n"
     ]
    }
   ],
   "source": [
    "%%time\n",
    "chameleon.step(active_stress)"
   ]
  },
  {
   "cell_type": "code",
   "execution_count": 6,
   "id": "50156435-c94b-4404-919a-b8de7fa1746b",
   "metadata": {},
   "outputs": [
    {
     "name": "stdout",
     "output_type": "stream",
     "text": [
      "CPU times: user 210 ms, sys: 3.23 ms, total: 213 ms\n",
      "Wall time: 212 ms\n"
     ]
    }
   ],
   "source": [
    "%%time\n",
    "chameleon.forward_simulate(active_stress, sim_steps=1000)"
   ]
  },
  {
   "cell_type": "code",
   "execution_count": 7,
   "id": "96c9e13e-dcfe-4c83-ae15-b9988edbee10",
   "metadata": {},
   "outputs": [
    {
     "data": {
      "text/plain": [
       "array([0.        , 0.2083041 , 0.40772997, 0.60570449, 0.80224343,\n",
       "       0.99736232, 1.19107649, 1.38340104, 1.57435084, 1.76394057])"
      ]
     },
     "execution_count": 7,
     "metadata": {},
     "output_type": "execute_result"
    }
   ],
   "source": [
    "chameleon.pos_f"
   ]
  },
  {
   "cell_type": "code",
   "execution_count": 8,
   "id": "24da5481-7b8a-434b-83f9-48fea5ddb62d",
   "metadata": {},
   "outputs": [
    {
     "data": {
      "text/plain": [
       "array([0.        , 0.09719299, 0.18550775, 0.27237116, 0.35779899,\n",
       "       0.44180677, 0.52440983, 0.60562326, 0.68546195, 0.76394057])"
      ]
     },
     "execution_count": 8,
     "metadata": {},
     "output_type": "execute_result"
    }
   ],
   "source": [
    "chameleon.disp_current"
   ]
  },
  {
   "cell_type": "markdown",
   "id": "5df2593d-e8ee-4620-a89f-d33f45f0e78d",
   "metadata": {},
   "source": [
    "# some hacky code to store the position history for later visualization.\n"
   ]
  },
  {
   "cell_type": "code",
   "execution_count": null,
   "id": "2c4cb66c-3d14-4e93-8d24-2424313378ab",
   "metadata": {},
   "outputs": [],
   "source": [
    "history = []\n",
    "for i in range(len(chameleon.position_history)):\n",
    "    x_p = chameleon.position_history[i]\n",
    "    y = np.zeros(10)\n",
    "    ar = np.vstack((x_p, y)).T\n",
    "    history.append(ar)\n",
    "\n",
    "with open(\"history.txt\", \"wb\") as fp:\n",
    "    pickle.dump(history, fp)\n",
    "\n"
   ]
  }
 ],
 "metadata": {
  "kernelspec": {
   "display_name": "rl_env",
   "language": "python",
   "name": "rl_env"
  },
  "language_info": {
   "codemirror_mode": {
    "name": "ipython",
    "version": 3
   },
   "file_extension": ".py",
   "mimetype": "text/x-python",
   "name": "python",
   "nbconvert_exporter": "python",
   "pygments_lexer": "ipython3",
   "version": "3.7.4"
  }
 },
 "nbformat": 4,
 "nbformat_minor": 5
}
