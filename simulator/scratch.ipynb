{
 "cells": [
  {
   "cell_type": "code",
   "execution_count": null,
   "id": "ee113fb0-106f-485b-9c0d-60ee380d1fa8",
   "metadata": {},
   "outputs": [],
   "source": [
    "%reset -f\n",
    "import time\n",
    "import pickle\n",
    "import gym\n",
    "from stable_baselines3 import DDPG\n",
    "from stable_baselines3.common.env_checker import check_env\n",
    "import matplotlib.pyplot as plt\n",
    "import numpy as np\n",
    "from tqdm import tqdm\n",
    "import derivatives as d\n",
    "import forward_helpers as fh\n",
    "from chameleon import Chameleon"
   ]
  },
  {
   "cell_type": "markdown",
   "id": "b6b718df-09f2-455f-a7ae-be40454d622a",
   "metadata": {},
   "source": [
    "## Doing the RL"
   ]
  },
  {
   "cell_type": "code",
   "execution_count": null,
   "id": "4ba304ab-3810-44c0-ac91-300d0ce280e7",
   "metadata": {},
   "outputs": [],
   "source": [
    "env = Chameleon(E=1e-1, target_pos=0.141, dt=1e-6)\n",
    "model = DDPG(\"MlpPolicy\", env, verbose=0)"
   ]
  },
  {
   "cell_type": "code",
   "execution_count": null,
   "id": "b77ebd39-f807-4dc4-ad08-5380e1449210",
   "metadata": {
    "tags": []
   },
   "outputs": [],
   "source": [
    "model.learn(total_timesteps=int(5e3))"
   ]
  },
  {
   "cell_type": "code",
   "execution_count": null,
   "id": "27af766a-3005-4b94-8cf6-3aa62ee2bbff",
   "metadata": {},
   "outputs": [],
   "source": [
    "# model = DDPG.load(\"successful_reaching_E0.01\")"
   ]
  },
  {
   "cell_type": "code",
   "execution_count": null,
   "id": "4964c69c-f5b0-4e90-9139-fe27d4b01e06",
   "metadata": {},
   "outputs": [],
   "source": [
    "# done = False\n",
    "# state = env.reset()\n",
    "# pos_hist = []\n",
    "# pos_hist.append(env.position_history[-1])\n",
    "# while not done:\n",
    "#     action = model.predict(state)[0]\n",
    "#     state, rew, done, _ = env.step(action)\n",
    "#     pos_hist.append(env.position_history[-1])"
   ]
  },
  {
   "cell_type": "code",
   "execution_count": null,
   "id": "21fefc39-e52c-4244-aa1c-c8aeafff3697",
   "metadata": {},
   "outputs": [],
   "source": [
    "# action1 = model.predict(env.reset())[0]"
   ]
  },
  {
   "cell_type": "code",
   "execution_count": null,
   "id": "22c2ee42-376d-4a2b-a86f-f7b7e71dac27",
   "metadata": {},
   "outputs": [],
   "source": [
    "# state_2, rew, done, _ = env.step(action1)"
   ]
  },
  {
   "cell_type": "code",
   "execution_count": null,
   "id": "5ecedc7b-1b8b-4c6e-b6c4-2bc657f809aa",
   "metadata": {},
   "outputs": [],
   "source": [
    "# action2 = model.predict(state_2)[0]"
   ]
  },
  {
   "cell_type": "code",
   "execution_count": null,
   "id": "61c8187f-e28b-4b03-985f-003404948dd5",
   "metadata": {},
   "outputs": [],
   "source": [
    "# state_3, rew, done, _ = env.step(action2)"
   ]
  },
  {
   "cell_type": "code",
   "execution_count": null,
   "id": "7aea2aea-8afd-453c-9a67-498461dec9ef",
   "metadata": {},
   "outputs": [],
   "source": [
    "# action3 = model.predict(state_3)[0]"
   ]
  },
  {
   "cell_type": "code",
   "execution_count": null,
   "id": "bfa3d4ff-3cc6-464b-a0fe-b0f57f70b937",
   "metadata": {},
   "outputs": [],
   "source": [
    "# state_4, rew, done, _ = env.step(action3)"
   ]
  },
  {
   "cell_type": "code",
   "execution_count": null,
   "id": "2f01210a-30e8-4c04-82b8-b408b51b5997",
   "metadata": {},
   "outputs": [],
   "source": [
    "# actions = [action1, action2, action3]"
   ]
  },
  {
   "cell_type": "code",
   "execution_count": null,
   "id": "7e01255a-19c3-43bc-af1f-9db3ceb8e905",
   "metadata": {},
   "outputs": [],
   "source": []
  },
  {
   "cell_type": "code",
   "execution_count": null,
   "id": "8168ebf1-81cc-4385-b522-8aa86f530530",
   "metadata": {},
   "outputs": [],
   "source": [
    "# stresses = []\n",
    "# i = 0\n",
    "# for pos in list(env.position_history)[:-1]:\n",
    "#     act = actions[i]\n",
    "#     constant = act[0]*np.ones(env.n_elems)\n",
    "#     linear = act[1]*pos\n",
    "#     quad = act[2]*pos**2\n",
    "#     stresses.append(10*(constant+linear+quad))\n",
    "#     i+=1"
   ]
  },
  {
   "cell_type": "code",
   "execution_count": null,
   "id": "70e3fb91-6e3e-4452-a376-82e1dfd57a81",
   "metadata": {},
   "outputs": [],
   "source": [
    "# plt.scatter(env.position_history[-4], stresses[-3])\n",
    "# plt.scatter(env.position_history[-3], stresses[-2])\n",
    "# plt.scatter(pos, stresses[-1])\n",
    "# plt.title(\"Stress vs position\")\n",
    "# plt.legend((\"step1\", \"step2\", \"step3\"))\n",
    "# plt.savefig(\"stress_plot_3step.png\")"
   ]
  },
  {
   "cell_type": "code",
   "execution_count": null,
   "id": "bc19ef8d-c791-4fce-b29b-e8fd1afad77a",
   "metadata": {},
   "outputs": [],
   "source": [
    "# %%time\n",
    "# active_stress = 10 * np.linspace(1, 10, 50)\n",
    "# fh.forward_simulate(env, active_stress, sim_steps=10_000)\n",
    "# diffs = np.diff(env.pos_f)\n",
    "# idxs = np.where(diffs < 0)"
   ]
  },
  {
   "cell_type": "code",
   "execution_count": null,
   "id": "04650112-cb90-4369-844d-bb901b0c8582",
   "metadata": {},
   "outputs": [],
   "source": [
    "# history = []\n",
    "# for i in range(len(pos_hist)):\n",
    "#     x_p = pos_hist[i]\n",
    "#     y = np.zeros(env.n_elems)\n",
    "#     ar = np.vstack((x_p, y)).T\n",
    "#     history.append(ar)\n",
    "\n",
    "# with open(\"winning_history.txt\", \"wb\") as fp:\n",
    "#     pickle.dump(history, fp)"
   ]
  },
  {
   "cell_type": "code",
   "execution_count": null,
   "id": "841669f2-dca9-4d18-ad9e-23b2a9928d25",
   "metadata": {},
   "outputs": [],
   "source": [
    "# with open(\"winning_history.txt\", \"rb\") as fp:\n",
    "#     history = pickle.load(fp)\n",
    "\n",
    "# h = np.array(history)"
   ]
  },
  {
   "cell_type": "code",
   "execution_count": null,
   "id": "fc66f15c-17d1-401f-8465-6aabcdb87188",
   "metadata": {},
   "outputs": [],
   "source": []
  }
 ],
 "metadata": {
  "kernelspec": {
   "display_name": "chameleon",
   "language": "python",
   "name": "chameleon"
  },
  "language_info": {
   "codemirror_mode": {
    "name": "ipython",
    "version": 3
   },
   "file_extension": ".py",
   "mimetype": "text/x-python",
   "name": "python",
   "nbconvert_exporter": "python",
   "pygments_lexer": "ipython3",
   "version": "3.7.4"
  }
 },
 "nbformat": 4,
 "nbformat_minor": 5
}
