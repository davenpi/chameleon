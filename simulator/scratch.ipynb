{
 "cells": [
  {
   "cell_type": "code",
   "execution_count": 1,
   "id": "aa19a508-f92f-4430-b131-e29194568d25",
   "metadata": {},
   "outputs": [],
   "source": [
    "%reset -f\n",
    "import gym\n",
    "import tqdm\n",
    "import torch\n",
    "import pickle\n",
    "import numpy as np\n",
    "import matplotlib.pyplot as plt\n",
    "from stable_baselines3 import PPO\n",
    "from stable_baselines3.common.monitor import Monitor\n",
    "from chameleon import Chameleon\n",
    "from stable_baselines3.common.callbacks import (\n",
    "    EvalCallback,\n",
    "    BaseCallback,\n",
    "    StopTrainingOnRewardThreshold,\n",
    ")"
   ]
  },
  {
   "cell_type": "code",
   "execution_count": 33,
   "id": "b021bd63-69f8-462e-b8fc-306abe7a43b2",
   "metadata": {},
   "outputs": [],
   "source": [
    "env = Chameleon()\n",
    "# env = Monitor(env, filename=\"nbmon\")\n",
    "model = PPO(\n",
    "    policy=\"MlpPolicy\",\n",
    "    env=env,\n",
    "    verbose=0,\n",
    ")\n",
    "# model.learn(total_timesteps=int(6e5))\n",
    "# model.load(\"logs/best_model.zip\")"
   ]
  },
  {
   "cell_type": "markdown",
   "id": "e89129dc-9fba-4b3f-bcc6-53f675ceae00",
   "metadata": {},
   "source": [
    "# This is all of the disctinct networks and I can get the total number of parameters in the networks by adding up the number of parameters in each subcomponent. \n",
    "\n",
    "So looking at the number of parameters in the model.policy should match the sum of the things below. Maybe I will be off by the number of standard deviation parameters which is one in my case. "
   ]
  },
  {
   "cell_type": "code",
   "execution_count": null,
   "id": "cb17ea35-11d2-4c81-8f85-95a4b1b48a9a",
   "metadata": {},
   "outputs": [],
   "source": [
    "mlp_extractor = model.policy.mlp_extractor"
   ]
  },
  {
   "cell_type": "code",
   "execution_count": null,
   "id": "02d76174-01c5-4078-8e30-72739f656b1f",
   "metadata": {},
   "outputs": [],
   "source": [
    "mlp_extractor"
   ]
  },
  {
   "cell_type": "code",
   "execution_count": null,
   "id": "7e188db7-fad5-45ac-b1b7-c35646764d1f",
   "metadata": {},
   "outputs": [],
   "source": [
    "# for p in mlp_extractor.policy_net.parameters():\n",
    "#     print(p)\n",
    "#     print(p.shape)"
   ]
  },
  {
   "cell_type": "code",
   "execution_count": null,
   "id": "65d5c52e-fac8-4830-8b33-aa0f78420622",
   "metadata": {},
   "outputs": [],
   "source": [
    "model.policy.action_net"
   ]
  },
  {
   "cell_type": "code",
   "execution_count": null,
   "id": "277107dd-0a17-4a3a-b04e-38bfa6de3dd9",
   "metadata": {},
   "outputs": [],
   "source": [
    "model.policy.value_net"
   ]
  },
  {
   "cell_type": "code",
   "execution_count": null,
   "id": "70e55e4d-811e-45c1-888c-8a0811976bea",
   "metadata": {},
   "outputs": [],
   "source": [
    "model.learning_rate"
   ]
  },
  {
   "cell_type": "code",
   "execution_count": null,
   "id": "1c58a20b-6d00-4bba-8558-fa7f29b51e57",
   "metadata": {},
   "outputs": [],
   "source": [
    "model"
   ]
  }
 ],
 "metadata": {
  "kernelspec": {
   "display_name": "chameleon",
   "language": "python",
   "name": "chameleon"
  },
  "language_info": {
   "codemirror_mode": {
    "name": "ipython",
    "version": 3
   },
   "file_extension": ".py",
   "mimetype": "text/x-python",
   "name": "python",
   "nbconvert_exporter": "python",
   "pygments_lexer": "ipython3",
   "version": "3.7.4"
  }
 },
 "nbformat": 4,
 "nbformat_minor": 5
}
