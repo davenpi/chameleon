{
 "cells": [
  {
   "cell_type": "code",
   "execution_count": 1,
   "id": "1e4c6178-deed-4d49-9335-2725e208967b",
   "metadata": {},
   "outputs": [],
   "source": [
    "%reset -f \n",
    "import matplotlib.pyplot as plt\n",
    "import numpy as np\n",
    "from scipy.interpolate import UnivariateSpline\n",
    "import time\n",
    "import derivatives as d\n",
    "from forward_sim import Chameleon"
   ]
  },
  {
   "cell_type": "code",
   "execution_count": 2,
   "id": "b243f895-9e98-4dec-bf20-5680d1b1b688",
   "metadata": {},
   "outputs": [],
   "source": [
    "chameleon = Chameleon(T=1, E=10)"
   ]
  },
  {
   "cell_type": "code",
   "execution_count": 3,
   "id": "6181f7cd-9877-45f6-a805-492890dff904",
   "metadata": {},
   "outputs": [],
   "source": [
    "active_torque = 1/10*np.linspace(1, 10, chameleon.n_elems)"
   ]
  },
  {
   "cell_type": "code",
   "execution_count": 4,
   "id": "5b4a0ee9-b9a6-48a1-8f95-f513f44e71ef",
   "metadata": {},
   "outputs": [
    {
     "data": {
      "text/plain": [
       "array([0.1, 0.2, 0.3, 0.4, 0.5, 0.6, 0.7, 0.8, 0.9, 1. ])"
      ]
     },
     "execution_count": 4,
     "metadata": {},
     "output_type": "execute_result"
    }
   ],
   "source": [
    "active_torque"
   ]
  },
  {
   "cell_type": "code",
   "execution_count": 5,
   "id": "73862a2f-6e02-4c2c-b4f6-8d405d8e32c7",
   "metadata": {},
   "outputs": [
    {
     "data": {
      "text/plain": [
       "1000"
      ]
     },
     "execution_count": 5,
     "metadata": {},
     "output_type": "execute_result"
    }
   ],
   "source": [
    "chameleon.n_steps"
   ]
  },
  {
   "cell_type": "code",
   "execution_count": null,
   "id": "573051db-c6d3-4462-bf06-8cdd49395bb9",
   "metadata": {},
   "outputs": [],
   "source": []
  },
  {
   "cell_type": "markdown",
   "id": "e57c80e9-f007-4ec1-95fa-41b1f854be2e",
   "metadata": {},
   "source": [
    "## This is too slow. In order to do RL I want to be able to simulate much faster than this. (Jax?)\n",
    "\n",
    "### could also simulate for a shorter time when I want to.\n",
    "\n",
    "I could damn near already build this as an RL environment. Just need to wrap this around a gym environment, reset the thing according to the most recent position and have each specification of torque account for a smaller period of simulation time. Maybe do 1000 steps of sim instead of 10000.\n"
   ]
  },
  {
   "cell_type": "code",
   "execution_count": 6,
   "id": "9fdf2993-3d08-4acb-8809-8feb24c89d54",
   "metadata": {},
   "outputs": [
    {
     "name": "stdout",
     "output_type": "stream",
     "text": [
      "CPU times: user 720 µs, sys: 154 µs, total: 874 µs\n",
      "Wall time: 775 µs\n"
     ]
    }
   ],
   "source": [
    "%%time\n",
    "chameleon.step(active_torque)"
   ]
  },
  {
   "cell_type": "markdown",
   "id": "b53c3907-0752-41f4-a86c-919a6f1f8c55",
   "metadata": {},
   "source": [
    "## Why this error when I increase young's modulus? That seems weird"
   ]
  },
  {
   "cell_type": "code",
   "execution_count": 7,
   "id": "50156435-c94b-4404-919a-b8de7fa1746b",
   "metadata": {},
   "outputs": [
    {
     "ename": "ValueError",
     "evalue": "x must be increasing if s > 0",
     "output_type": "error",
     "traceback": [
      "\u001b[0;31m---------------------------------------------------------------------------\u001b[0m",
      "\u001b[0;31mValueError\u001b[0m                                Traceback (most recent call last)",
      "\u001b[0;32m<timed eval>\u001b[0m in \u001b[0;36m<module>\u001b[0;34m\u001b[0m\n",
      "\u001b[0;32m~/Desktop/research/chameleon/simulator/forward_sim.py\u001b[0m in \u001b[0;36mforward_simulate\u001b[0;34m(self, torque)\u001b[0m\n\u001b[1;32m     63\u001b[0m         \"\"\"\n\u001b[1;32m     64\u001b[0m         \u001b[0;32mfor\u001b[0m \u001b[0mi\u001b[0m \u001b[0;32min\u001b[0m \u001b[0mrange\u001b[0m\u001b[0;34m(\u001b[0m\u001b[0mself\u001b[0m\u001b[0;34m.\u001b[0m\u001b[0mn_steps\u001b[0m\u001b[0;34m)\u001b[0m\u001b[0;34m:\u001b[0m \u001b[0;31m# running full forward simulation now.\u001b[0m\u001b[0;34m\u001b[0m\u001b[0;34m\u001b[0m\u001b[0m\n\u001b[0;32m---> 65\u001b[0;31m             \u001b[0mself\u001b[0m\u001b[0;34m.\u001b[0m\u001b[0mstep\u001b[0m\u001b[0;34m(\u001b[0m\u001b[0mtorque\u001b[0m\u001b[0;34m)\u001b[0m\u001b[0;34m\u001b[0m\u001b[0;34m\u001b[0m\u001b[0m\n\u001b[0m\u001b[1;32m     66\u001b[0m \u001b[0;34m\u001b[0m\u001b[0m\n\u001b[1;32m     67\u001b[0m     \u001b[0;32mdef\u001b[0m \u001b[0mcheck_target_dist\u001b[0m\u001b[0;34m(\u001b[0m\u001b[0mself\u001b[0m\u001b[0;34m)\u001b[0m\u001b[0;34m:\u001b[0m\u001b[0;34m\u001b[0m\u001b[0;34m\u001b[0m\u001b[0m\n",
      "\u001b[0;32m~/Desktop/research/chameleon/simulator/forward_sim.py\u001b[0m in \u001b[0;36mstep\u001b[0;34m(self, torque)\u001b[0m\n\u001b[1;32m     54\u001b[0m         \u001b[0meach\u001b[0m \u001b[0melement\u001b[0m\u001b[0;34m.\u001b[0m\u001b[0;34m\u001b[0m\u001b[0;34m\u001b[0m\u001b[0m\n\u001b[1;32m     55\u001b[0m         \"\"\"\n\u001b[0;32m---> 56\u001b[0;31m         \u001b[0mself\u001b[0m\u001b[0;34m.\u001b[0m\u001b[0mupdate_disp\u001b[0m\u001b[0;34m(\u001b[0m\u001b[0mtorque\u001b[0m\u001b[0;34m)\u001b[0m\u001b[0;34m\u001b[0m\u001b[0;34m\u001b[0m\u001b[0m\n\u001b[0m\u001b[1;32m     57\u001b[0m         \u001b[0mself\u001b[0m\u001b[0;34m.\u001b[0m\u001b[0mupdate_pos\u001b[0m\u001b[0;34m(\u001b[0m\u001b[0;34m)\u001b[0m\u001b[0;34m\u001b[0m\u001b[0;34m\u001b[0m\u001b[0m\n\u001b[1;32m     58\u001b[0m         \u001b[0mself\u001b[0m\u001b[0;34m.\u001b[0m\u001b[0mposition_history\u001b[0m\u001b[0;34m.\u001b[0m\u001b[0mappend\u001b[0m\u001b[0;34m(\u001b[0m\u001b[0mself\u001b[0m\u001b[0;34m.\u001b[0m\u001b[0mpos_f\u001b[0m\u001b[0;34m)\u001b[0m\u001b[0;34m\u001b[0m\u001b[0;34m\u001b[0m\u001b[0m\n",
      "\u001b[0;32m~/Desktop/research/chameleon/simulator/forward_sim.py\u001b[0m in \u001b[0;36mupdate_disp\u001b[0;34m(self, active_torque)\u001b[0m\n\u001b[1;32m     35\u001b[0m     \u001b[0;32mdef\u001b[0m \u001b[0mupdate_disp\u001b[0m\u001b[0;34m(\u001b[0m\u001b[0mself\u001b[0m\u001b[0;34m,\u001b[0m \u001b[0mactive_torque\u001b[0m\u001b[0;34m:\u001b[0m \u001b[0mnp\u001b[0m\u001b[0;34m.\u001b[0m\u001b[0mndarray\u001b[0m\u001b[0;34m)\u001b[0m\u001b[0;34m:\u001b[0m\u001b[0;34m\u001b[0m\u001b[0;34m\u001b[0m\u001b[0m\n\u001b[1;32m     36\u001b[0m         internal_stress = (self.E / self.alpha) * d.u_second_space_derivative(\n\u001b[0;32m---> 37\u001b[0;31m             \u001b[0mself\u001b[0m\u001b[0;34m.\u001b[0m\u001b[0mdisp_current\u001b[0m\u001b[0;34m,\u001b[0m \u001b[0mself\u001b[0m\u001b[0;34m.\u001b[0m\u001b[0mpos_f\u001b[0m\u001b[0;34m\u001b[0m\u001b[0;34m\u001b[0m\u001b[0m\n\u001b[0m\u001b[1;32m     38\u001b[0m         )\n\u001b[1;32m     39\u001b[0m         external_stress = (1 / self.alpha) * d.active_torque_deriv(\n",
      "\u001b[0;32m~/Desktop/research/chameleon/simulator/derivatives.py\u001b[0m in \u001b[0;36mu_second_space_derivative\u001b[0;34m(disp, pos)\u001b[0m\n\u001b[1;32m     58\u001b[0m         \u001b[0mValue\u001b[0m \u001b[0mof\u001b[0m \u001b[0msecond\u001b[0m \u001b[0mderivative\u001b[0m \u001b[0mof\u001b[0m \u001b[0mdisplacement\u001b[0m \u001b[0mat\u001b[0m \u001b[0minput\u001b[0m \u001b[0mpositions\u001b[0m\u001b[0;34m.\u001b[0m\u001b[0;34m\u001b[0m\u001b[0;34m\u001b[0m\u001b[0m\n\u001b[1;32m     59\u001b[0m     \"\"\"\n\u001b[0;32m---> 60\u001b[0;31m     \u001b[0mspline\u001b[0m \u001b[0;34m=\u001b[0m \u001b[0mUnivariateSpline\u001b[0m\u001b[0;34m(\u001b[0m\u001b[0mpos\u001b[0m\u001b[0;34m,\u001b[0m \u001b[0mdisp\u001b[0m\u001b[0;34m)\u001b[0m\u001b[0;34m\u001b[0m\u001b[0;34m\u001b[0m\u001b[0m\n\u001b[0m\u001b[1;32m     61\u001b[0m     \u001b[0mderiv\u001b[0m \u001b[0;34m=\u001b[0m \u001b[0mspline\u001b[0m\u001b[0;34m.\u001b[0m\u001b[0mderivative\u001b[0m\u001b[0;34m(\u001b[0m\u001b[0mn\u001b[0m\u001b[0;34m=\u001b[0m\u001b[0;36m2\u001b[0m\u001b[0;34m)\u001b[0m\u001b[0;34m(\u001b[0m\u001b[0mpos\u001b[0m\u001b[0;34m)\u001b[0m\u001b[0;34m\u001b[0m\u001b[0;34m\u001b[0m\u001b[0m\n\u001b[1;32m     62\u001b[0m     \u001b[0;32mreturn\u001b[0m \u001b[0mderiv\u001b[0m\u001b[0;34m\u001b[0m\u001b[0;34m\u001b[0m\u001b[0m\n",
      "\u001b[0;32m~/Desktop/learnrl/venv/lib/python3.7/site-packages/scipy/interpolate/fitpack2.py\u001b[0m in \u001b[0;36m__init__\u001b[0;34m(self, x, y, w, bbox, k, s, ext, check_finite)\u001b[0m\n\u001b[1;32m    198\u001b[0m \u001b[0;34m\u001b[0m\u001b[0m\n\u001b[1;32m    199\u001b[0m         x, y, w, bbox, self.ext = self.validate_input(x, y, w, bbox, k, s, ext,\n\u001b[0;32m--> 200\u001b[0;31m                                                       check_finite)\n\u001b[0m\u001b[1;32m    201\u001b[0m \u001b[0;34m\u001b[0m\u001b[0m\n\u001b[1;32m    202\u001b[0m         \u001b[0;31m# _data == x,y,w,xb,xe,k,s,n,t,c,fp,fpint,nrdata,ier\u001b[0m\u001b[0;34m\u001b[0m\u001b[0;34m\u001b[0m\u001b[0;34m\u001b[0m\u001b[0m\n",
      "\u001b[0;32m~/Desktop/learnrl/venv/lib/python3.7/site-packages/scipy/interpolate/fitpack2.py\u001b[0m in \u001b[0;36mvalidate_input\u001b[0;34m(x, y, w, bbox, k, s, ext, check_finite)\u001b[0m\n\u001b[1;32m    222\u001b[0m         \u001b[0;32mif\u001b[0m \u001b[0ms\u001b[0m \u001b[0;32mis\u001b[0m \u001b[0;32mNone\u001b[0m \u001b[0;32mor\u001b[0m \u001b[0ms\u001b[0m \u001b[0;34m>\u001b[0m \u001b[0;36m0\u001b[0m\u001b[0;34m:\u001b[0m\u001b[0;34m\u001b[0m\u001b[0;34m\u001b[0m\u001b[0m\n\u001b[1;32m    223\u001b[0m             \u001b[0;32mif\u001b[0m \u001b[0;32mnot\u001b[0m \u001b[0mnp\u001b[0m\u001b[0;34m.\u001b[0m\u001b[0mall\u001b[0m\u001b[0;34m(\u001b[0m\u001b[0mdiff\u001b[0m\u001b[0;34m(\u001b[0m\u001b[0mx\u001b[0m\u001b[0;34m)\u001b[0m \u001b[0;34m>=\u001b[0m \u001b[0;36m0.0\u001b[0m\u001b[0;34m)\u001b[0m\u001b[0;34m:\u001b[0m\u001b[0;34m\u001b[0m\u001b[0;34m\u001b[0m\u001b[0m\n\u001b[0;32m--> 224\u001b[0;31m                 \u001b[0;32mraise\u001b[0m \u001b[0mValueError\u001b[0m\u001b[0;34m(\u001b[0m\u001b[0;34m\"x must be increasing if s > 0\"\u001b[0m\u001b[0;34m)\u001b[0m\u001b[0;34m\u001b[0m\u001b[0;34m\u001b[0m\u001b[0m\n\u001b[0m\u001b[1;32m    225\u001b[0m         \u001b[0;32melse\u001b[0m\u001b[0;34m:\u001b[0m\u001b[0;34m\u001b[0m\u001b[0;34m\u001b[0m\u001b[0m\n\u001b[1;32m    226\u001b[0m             \u001b[0;32mif\u001b[0m \u001b[0;32mnot\u001b[0m \u001b[0mnp\u001b[0m\u001b[0;34m.\u001b[0m\u001b[0mall\u001b[0m\u001b[0;34m(\u001b[0m\u001b[0mdiff\u001b[0m\u001b[0;34m(\u001b[0m\u001b[0mx\u001b[0m\u001b[0;34m)\u001b[0m \u001b[0;34m>\u001b[0m \u001b[0;36m0.0\u001b[0m\u001b[0;34m)\u001b[0m\u001b[0;34m:\u001b[0m\u001b[0;34m\u001b[0m\u001b[0;34m\u001b[0m\u001b[0m\n",
      "\u001b[0;31mValueError\u001b[0m: x must be increasing if s > 0"
     ]
    }
   ],
   "source": [
    "%%time\n",
    "chameleon.forward_simulate(active_torque)"
   ]
  },
  {
   "cell_type": "code",
   "execution_count": 11,
   "id": "96c9e13e-dcfe-4c83-ae15-b9988edbee10",
   "metadata": {},
   "outputs": [
    {
     "data": {
      "text/plain": [
       "array([0.        , 2.35228848, 2.69303553, 3.02001559, 3.31734221,\n",
       "       3.57127147, 3.77068376, 3.90741218, 3.97639546, 3.97565265])"
      ]
     },
     "execution_count": 11,
     "metadata": {},
     "output_type": "execute_result"
    }
   ],
   "source": [
    "chameleon.pos_f"
   ]
  },
  {
   "cell_type": "code",
   "execution_count": 12,
   "id": "24da5481-7b8a-434b-83f9-48fea5ddb62d",
   "metadata": {},
   "outputs": [
    {
     "data": {
      "text/plain": [
       "array([0.06157795, 0.03833096, 0.04387748, 0.0503022 , 0.05687801,\n",
       "       0.06291581, 0.06781202, 0.07108787, 0.07241634, 0.07163474])"
      ]
     },
     "execution_count": 12,
     "metadata": {},
     "output_type": "execute_result"
    }
   ],
   "source": [
    "chameleon.disp_current"
   ]
  },
  {
   "cell_type": "code",
   "execution_count": 39,
   "id": "beffc901-cb60-4c18-bcbc-752a1a168551",
   "metadata": {},
   "outputs": [
    {
     "data": {
      "text/plain": [
       "1000"
      ]
     },
     "execution_count": 39,
     "metadata": {},
     "output_type": "execute_result"
    }
   ],
   "source": [
    "len(chameleon.position_history)"
   ]
  },
  {
   "cell_type": "markdown",
   "id": "5df2593d-e8ee-4620-a89f-d33f45f0e78d",
   "metadata": {},
   "source": [
    "# I would like to see some kind of visualization of the position history here"
   ]
  },
  {
   "cell_type": "code",
   "execution_count": null,
   "id": "195b1b8d-fbd1-4dc2-9d9d-2d41b9e1c978",
   "metadata": {},
   "outputs": [],
   "source": []
  }
 ],
 "metadata": {
  "kernelspec": {
   "display_name": "rl_env",
   "language": "python",
   "name": "rl_env"
  },
  "language_info": {
   "codemirror_mode": {
    "name": "ipython",
    "version": 3
   },
   "file_extension": ".py",
   "mimetype": "text/x-python",
   "name": "python",
   "nbconvert_exporter": "python",
   "pygments_lexer": "ipython3",
   "version": "3.7.4"
  }
 },
 "nbformat": 4,
 "nbformat_minor": 5
}
