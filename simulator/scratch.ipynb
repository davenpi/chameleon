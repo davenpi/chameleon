{
 "cells": [
  {
   "cell_type": "code",
   "execution_count": null,
   "id": "ee113fb0-106f-485b-9c0d-60ee380d1fa8",
   "metadata": {},
   "outputs": [],
   "source": [
    "%reset -f\n",
    "import time\n",
    "import pickle\n",
    "import gym\n",
    "from stable_baselines3 import DDPG\n",
    "from stable_baselines3.common.env_checker import check_env\n",
    "import matplotlib.pyplot as plt\n",
    "import numpy as np\n",
    "from tqdm import tqdm\n",
    "import derivatives as d\n",
    "import forward_helpers as fh\n",
    "from chameleon import Chameleon"
   ]
  },
  {
   "cell_type": "markdown",
   "id": "b6b718df-09f2-455f-a7ae-be40454d622a",
   "metadata": {},
   "source": [
    "## Doing the RL"
   ]
  },
  {
   "cell_type": "code",
   "execution_count": null,
   "id": "4ba304ab-3810-44c0-ac91-300d0ce280e7",
   "metadata": {},
   "outputs": [],
   "source": [
    "env = Chameleon(E=0.1, dt=1e-5)\n",
    "model = DDPG(\"MlpPolicy\", env, verbose=1)"
   ]
  },
  {
   "cell_type": "code",
   "execution_count": null,
   "id": "b77ebd39-f807-4dc4-ad08-5380e1449210",
   "metadata": {},
   "outputs": [],
   "source": [
    "model.learn(total_timesteps=int(2e3))"
   ]
  },
  {
   "cell_type": "code",
   "execution_count": null,
   "id": "bc19ef8d-c791-4fce-b29b-e8fd1afad77a",
   "metadata": {},
   "outputs": [],
   "source": [
    "# E = 1, 10 works E = 0.1, 100 breaks\n",
    "# active_stress = np.array(\n",
    "#     [\n",
    "#         0.42846936,\n",
    "#         0.47040876,\n",
    "#         0.53477369,\n",
    "#         0.62156414,\n",
    "#         0.7307801,\n",
    "#         0.86242159,\n",
    "#         1.0164886,\n",
    "#         1.19298113,\n",
    "#         1.39189918,\n",
    "#         1.61324275,\n",
    "#     ]\n",
    "# )\n",
    "# active_stress = 10 * np.linspace(1, 10, n_elems)\n",
    "# %%time\n",
    "# chameleon.step(np.array([.91,.92,.93], dtype=np.float32))\n",
    "# fh.forward_simulate(chameleon, active_stress, sim_steps=steps)\n",
    "# diffs = np.diff(chameleon.pos_f)\n",
    "# idxs = np.where(diffs < 0)\n",
    "# idxs"
   ]
  },
  {
   "cell_type": "markdown",
   "id": "34b3c835-41cd-40ea-9e67-63933a02ced8",
   "metadata": {},
   "source": [
    "# debugging diffs when elements come out of order \n",
    "The mean diff when I have 10,000 elements is 0.00029755194344014525\n",
    "\n",
    "The mean diff when i have 1000 elements is 0.0028333580473896636\n",
    "\n",
    "The mean diff when I have 100 elements is 0.018904419405243397\n",
    "\n",
    "This is obvious. if i have more elements in the same volume then there will be less diff. I guess the encouraging thing is that it gets less messed up when I put in more elements. "
   ]
  },
  {
   "cell_type": "code",
   "execution_count": null,
   "id": "04650112-cb90-4369-844d-bb901b0c8582",
   "metadata": {},
   "outputs": [],
   "source": [
    "history = []\n",
    "for i in range(len(chameleon.position_history)):\n",
    "    x_p = chameleon.position_history[i]\n",
    "    y = np.zeros(chameleon.n_elems)\n",
    "    ar = np.vstack((x_p, y)).T\n",
    "    history.append(ar)\n",
    "\n",
    "with open(\"history.txt\", \"wb\") as fp:\n",
    "    pickle.dump(history, fp)"
   ]
  }
 ],
 "metadata": {
  "kernelspec": {
   "display_name": "chameleon",
   "language": "python",
   "name": "chameleon"
  },
  "language_info": {
   "codemirror_mode": {
    "name": "ipython",
    "version": 3
   },
   "file_extension": ".py",
   "mimetype": "text/x-python",
   "name": "python",
   "nbconvert_exporter": "python",
   "pygments_lexer": "ipython3",
   "version": "3.7.4"
  }
 },
 "nbformat": 4,
 "nbformat_minor": 5
}
