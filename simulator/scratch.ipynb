{
 "cells": [
  {
   "cell_type": "code",
   "execution_count": 8,
   "id": "ee113fb0-106f-485b-9c0d-60ee380d1fa8",
   "metadata": {},
   "outputs": [],
   "source": [
    "%reset -f\n",
    "import time\n",
    "import pickle\n",
    "import gym\n",
    "from stable_baselines3 import DDPG\n",
    "from stable_baselines3.common.env_checker import check_env\n",
    "import matplotlib.pyplot as plt\n",
    "import numpy as np\n",
    "from tqdm import tqdm\n",
    "import derivatives as d\n",
    "import forward_helpers as fh\n",
    "from chameleon import Chameleon"
   ]
  },
  {
   "cell_type": "markdown",
   "id": "b6b718df-09f2-455f-a7ae-be40454d622a",
   "metadata": {},
   "source": [
    "## Doing the RL"
   ]
  },
  {
   "cell_type": "code",
   "execution_count": 39,
   "id": "4ba304ab-3810-44c0-ac91-300d0ce280e7",
   "metadata": {},
   "outputs": [
    {
     "name": "stdout",
     "output_type": "stream",
     "text": [
      "Using cpu device\n",
      "Wrapping the env with a `Monitor` wrapper\n",
      "Wrapping the env in a DummyVecEnv.\n"
     ]
    }
   ],
   "source": [
    "env = Chameleon(E=10, dt=1e-5)\n",
    "model = DDPG(\"MlpPolicy\", env, verbose=1)"
   ]
  },
  {
   "cell_type": "code",
   "execution_count": 40,
   "id": "b77ebd39-f807-4dc4-ad08-5380e1449210",
   "metadata": {},
   "outputs": [],
   "source": [
    "# model.learn(total_timesteps=int(2e3))"
   ]
  },
  {
   "cell_type": "code",
   "execution_count": 41,
   "id": "bc19ef8d-c791-4fce-b29b-e8fd1afad77a",
   "metadata": {},
   "outputs": [
    {
     "name": "stdout",
     "output_type": "stream",
     "text": [
      "elements likely came out of order\n"
     ]
    },
    {
     "ename": "UnboundLocalError",
     "evalue": "local variable 'close' referenced before assignment",
     "output_type": "error",
     "traceback": [
      "\u001b[0;31m---------------------------------------------------------------------------\u001b[0m",
      "\u001b[0;31mUnboundLocalError\u001b[0m                         Traceback (most recent call last)",
      "\u001b[0;32m<timed exec>\u001b[0m in \u001b[0;36m<module>\u001b[0;34m\u001b[0m\n",
      "\u001b[0;32m~/Desktop/research/chameleon/simulator/chameleon.py\u001b[0m in \u001b[0;36mstep\u001b[0;34m(self, action)\u001b[0m\n\u001b[1;32m     95\u001b[0m             \u001b[0mself\u001b[0m\u001b[0;34m.\u001b[0m\u001b[0mreset\u001b[0m\u001b[0;34m(\u001b[0m\u001b[0;34m)\u001b[0m\u001b[0;34m\u001b[0m\u001b[0;34m\u001b[0m\u001b[0m\n\u001b[1;32m     96\u001b[0m \u001b[0;34m\u001b[0m\u001b[0m\n\u001b[0;32m---> 97\u001b[0;31m         \u001b[0;32mif\u001b[0m \u001b[0mclose\u001b[0m\u001b[0;34m:\u001b[0m\u001b[0;34m\u001b[0m\u001b[0;34m\u001b[0m\u001b[0m\n\u001b[0m\u001b[1;32m     98\u001b[0m             \u001b[0mdone\u001b[0m \u001b[0;34m=\u001b[0m \u001b[0;32mTrue\u001b[0m\u001b[0;34m\u001b[0m\u001b[0;34m\u001b[0m\u001b[0m\n\u001b[1;32m     99\u001b[0m             \u001b[0;31m# negative reward for large velocity at the end. want to reach\u001b[0m\u001b[0;34m\u001b[0m\u001b[0;34m\u001b[0m\u001b[0;34m\u001b[0m\u001b[0m\n",
      "\u001b[0;31mUnboundLocalError\u001b[0m: local variable 'close' referenced before assignment"
     ]
    }
   ],
   "source": [
    "%%time\n",
    "active_stress = 10 * np.linspace(1, 10, 50)\n",
    "# active_stress = 10*np.random.random(50)\n",
    "env.step(np.array([0.91, 0.92, 0.93], dtype=np.float32))\n",
    "# fh.forward_simulate(env, active_stress, sim_steps=10_000)\n",
    "# diffs = np.diff(env.pos_f)\n",
    "# idxs = np.where(diffs < 0)"
   ]
  },
  {
   "cell_type": "code",
   "execution_count": 42,
   "id": "439b8183-4a90-43e8-9ec6-bbb7d446ac6b",
   "metadata": {},
   "outputs": [
    {
     "data": {
      "text/plain": [
       "array([0.        , 0.02040816, 0.04081633, 0.06122449, 0.08163265,\n",
       "       0.10204082, 0.12244898, 0.14285714, 0.16326531, 0.18367347,\n",
       "       0.20408163, 0.2244898 , 0.24489796, 0.26530612, 0.28571429,\n",
       "       0.30612245, 0.32653061, 0.34693878, 0.36734694, 0.3877551 ,\n",
       "       0.40816327, 0.42857143, 0.44897959, 0.46938776, 0.48979592,\n",
       "       0.51020408, 0.53061224, 0.55102041, 0.57142857, 0.59183673,\n",
       "       0.6122449 , 0.63265306, 0.65306122, 0.67346939, 0.69387755,\n",
       "       0.71428571, 0.73469388, 0.75510204, 0.7755102 , 0.79591837,\n",
       "       0.81632653, 0.83673469, 0.85714286, 0.87755102, 0.89795918,\n",
       "       0.91836735, 0.93877551, 0.95918367, 0.97959184, 1.        ])"
      ]
     },
     "execution_count": 42,
     "metadata": {},
     "output_type": "execute_result"
    }
   ],
   "source": [
    "env.pos_f"
   ]
  },
  {
   "cell_type": "code",
   "execution_count": 37,
   "id": "4cc9728a-81e3-47b5-b5e8-030d7194baf6",
   "metadata": {},
   "outputs": [
    {
     "data": {
      "text/plain": [
       "410"
      ]
     },
     "execution_count": 37,
     "metadata": {},
     "output_type": "execute_result"
    }
   ],
   "source": [
    "len(env.position_history)"
   ]
  },
  {
   "cell_type": "code",
   "execution_count": 38,
   "id": "069830e6-fd07-490b-a970-8bc17447395f",
   "metadata": {},
   "outputs": [
    {
     "data": {
      "text/plain": [
       "(array([1]),)"
      ]
     },
     "execution_count": 38,
     "metadata": {},
     "output_type": "execute_result"
    }
   ],
   "source": [
    "diffs = np.diff(env.pos_f)\n",
    "idxs = np.where(diffs < 0)\n",
    "idxs"
   ]
  },
  {
   "cell_type": "markdown",
   "id": "34b3c835-41cd-40ea-9e67-63933a02ced8",
   "metadata": {},
   "source": [
    "# debugging diffs when elements come out of order \n",
    "The mean diff when I have 10,000 elements is 0.00029755194344014525\n",
    "\n",
    "The mean diff when i have 1000 elements is 0.0028333580473896636\n",
    "\n",
    "The mean diff when I have 100 elements is 0.018904419405243397\n",
    "\n",
    "This is obvious. if i have more elements in the same volume then there will be less diff. I guess the encouraging thing is that it gets less messed up when I put in more elements. "
   ]
  },
  {
   "cell_type": "code",
   "execution_count": null,
   "id": "04650112-cb90-4369-844d-bb901b0c8582",
   "metadata": {},
   "outputs": [],
   "source": [
    "history = []\n",
    "for i in range(len(chameleon.position_history)):\n",
    "    x_p = chameleon.position_history[i]\n",
    "    y = np.zeros(chameleon.n_elems)\n",
    "    ar = np.vstack((x_p, y)).T\n",
    "    history.append(ar)\n",
    "\n",
    "with open(\"history.txt\", \"wb\") as fp:\n",
    "    pickle.dump(history, fp)"
   ]
  }
 ],
 "metadata": {
  "kernelspec": {
   "display_name": "chameleon",
   "language": "python",
   "name": "chameleon"
  },
  "language_info": {
   "codemirror_mode": {
    "name": "ipython",
    "version": 3
   },
   "file_extension": ".py",
   "mimetype": "text/x-python",
   "name": "python",
   "nbconvert_exporter": "python",
   "pygments_lexer": "ipython3",
   "version": "3.7.4"
  }
 },
 "nbformat": 4,
 "nbformat_minor": 5
}
