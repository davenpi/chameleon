{
 "cells": [
  {
   "cell_type": "code",
   "execution_count": 2,
   "id": "aa19a508-f92f-4430-b131-e29194568d25",
   "metadata": {},
   "outputs": [],
   "source": [
    "import gym\n",
    "import pickle\n",
    "import numpy as np\n",
    "import matplotlib.pyplot as plt\n",
    "from stable_baselines3 import PPO  # DDPG, SAC, TD3\n",
    "from stable_baselines3.common.monitor import Monitor\n",
    "from chameleon import Chameleon"
   ]
  },
  {
   "cell_type": "code",
   "execution_count": 15,
   "id": "b021bd63-69f8-462e-b8fc-306abe7a43b2",
   "metadata": {
    "tags": []
   },
   "outputs": [
    {
     "ename": "NameError",
     "evalue": "name 'env' is not defined",
     "output_type": "error",
     "traceback": [
      "\u001b[0;31m---------------------------------------------------------------------------\u001b[0m",
      "\u001b[0;31mNameError\u001b[0m                                 Traceback (most recent call last)",
      "\u001b[0;32m/var/folders/7w/j5gl6mrn46jd965bzw_01wh40000gn/T/ipykernel_36362/1016450890.py\u001b[0m in \u001b[0;36m<module>\u001b[0;34m\u001b[0m\n\u001b[1;32m      2\u001b[0m \u001b[0;31m# E = 1.0\u001b[0m\u001b[0;34m\u001b[0m\u001b[0;34m\u001b[0m\u001b[0;34m\u001b[0m\u001b[0m\n\u001b[1;32m      3\u001b[0m \u001b[0;31m# env = Chameleon(E=E, target_pos=target_pos)\u001b[0m\u001b[0;34m\u001b[0m\u001b[0;34m\u001b[0m\u001b[0;34m\u001b[0m\u001b[0m\n\u001b[0;32m----> 4\u001b[0;31m \u001b[0mwrapped\u001b[0m \u001b[0;34m=\u001b[0m \u001b[0mMonitor\u001b[0m\u001b[0;34m(\u001b[0m\u001b[0menv\u001b[0m\u001b[0;34m,\u001b[0m \u001b[0mfilename\u001b[0m\u001b[0;34m=\u001b[0m\u001b[0;34m\"logger_file\"\u001b[0m\u001b[0;34m)\u001b[0m\u001b[0;34m\u001b[0m\u001b[0;34m\u001b[0m\u001b[0m\n\u001b[0m\u001b[1;32m      5\u001b[0m \u001b[0;31m# model = PPO(\u001b[0m\u001b[0;34m\u001b[0m\u001b[0;34m\u001b[0m\u001b[0;34m\u001b[0m\u001b[0m\n\u001b[1;32m      6\u001b[0m \u001b[0;31m#     \"MlpPolicy\",\u001b[0m\u001b[0;34m\u001b[0m\u001b[0;34m\u001b[0m\u001b[0;34m\u001b[0m\u001b[0m\n",
      "\u001b[0;31mNameError\u001b[0m: name 'env' is not defined"
     ]
    }
   ],
   "source": [
    "target_pos = 0.18\n",
    "E = 1.0\n",
    "env = Chameleon(E=E, target_pos=target_pos)\n",
    "wrapped = Monitor(env, filename=\"logger_file\")\n",
    "# model = PPO(\n",
    "#     \"MlpPolicy\",\n",
    "#     wrapped,\n",
    "#     gamma=1,\n",
    "#     learning_rate=1e-4,\n",
    "#     verbose=0,\n",
    "#     tensorboard_log=\"./ppo_tensorboard/\",\n",
    "# )\n",
    "# model.learn(total_timesteps=int(1e6), n_eval_episodes=1)"
   ]
  },
  {
   "cell_type": "code",
   "execution_count": 14,
   "id": "147c94c1-2117-4877-856e-55ddb43ffbd2",
   "metadata": {},
   "outputs": [
    {
     "ename": "NameError",
     "evalue": "name 'wrapped' is not defined",
     "output_type": "error",
     "traceback": [
      "\u001b[0;31m---------------------------------------------------------------------------\u001b[0m",
      "\u001b[0;31mNameError\u001b[0m                                 Traceback (most recent call last)",
      "\u001b[0;32m/var/folders/7w/j5gl6mrn46jd965bzw_01wh40000gn/T/ipykernel_36362/2004119474.py\u001b[0m in \u001b[0;36m<module>\u001b[0;34m\u001b[0m\n\u001b[1;32m      1\u001b[0m model = PPO(\n\u001b[1;32m      2\u001b[0m     \u001b[0;34m\"MlpPolicy\"\u001b[0m\u001b[0;34m,\u001b[0m\u001b[0;34m\u001b[0m\u001b[0;34m\u001b[0m\u001b[0m\n\u001b[0;32m----> 3\u001b[0;31m     \u001b[0mwrapped\u001b[0m\u001b[0;34m,\u001b[0m\u001b[0;34m\u001b[0m\u001b[0;34m\u001b[0m\u001b[0m\n\u001b[0m\u001b[1;32m      4\u001b[0m     \u001b[0mgamma\u001b[0m\u001b[0;34m=\u001b[0m\u001b[0;36m1\u001b[0m\u001b[0;34m,\u001b[0m\u001b[0;34m\u001b[0m\u001b[0;34m\u001b[0m\u001b[0m\n\u001b[1;32m      5\u001b[0m     \u001b[0mlearning_rate\u001b[0m\u001b[0;34m=\u001b[0m\u001b[0;36m1e-4\u001b[0m\u001b[0;34m,\u001b[0m\u001b[0;34m\u001b[0m\u001b[0;34m\u001b[0m\u001b[0m\n",
      "\u001b[0;31mNameError\u001b[0m: name 'wrapped' is not defined"
     ]
    }
   ],
   "source": [
    "model = PPO(\n",
    "    \"MlpPolicy\",\n",
    "    wrapped,\n",
    "    gamma=1,\n",
    "    learning_rate=1e-4,\n",
    "    verbose=0,\n",
    ")\n",
    "model.load(\"1000000_steps_ppo.zip\")"
   ]
  },
  {
   "cell_type": "code",
   "execution_count": null,
   "id": "df13a512-c16b-4cc0-afc0-13dbe1cf2c76",
   "metadata": {},
   "outputs": [],
   "source": [
    "# pos_hist = []\n",
    "# state = env.reset()\n",
    "# # pos_hist.append(env.pos)\n",
    "# done = False\n",
    "# while not done:\n",
    "#     pos_hist.append(env.pos)\n",
    "#     action = model.predict(state, deterministic=True)[0]  # need to do deterministic for PPO\n",
    "#     print(action)\n",
    "#     state, rew, done, _ = env.step(action)"
   ]
  },
  {
   "cell_type": "code",
   "execution_count": null,
   "id": "2591a5db-f120-4b13-a462-493d130bb040",
   "metadata": {},
   "outputs": [],
   "source": [
    "# pos_hist.append(env.winning_pos)"
   ]
  },
  {
   "cell_type": "code",
   "execution_count": null,
   "id": "2c73f67a-accc-45dc-a731-80fa5fd0df8c",
   "metadata": {},
   "outputs": [],
   "source": [
    "# history = []\n",
    "# for i in range(len(pos_hist)):\n",
    "#     x_p = pos_hist[i]\n",
    "#     y = np.zeros(env.n_elems)\n",
    "#     ar = np.vstack((x_p, y)).T\n",
    "#     history.append(ar)\n",
    "\n",
    "# with open(\"winning_history.txt\", \"wb\") as fp:\n",
    "#     pickle.dump(history, fp)"
   ]
  },
  {
   "cell_type": "code",
   "execution_count": null,
   "id": "811bec45-5436-4dc1-afb3-171432580ad8",
   "metadata": {},
   "outputs": [],
   "source": [
    "# model.save(\"one_million_ppo\")"
   ]
  },
  {
   "cell_type": "markdown",
   "id": "987fdbe8-5ce1-40a2-9e38-299c6af5c5c2",
   "metadata": {},
   "source": [
    "## max distance E = 1 agent can reach with the given torques is 0.21. How did i find that? By applying the max torque for each time step until the episode was over."
   ]
  },
  {
   "cell_type": "code",
   "execution_count": 5,
   "id": "e76b85f0-dfbd-4dad-9bff-a630b2e65bcd",
   "metadata": {},
   "outputs": [],
   "source": [
    "# rews = np.loadtxt(\"logger_file.monitor.csv\", delimiter=',', skiprows=2, usecols=(0,))"
   ]
  },
  {
   "cell_type": "code",
   "execution_count": 13,
   "id": "8b27ba79-6ebf-43d2-a563-088065070992",
   "metadata": {},
   "outputs": [
    {
     "data": {
      "text/plain": [
       "[<matplotlib.lines.Line2D at 0x7ff8fc8c5450>]"
      ]
     },
     "execution_count": 13,
     "metadata": {},
     "output_type": "execute_result"
    },
    {
     "data": {
      "image/png": "[encoded data removed]",
      "text/plain": [
       "<Figure size 432x288 with 1 Axes>"
      ]
     },
     "metadata": {
      "needs_background": "light"
     },
     "output_type": "display_data"
    }
   ],
   "source": [
    "# plt.plot(rews, 'o')"
   ]
  }
 ],
 "metadata": {
  "kernelspec": {
   "display_name": "chameleon",
   "language": "python",
   "name": "chameleon"
  },
  "language_info": {
   "codemirror_mode": {
    "name": "ipython",
    "version": 3
   },
   "file_extension": ".py",
   "mimetype": "text/x-python",
   "name": "python",
   "nbconvert_exporter": "python",
   "pygments_lexer": "ipython3",
   "version": "3.7.4"
  }
 },
 "nbformat": 4,
 "nbformat_minor": 5
}
