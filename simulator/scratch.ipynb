{
 "cells": [
  {
   "cell_type": "code",
   "execution_count": null,
   "id": "ee113fb0-106f-485b-9c0d-60ee380d1fa8",
   "metadata": {},
   "outputs": [],
   "source": [
    "%reset -f\n",
    "import time\n",
    "import pickle\n",
    "import gym\n",
    "\n",
    "# from stable_baselines3 import DDPG\n",
    "# from stable_baselines3.common.env_checker import check_env\n",
    "import matplotlib.pyplot as plt\n",
    "import numpy as np\n",
    "from tqdm import tqdm\n",
    "import derivatives as d\n",
    "import forward_helpers as fh\n",
    "from chameleon import Chameleon"
   ]
  },
  {
   "cell_type": "code",
   "execution_count": null,
   "id": "4ba304ab-3810-44c0-ac91-300d0ce280e7",
   "metadata": {},
   "outputs": [],
   "source": [
    "n_elems = 50\n",
    "steps = 1_000\n",
    "chameleon = Chameleon(E=0.1, n_elems=n_elems, dt=1e-5)"
   ]
  },
  {
   "cell_type": "code",
   "execution_count": null,
   "id": "10162b32-d2e3-4a6d-a94d-ec932a1ab6d5",
   "metadata": {},
   "outputs": [],
   "source": [
    "chameleon.with_grad"
   ]
  },
  {
   "cell_type": "code",
   "execution_count": null,
   "id": "d9401f92-14dc-41b5-99a5-ad79588afd56",
   "metadata": {},
   "outputs": [],
   "source": [
    "chameleon.dt"
   ]
  },
  {
   "cell_type": "code",
   "execution_count": null,
   "id": "ee93c075-e7f7-4c41-b5bb-207413c879bb",
   "metadata": {},
   "outputs": [],
   "source": []
  },
  {
   "cell_type": "code",
   "execution_count": null,
   "id": "bc19ef8d-c791-4fce-b29b-e8fd1afad77a",
   "metadata": {},
   "outputs": [],
   "source": [
    "# E = 1, 10 works E = 0.1, 100 breaks\n",
    "# active_stress = np.array(\n",
    "#     [\n",
    "#         0.42846936,\n",
    "#         0.47040876,\n",
    "#         0.53477369,\n",
    "#         0.62156414,\n",
    "#         0.7307801,\n",
    "#         0.86242159,\n",
    "#         1.0164886,\n",
    "#         1.19298113,\n",
    "#         1.39189918,\n",
    "#         1.61324275,\n",
    "#     ]\n",
    "# )\n",
    "active_stress = 10 * np.linspace(1, 10, n_elems)"
   ]
  },
  {
   "cell_type": "code",
   "execution_count": null,
   "id": "80b7b710-a857-45fd-99c7-4c8f3b39e7d9",
   "metadata": {},
   "outputs": [],
   "source": [
    "%%time\n",
    "fh.forward_simulate(chameleon, active_stress, sim_steps=steps)"
   ]
  },
  {
   "cell_type": "code",
   "execution_count": null,
   "id": "19442e08-9a2f-429c-9b94-6d29857b19d0",
   "metadata": {},
   "outputs": [],
   "source": [
    "chameleon.pos_f"
   ]
  },
  {
   "cell_type": "code",
   "execution_count": null,
   "id": "c074160c-6d64-4213-9442-0455ba7fd8a3",
   "metadata": {},
   "outputs": [],
   "source": [
    "diffs = np.diff(chameleon.pos_f)\n",
    "idxs = np.where(diffs < 0)"
   ]
  },
  {
   "cell_type": "code",
   "execution_count": null,
   "id": "256e5cf7-23c4-4096-a077-4ec0b91e9c5a",
   "metadata": {},
   "outputs": [],
   "source": [
    "idxs"
   ]
  },
  {
   "cell_type": "code",
   "execution_count": null,
   "id": "0ee3ee5a-7e76-4e31-8840-f9ebb2d710e6",
   "metadata": {},
   "outputs": [],
   "source": [
    "v_term = (chameleon.pos_f[-1] - chameleon.position_history[-2][-2]) / chameleon.dt"
   ]
  },
  {
   "cell_type": "code",
   "execution_count": null,
   "id": "9ab37357-3fcd-4528-8dd0-8d8ab0bbd5c2",
   "metadata": {},
   "outputs": [],
   "source": [
    "v_term"
   ]
  },
  {
   "cell_type": "code",
   "execution_count": null,
   "id": "94a7ee58-3baa-492c-87ec-0c9c6398785c",
   "metadata": {},
   "outputs": [],
   "source": [
    "# chameleon.position_history\n",
    "# abs_val_diffs = np.abs(diffs[idxs])\n",
    "# len(chameleon.position_history)\n",
    "# np.mean(abs_val_diffs)"
   ]
  },
  {
   "cell_type": "code",
   "execution_count": null,
   "id": "8ab4b0dd-5ea1-4cd8-89c5-05d4da764905",
   "metadata": {},
   "outputs": [],
   "source": [
    "cham2 = Chameleon(E=10, n_elems=n_elems, dt=1e-5)\n",
    "cham2.pos_0 = chameleon.position_history[-1]"
   ]
  },
  {
   "cell_type": "code",
   "execution_count": null,
   "id": "1982a41f-8f4d-4916-a3ba-48ae307d6665",
   "metadata": {},
   "outputs": [],
   "source": [
    "cham2.pos_f"
   ]
  },
  {
   "cell_type": "code",
   "execution_count": null,
   "id": "2464b7ca-0631-4ea5-8823-b113bb54b0f6",
   "metadata": {},
   "outputs": [],
   "source": [
    "fh.forward_simulate(chameleon, active_stress, sim_steps=steps)"
   ]
  },
  {
   "cell_type": "code",
   "execution_count": null,
   "id": "2bbcd231-d214-4743-adf9-de37b8787eac",
   "metadata": {},
   "outputs": [],
   "source": [
    "chameleon.pos_f"
   ]
  },
  {
   "cell_type": "code",
   "execution_count": null,
   "id": "5560de07-f751-4d3b-b8de-483b94b67d85",
   "metadata": {
    "tags": []
   },
   "outputs": [],
   "source": [
    "fh.forward_simulate(cham2, active_stress, sim_steps=steps)"
   ]
  },
  {
   "cell_type": "code",
   "execution_count": null,
   "id": "4a1907ef-4827-4af9-8cb7-c3dd5f6ea2db",
   "metadata": {},
   "outputs": [],
   "source": []
  },
  {
   "cell_type": "code",
   "execution_count": null,
   "id": "97daf003-aa4d-4401-98a5-0f1d7bb6dbdf",
   "metadata": {},
   "outputs": [],
   "source": [
    "cham2.pos_f"
   ]
  },
  {
   "cell_type": "code",
   "execution_count": null,
   "id": "8a3fd0e3-3ba1-49a6-b5dc-6ca03e457c47",
   "metadata": {},
   "outputs": [],
   "source": [
    "diffs2 = np.diff(cham2.pos_f)\n",
    "idxs2 = np.where(diffs2 < 0)"
   ]
  },
  {
   "cell_type": "code",
   "execution_count": null,
   "id": "d66715cc-f340-48b6-9d1b-767c69094e5f",
   "metadata": {},
   "outputs": [],
   "source": [
    "idxs2"
   ]
  },
  {
   "cell_type": "code",
   "execution_count": null,
   "id": "a611a397-90fd-44f1-a261-2ab4c73b96a6",
   "metadata": {},
   "outputs": [],
   "source": [
    "chame"
   ]
  },
  {
   "cell_type": "markdown",
   "id": "34b3c835-41cd-40ea-9e67-63933a02ced8",
   "metadata": {},
   "source": [
    "# debugging diffs when elements come out of order \n",
    "The mean diff when I have 10,000 elements is 0.00029755194344014525\n",
    "\n",
    "The mean diff when i have 1000 elements is 0.0028333580473896636\n",
    "\n",
    "The mean diff when I have 100 elements is 0.018904419405243397\n",
    "\n",
    "This is obvious. if i have more elements in the same volume then there will be less diff. I guess the encouraging thing is that it gets less messed up when I put in more elements. "
   ]
  },
  {
   "cell_type": "code",
   "execution_count": null,
   "id": "50851e21-2218-4745-bdf1-7ec29d78e5c2",
   "metadata": {},
   "outputs": [],
   "source": []
  },
  {
   "cell_type": "code",
   "execution_count": null,
   "id": "5064b228-6787-4824-a543-46b6b166d2bb",
   "metadata": {},
   "outputs": [],
   "source": [
    "plt.scatter(chameleon.pos_f, 0 * chameleon.pos_f)"
   ]
  },
  {
   "cell_type": "code",
   "execution_count": null,
   "id": "faf58fa6-eaeb-4c60-9be9-ce21d6ac6354",
   "metadata": {},
   "outputs": [],
   "source": []
  },
  {
   "cell_type": "code",
   "execution_count": null,
   "id": "f91a57af-4d36-484d-b2f0-ffd8e898275b",
   "metadata": {},
   "outputs": [],
   "source": []
  },
  {
   "cell_type": "code",
   "execution_count": null,
   "id": "e24cf568-677d-4562-989c-2051e08eba90",
   "metadata": {},
   "outputs": [],
   "source": []
  },
  {
   "cell_type": "code",
   "execution_count": null,
   "id": "04650112-cb90-4369-844d-bb901b0c8582",
   "metadata": {},
   "outputs": [],
   "source": [
    "history = []\n",
    "for i in range(len(chameleon.position_history)):\n",
    "    x_p = chameleon.position_history[i]\n",
    "    y = np.zeros(chameleon.n_elems)\n",
    "    ar = np.vstack((x_p, y)).T\n",
    "    history.append(ar)\n",
    "\n",
    "with open(\"history.txt\", \"wb\") as fp:\n",
    "    pickle.dump(history, fp)"
   ]
  }
 ],
 "metadata": {
  "kernelspec": {
   "display_name": "chameleon",
   "language": "python",
   "name": "chameleon"
  },
  "language_info": {
   "codemirror_mode": {
    "name": "ipython",
    "version": 3
   },
   "file_extension": ".py",
   "mimetype": "text/x-python",
   "name": "python",
   "nbconvert_exporter": "python",
   "pygments_lexer": "ipython3",
   "version": "3.7.4"
  }
 },
 "nbformat": 4,
 "nbformat_minor": 5
}
