{
 "cells": [
  {
   "cell_type": "code",
   "execution_count": 1,
   "id": "1e4c6178-deed-4d49-9335-2725e208967b",
   "metadata": {},
   "outputs": [],
   "source": [
    "%reset -f \n",
    "import pickle\n",
    "import matplotlib.pyplot as plt\n",
    "import numpy as np\n",
    "from scipy.interpolate import UnivariateSpline\n",
    "import time\n",
    "import derivatives as d\n",
    "from chameleon import Chameleon"
   ]
  },
  {
   "cell_type": "code",
   "execution_count": 2,
   "id": "b243f895-9e98-4dec-bf20-5680d1b1b688",
   "metadata": {},
   "outputs": [],
   "source": [
    "chameleon = Chameleon(E=10)"
   ]
  },
  {
   "cell_type": "code",
   "execution_count": 3,
   "id": "6181f7cd-9877-45f6-a805-492890dff904",
   "metadata": {},
   "outputs": [],
   "source": [
    "active_stress = np.linspace(1, 10, chameleon.n_elems)"
   ]
  },
  {
   "cell_type": "code",
   "execution_count": 4,
   "id": "63faa6cd-3c24-440d-a697-62ef2dfb101e",
   "metadata": {},
   "outputs": [],
   "source": [
    "# active_stress = (1/10)*active_stress**2"
   ]
  },
  {
   "cell_type": "code",
   "execution_count": 5,
   "id": "bc2c8487-b4c0-4ed3-8505-8b5799d8beee",
   "metadata": {},
   "outputs": [
    {
     "data": {
      "text/plain": [
       "array([ 1.,  2.,  3.,  4.,  5.,  6.,  7.,  8.,  9., 10.])"
      ]
     },
     "execution_count": 5,
     "metadata": {},
     "output_type": "execute_result"
    }
   ],
   "source": [
    "active_stress"
   ]
  },
  {
   "cell_type": "markdown",
   "id": "e57c80e9-f007-4ec1-95fa-41b1f854be2e",
   "metadata": {},
   "source": [
    "## Is this is too slow? In order to do RL I want to be able to simulate much faster than this. (Jax?)\n",
    "\n",
    "### could also simulate for a shorter time when I want to.\n",
    "\n",
    "I could almost already build this as an RL environment. Just need to wrap this around a gym environment, reset the thing according to the most recent position and have each specification of torque account for a smaller period of simulation time. Maybe do 1000 steps of sim instead of 10000.\n",
    "\n"
   ]
  },
  {
   "cell_type": "code",
   "execution_count": 6,
   "id": "9fdf2993-3d08-4acb-8809-8feb24c89d54",
   "metadata": {},
   "outputs": [],
   "source": [
    "# %%time\n",
    "# chameleon.step(active_stress)"
   ]
  },
  {
   "cell_type": "code",
   "execution_count": 7,
   "id": "50156435-c94b-4404-919a-b8de7fa1746b",
   "metadata": {},
   "outputs": [
    {
     "name": "stdout",
     "output_type": "stream",
     "text": [
      "CPU times: user 204 ms, sys: 4.7 ms, total: 209 ms\n",
      "Wall time: 206 ms\n"
     ]
    }
   ],
   "source": [
    "%%time\n",
    "chameleon.forward_simulate(active_stress, sim_steps=1000)"
   ]
  },
  {
   "cell_type": "code",
   "execution_count": null,
   "id": "5cea9e73-5b34-451d-82bb-2f337524e90c",
   "metadata": {},
   "outputs": [],
   "source": []
  },
  {
   "cell_type": "markdown",
   "id": "7cfb5911-0c59-4f21-9c66-3d88f33500f9",
   "metadata": {},
   "source": [
    "# Error indicates that the element on the end is not farther out than the element that is next to last. \n",
    "\n",
    "I had this issue before and I am not sure how to solve it right now."
   ]
  },
  {
   "cell_type": "code",
   "execution_count": 8,
   "id": "96c9e13e-dcfe-4c83-ae15-b9988edbee10",
   "metadata": {},
   "outputs": [
    {
     "data": {
      "text/plain": [
       "array([0.        , 1.16017895, 1.70626605, 2.22434505, 2.71647635,\n",
       "       3.18452367, 3.63017687, 4.0549718 , 4.46030743, 4.57141854])"
      ]
     },
     "execution_count": 8,
     "metadata": {},
     "output_type": "execute_result"
    }
   ],
   "source": [
    "chameleon.pos_f"
   ]
  },
  {
   "cell_type": "code",
   "execution_count": 9,
   "id": "24da5481-7b8a-434b-83f9-48fea5ddb62d",
   "metadata": {},
   "outputs": [
    {
     "data": {
      "text/plain": [
       "array([0.        , 1.04906783, 1.48404383, 1.89101171, 2.27203191,\n",
       "       2.62896811, 2.9635102 , 3.27719402, 3.57141854, 3.57141854])"
      ]
     },
     "execution_count": 9,
     "metadata": {},
     "output_type": "execute_result"
    }
   ],
   "source": [
    "chameleon.disp_current"
   ]
  },
  {
   "cell_type": "code",
   "execution_count": 10,
   "id": "e52230e9-2210-4aee-885b-905ad21388b9",
   "metadata": {},
   "outputs": [],
   "source": [
    "dx = chameleon.pos_0[-1] - chameleon.pos_0[-2]"
   ]
  },
  {
   "cell_type": "code",
   "execution_count": 11,
   "id": "3a131c05-9586-40be-8d19-b21f32e42a07",
   "metadata": {},
   "outputs": [],
   "source": [
    "factor = 2*dx*active_stress[-1]/chameleon.E"
   ]
  },
  {
   "cell_type": "code",
   "execution_count": 12,
   "id": "57e7dcc0-543e-44a1-a966-4ad1ec4cef62",
   "metadata": {},
   "outputs": [
    {
     "data": {
      "text/plain": [
       "0.22222222222222232"
      ]
     },
     "execution_count": 12,
     "metadata": {},
     "output_type": "execute_result"
    }
   ],
   "source": [
    "factor"
   ]
  },
  {
   "cell_type": "code",
   "execution_count": 13,
   "id": "4ecaff3e-3ec8-4b9e-a0ac-f2b23e44843c",
   "metadata": {},
   "outputs": [
    {
     "data": {
      "text/plain": [
       "3.571418538694312"
      ]
     },
     "execution_count": 13,
     "metadata": {},
     "output_type": "execute_result"
    }
   ],
   "source": [
    "chameleon.disp_current[-1]"
   ]
  },
  {
   "cell_type": "code",
   "execution_count": 14,
   "id": "80bce091-99ee-452c-a8ae-616998dbd4b3",
   "metadata": {},
   "outputs": [
    {
     "data": {
      "text/plain": [
       "3.457924982777579"
      ]
     },
     "execution_count": 14,
     "metadata": {},
     "output_type": "execute_result"
    }
   ],
   "source": [
    "chameleon.disp_previous[-1]"
   ]
  },
  {
   "cell_type": "markdown",
   "id": "5df2593d-e8ee-4620-a89f-d33f45f0e78d",
   "metadata": {},
   "source": [
    "# some hacky code to store the position history for later visualization.\n"
   ]
  },
  {
   "cell_type": "code",
   "execution_count": 15,
   "id": "2c4cb66c-3d14-4e93-8d24-2424313378ab",
   "metadata": {},
   "outputs": [],
   "source": [
    "history = []\n",
    "for i in range(len(chameleon.position_history)):\n",
    "    x_p = chameleon.position_history[i]\n",
    "    y = np.zeros(10)\n",
    "    ar = np.vstack((x_p, y)).T\n",
    "    history.append(ar)\n",
    "\n",
    "with open(\"history.txt\", \"wb\") as fp:\n",
    "    pickle.dump(history, fp)\n",
    "\n"
   ]
  },
  {
   "cell_type": "code",
   "execution_count": null,
   "id": "fe09dbcd-dbcd-46d9-b3cd-7303688ef4f8",
   "metadata": {},
   "outputs": [],
   "source": []
  }
 ],
 "metadata": {
  "kernelspec": {
   "display_name": "rl_env",
   "language": "python",
   "name": "rl_env"
  },
  "language_info": {
   "codemirror_mode": {
    "name": "ipython",
    "version": 3
   },
   "file_extension": ".py",
   "mimetype": "text/x-python",
   "name": "python",
   "nbconvert_exporter": "python",
   "pygments_lexer": "ipython3",
   "version": "3.7.4"
  }
 },
 "nbformat": 4,
 "nbformat_minor": 5
}
