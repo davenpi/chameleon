{
 "cells": [
  {
   "cell_type": "code",
   "execution_count": null,
   "id": "ee113fb0-106f-485b-9c0d-60ee380d1fa8",
   "metadata": {},
   "outputs": [],
   "source": [
    "%reset -f\n",
    "import time\n",
    "import pickle\n",
    "import gym\n",
    "from stable_baselines3 import DDPG\n",
    "from stable_baselines3.common.env_checker import check_env\n",
    "import matplotlib.pyplot as plt\n",
    "import numpy as np\n",
    "from tqdm import tqdm\n",
    "import derivatives as d\n",
    "import forward_helpers as fh\n",
    "from chameleon import Chameleon"
   ]
  },
  {
   "cell_type": "markdown",
   "id": "b6b718df-09f2-455f-a7ae-be40454d622a",
   "metadata": {},
   "source": [
    "## Doing the RL"
   ]
  },
  {
   "cell_type": "code",
   "execution_count": null,
   "id": "4ba304ab-3810-44c0-ac91-300d0ce280e7",
   "metadata": {},
   "outputs": [],
   "source": [
    "env = Chameleon(E=.10, target_pos=0.9, dt=1e-6)\n",
    "model = DDPG(\"MlpPolicy\", env, verbose=0)"
   ]
  },
  {
   "cell_type": "code",
   "execution_count": null,
   "id": "b77ebd39-f807-4dc4-ad08-5380e1449210",
   "metadata": {},
   "outputs": [],
   "source": [
    "model.learn(total_timesteps=int(5e3))"
   ]
  },
  {
   "cell_type": "code",
   "execution_count": null,
   "id": "bc19ef8d-c791-4fce-b29b-e8fd1afad77a",
   "metadata": {},
   "outputs": [],
   "source": [
    "%%time\n",
    "active_stress = 10 * np.linspace(1, 10, 50)\n",
    "# env.step(np.array([.91,.92,.93], dtype=np.float32))\n",
    "fh.forward_simulate(env, active_stress, sim_steps=10_000)\n",
    "# diffs = np.diff(env.pos_f)\n",
    "# idxs = np.where(diffs < 0)"
   ]
  },
  {
   "cell_type": "code",
   "execution_count": null,
   "id": "439b8183-4a90-43e8-9ec6-bbb7d446ac6b",
   "metadata": {},
   "outputs": [],
   "source": [
    "env.pos_f"
   ]
  },
  {
   "cell_type": "code",
   "execution_count": null,
   "id": "4cc9728a-81e3-47b5-b5e8-030d7194baf6",
   "metadata": {},
   "outputs": [],
   "source": [
    "len(env.position_history)"
   ]
  },
  {
   "cell_type": "code",
   "execution_count": null,
   "id": "069830e6-fd07-490b-a970-8bc17447395f",
   "metadata": {},
   "outputs": [],
   "source": [
    "diffs = np.diff(env.pos_f)\n",
    "idxs = np.where(diffs < 0)\n",
    "idxs"
   ]
  },
  {
   "cell_type": "code",
   "execution_count": null,
   "id": "04650112-cb90-4369-844d-bb901b0c8582",
   "metadata": {},
   "outputs": [],
   "source": [
    "# history = []\n",
    "# for i in range(len(chameleon.position_history)):\n",
    "#     x_p = chameleon.position_history[i]\n",
    "#     y = np.zeros(chameleon.n_elems)\n",
    "#     ar = np.vstack((x_p, y)).T\n",
    "#     history.append(ar)\n",
    "\n",
    "# with open(\"history.txt\", \"wb\") as fp:\n",
    "#     pickle.dump(history, fp)"
   ]
  }
 ],
 "metadata": {
  "kernelspec": {
   "display_name": "chameleon",
   "language": "python",
   "name": "chameleon"
  },
  "language_info": {
   "codemirror_mode": {
    "name": "ipython",
    "version": 3
   },
   "file_extension": ".py",
   "mimetype": "text/x-python",
   "name": "python",
   "nbconvert_exporter": "python",
   "pygments_lexer": "ipython3",
   "version": "3.7.4"
  }
 },
 "nbformat": 4,
 "nbformat_minor": 5
}
