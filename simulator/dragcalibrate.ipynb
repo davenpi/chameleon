{
 "cells": [
  {
   "cell_type": "code",
   "execution_count": null,
   "id": "b280d2b0-b12c-4c59-9541-2145a87072e2",
   "metadata": {},
   "outputs": [],
   "source": [
    "%reset -f\n",
    "import numpy as np\n",
    "import matplotlib.pyplot as plt\n",
    "import chameleon as c\n",
    "import time"
   ]
  },
  {
   "cell_type": "markdown",
   "id": "6007311e-5135-49c6-a7fb-b8bb290a7523",
   "metadata": {},
   "source": [
    "# Calibration with $\\sigma = -xt$"
   ]
  },
  {
   "cell_type": "code",
   "execution_count": null,
   "id": "77eed80b-139d-451a-9e73-7f0dd6472c20",
   "metadata": {},
   "outputs": [],
   "source": [
    "def sig_a(env, t):\n",
    "    \"\"\"\n",
    "    Function to specify active stress as a function of time.\n",
    "    We need to take in the environment so that we can get the\n",
    "    x postion.\n",
    "    \"\"\"\n",
    "    x = env.pos_init\n",
    "    return -x * t\n",
    "\n",
    "\n",
    "def integrate_to_t(env, t):\n",
    "    \"\"\"Integrate the environment from 0 to t\"\"\"\n",
    "    time_steps = int(t / env.dt)\n",
    "    t_arr = np.linspace(0, t, time_steps)\n",
    "    for t in t_arr:\n",
    "        sig = sig_a(env, t)\n",
    "        env.one_step_drag(sig)\n",
    "    return\n",
    "\n",
    "\n",
    "def u(env, t):\n",
    "    \"\"\"\n",
    "    Analytic solution of equations of motion given the\n",
    "    sigma we specified.\n",
    "    \"\"\"\n",
    "    pass"
   ]
  },
  {
   "cell_type": "code",
   "execution_count": null,
   "id": "6dd39e67-397d-40eb-a072-c4832f863b59",
   "metadata": {},
   "outputs": [],
   "source": [
    "t = 10\n",
    "env = c.Chameleon(alpha=1, dt=0.001, C=1)\n",
    "# analytic = u(env, t)\n",
    "integrate_to_t(env, t)"
   ]
  },
  {
   "cell_type": "code",
   "execution_count": null,
   "id": "3bc4b1b2-cccb-4750-a22a-9794634a1382",
   "metadata": {},
   "outputs": [],
   "source": [
    "# plt.plot(env.pos_init, analytic)\n",
    "plt.plot(env.pos_init, env.u_current)\n",
    "# plt.plot(env.pos_init, analytic)\n",
    "plt.xlabel(\"x\")\n",
    "plt.ylabel(f\"$u(x, {t})$\")\n",
    "# plt.legend((\"drag\", \"no drag\"))\n",
    "plt.title(f\"Time: {t}\")\n",
    "plt.show()"
   ]
  },
  {
   "cell_type": "code",
   "execution_count": null,
   "id": "1842d744-46d6-4a75-a41f-92527854659c",
   "metadata": {},
   "outputs": [],
   "source": []
  }
 ],
 "metadata": {
  "kernelspec": {
   "display_name": "chameleon",
   "language": "python",
   "name": "chameleon"
  },
  "language_info": {
   "codemirror_mode": {
    "name": "ipython",
    "version": 3
   },
   "file_extension": ".py",
   "mimetype": "text/x-python",
   "name": "python",
   "nbconvert_exporter": "python",
   "pygments_lexer": "ipython3",
   "version": "3.7.4"
  }
 },
 "nbformat": 4,
 "nbformat_minor": 5
}
