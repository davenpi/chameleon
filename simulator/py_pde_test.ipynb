{
 "cells": [
  {
   "cell_type": "code",
   "execution_count": 1,
   "id": "1a4bebb8-9396-45d7-a18c-b1692af8dabd",
   "metadata": {},
   "outputs": [],
   "source": [
    "import pde\n",
    "import numpy as np"
   ]
  },
  {
   "cell_type": "code",
   "execution_count": 2,
   "id": "12ae756a-8ad0-4dd0-ba9a-63d890850a72",
   "metadata": {},
   "outputs": [],
   "source": [
    "L = 1\n",
    "num_points = 20\n",
    "E = 100\n",
    "alpha = 1\n",
    "grid = pde.CartesianGrid([[0, L]], [num_points])"
   ]
  },
  {
   "cell_type": "code",
   "execution_count": 3,
   "id": "e3383e09-c30f-49f9-bbc2-80fa38cafb50",
   "metadata": {},
   "outputs": [],
   "source": [
    "u_field = (E / alpha) * pde.ScalarField(grid, 0.0, label=\"$u$\")\n",
    "sig_field = (1 / alpha) * pde.ScalarField(\n",
    "    grid, np.linspace(0, 10, num_points), label=\"$\\sigma$\"\n",
    ")"
   ]
  },
  {
   "cell_type": "code",
   "execution_count": 4,
   "id": "2f9a29b2-ce74-4eba-b708-36e1ca5d07b5",
   "metadata": {},
   "outputs": [
    {
     "data": {
      "text/plain": [
       "ScalarField(grid=CartesianGrid(bounds=((0.0, 1.0),), shape=(20,), periodic=[False]), data=[0. 0. 0. 0. 0. 0. 0. 0. 0. 0. 0. 0. 0. 0. 0. 0. 0. 0. 0. 0.], label=\"$u$\")"
      ]
     },
     "execution_count": 4,
     "metadata": {},
     "output_type": "execute_result"
    }
   ],
   "source": [
    "u_field"
   ]
  },
  {
   "cell_type": "code",
   "execution_count": null,
   "id": "25e6912a-c8db-4d9a-ae84-1b582c7720f4",
   "metadata": {},
   "outputs": [],
   "source": [
    "# np.gradient(sig_field.data)"
   ]
  },
  {
   "cell_type": "markdown",
   "id": "81411001-d632-49be-8e2e-b1869dd10c51",
   "metadata": {},
   "source": [
    "$ E \\frac{\\partial^2 u}{\\partial x^2} + \\frac{\\partial \\sigma}{\\partial x} = \\alpha \\frac{\\partial u}{\\partial t} $"
   ]
  },
  {
   "cell_type": "code",
   "execution_count": null,
   "id": "f6e7e3ae-3e5f-4481-a6e0-39ef1a4e8823",
   "metadata": {},
   "outputs": [],
   "source": [
    "eq = pde.PDE(\n",
    "    rhs={\"u\": \"laplace(u) + gradient(sig_field)\", \"sig_field\": \"0\"},\n",
    "    bc=[({\"value\": 0}, {\"derivative\": -0.047})],\n",
    ")"
   ]
  },
  {
   "cell_type": "code",
   "execution_count": null,
   "id": "8b2e307f-26c9-4a6b-939c-23cda5bd4cc4",
   "metadata": {},
   "outputs": [],
   "source": [
    "eq.bcs"
   ]
  },
  {
   "cell_type": "code",
   "execution_count": null,
   "id": "a6edd85d-33ea-4d46-b33a-b53bfa7d936b",
   "metadata": {},
   "outputs": [],
   "source": [
    "state = pde.FieldCollection([u_field, sig_field])\n",
    "tracker = pde.PlotTracker(\n",
    "    interval=1,\n",
    ")\n",
    "sol = eq.solve(state, t_range=20, dt=1e-3, tracker=tracker)"
   ]
  },
  {
   "cell_type": "code",
   "execution_count": null,
   "id": "62c69be0-3f63-457a-8625-e5d762891299",
   "metadata": {},
   "outputs": [],
   "source": [
    "sol.fields"
   ]
  },
  {
   "cell_type": "code",
   "execution_count": null,
   "id": "ec60f440-d504-4172-b0ad-08e261bf050d",
   "metadata": {},
   "outputs": [],
   "source": [
    "np.gradient(sol.fields[0].data, edge_order=2)"
   ]
  },
  {
   "cell_type": "code",
   "execution_count": null,
   "id": "12ccbf77-9951-4083-9c79-6721f3d4278b",
   "metadata": {},
   "outputs": [],
   "source": [
    "u_field.plot(title=\"displacement field after a second\")"
   ]
  },
  {
   "cell_type": "code",
   "execution_count": null,
   "id": "12ef7658-0669-4b24-b04e-c572e4bfe80f",
   "metadata": {},
   "outputs": [],
   "source": [
    "state.fields."
   ]
  },
  {
   "cell_type": "code",
   "execution_count": null,
   "id": "fc6e9fde-cf3c-4a39-af31-9f4705d30ced",
   "metadata": {},
   "outputs": [],
   "source": []
  }
 ],
 "metadata": {
  "kernelspec": {
   "display_name": "chameleon",
   "language": "python",
   "name": "chameleon"
  },
  "language_info": {
   "codemirror_mode": {
    "name": "ipython",
    "version": 3
   },
   "file_extension": ".py",
   "mimetype": "text/x-python",
   "name": "python",
   "nbconvert_exporter": "python",
   "pygments_lexer": "ipython3",
   "version": "3.7.4"
  }
 },
 "nbformat": 4,
 "nbformat_minor": 5
}
