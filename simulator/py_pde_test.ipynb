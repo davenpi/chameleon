{
 "cells": [
  {
   "cell_type": "code",
   "execution_count": 1,
   "id": "1a4bebb8-9396-45d7-a18c-b1692af8dabd",
   "metadata": {},
   "outputs": [],
   "source": [
    "import pde\n",
    "import numpy as np"
   ]
  },
  {
   "cell_type": "code",
   "execution_count": 41,
   "id": "12ae756a-8ad0-4dd0-ba9a-63d890850a72",
   "metadata": {},
   "outputs": [],
   "source": [
    "L = 1\n",
    "num_points = 20\n",
    "E = 1\n",
    "alpha = 1\n",
    "grid = pde.CartesianGrid([[-0.025, L]], [num_points])"
   ]
  },
  {
   "cell_type": "markdown",
   "id": "81411001-d632-49be-8e2e-b1869dd10c51",
   "metadata": {},
   "source": [
    "# The equation i wish to simulate is\n",
    "$ E \\frac{\\partial^2 u}{\\partial x^2} + \\frac{\\partial \\sigma}{\\partial x} = \\alpha \\frac{\\partial u}{\\partial t} $"
   ]
  },
  {
   "cell_type": "code",
   "execution_count": 42,
   "id": "f6e7e3ae-3e5f-4481-a6e0-39ef1a4e8823",
   "metadata": {},
   "outputs": [],
   "source": [
    "eq = pde.PDE(\n",
    "    rhs={\"u\": f\"{E/alpha} * laplace(u) + {1/alpha} * gradient(sigma)\", \"sigma\": \"0\"},\n",
    "    bc=[({\"value\": 0}, {\"derivative\": -0.047})],\n",
    ")"
   ]
  },
  {
   "cell_type": "code",
   "execution_count": 43,
   "id": "7862a483-be5a-4b4a-836d-4ee2b090d03d",
   "metadata": {},
   "outputs": [
    {
     "name": "stdout",
     "output_type": "stream",
     "text": [
      "1.0\n"
     ]
    }
   ],
   "source": [
    "print(f\"{1/alpha}\")"
   ]
  },
  {
   "cell_type": "code",
   "execution_count": 44,
   "id": "8b2e307f-26c9-4a6b-939c-23cda5bd4cc4",
   "metadata": {},
   "outputs": [],
   "source": [
    "u_field = pde.ScalarField(grid, 0.0, label=\"$u$\")\n",
    "sig_field = pde.ScalarField(grid, np.linspace(0, 10, num_points), label=\"$\\sigma$\")"
   ]
  },
  {
   "cell_type": "code",
   "execution_count": 45,
   "id": "a6edd85d-33ea-4d46-b33a-b53bfa7d936b",
   "metadata": {},
   "outputs": [
    {
     "data": {
      "application/vnd.jupyter.widget-view+json": {
       "model_id": "0ad7c4260b424340b18dc6504e4ad8e3",
       "version_major": 2,
       "version_minor": 0
      },
      "text/plain": [
       "  0%|          | 0/10.0 [00:00<?, ?it/s]"
      ]
     },
     "metadata": {},
     "output_type": "display_data"
    }
   ],
   "source": [
    "state = pde.FieldCollection([u_field, sig_field])\n",
    "# tracker = pde.PlotTracker(interval=1,)\n",
    "sol = eq.solve(\n",
    "    state,\n",
    "    t_range=10,\n",
    "    dt=1e-3,\n",
    ")  # tracker=tracker)"
   ]
  },
  {
   "cell_type": "code",
   "execution_count": 46,
   "id": "62c69be0-3f63-457a-8625-e5d762891299",
   "metadata": {},
   "outputs": [
    {
     "data": {
      "text/plain": [
       "ScalarField(grid=CartesianGrid(bounds=((-0.025, 0.9999999999999999),), shape=(20,), periodic=[False]), data=[0.25501476 0.75155745 1.22112645 1.66372176 2.07934339 2.46799134\n",
       " 2.8296656  3.16436618 3.47209307 3.75284628 4.00662581 4.23343165\n",
       " 4.43326381 4.60612228 4.75200707 4.87091818 4.9628556  5.02781933\n",
       " 5.06580938 5.07682575], label=\"$u$\")"
      ]
     },
     "execution_count": 46,
     "metadata": {},
     "output_type": "execute_result"
    }
   ],
   "source": [
    "sol[0]"
   ]
  },
  {
   "cell_type": "code",
   "execution_count": 40,
   "id": "30202363-a168-44bf-9f54-c9a1081487b4",
   "metadata": {},
   "outputs": [
    {
     "data": {
      "text/plain": [
       "array(0.25501476)"
      ]
     },
     "execution_count": 40,
     "metadata": {},
     "output_type": "execute_result"
    }
   ],
   "source": [
    "sol[0].interpolate(-0.01)"
   ]
  },
  {
   "cell_type": "code",
   "execution_count": 28,
   "id": "ec60f440-d504-4172-b0ad-08e261bf050d",
   "metadata": {},
   "outputs": [],
   "source": [
    "u_grad = np.gradient(sol.fields[0].data, edge_order=2)"
   ]
  },
  {
   "cell_type": "code",
   "execution_count": 30,
   "id": "4e5ea9d8-dc23-4806-8796-914b94e13b04",
   "metadata": {},
   "outputs": [
    {
     "data": {
      "text/plain": [
       "-0.004817500000605435"
      ]
     },
     "execution_count": 30,
     "metadata": {},
     "output_type": "execute_result"
    }
   ],
   "source": [
    "u_grad[-1] * 2"
   ]
  },
  {
   "cell_type": "code",
   "execution_count": null,
   "id": "12ccbf77-9951-4083-9c79-6721f3d4278b",
   "metadata": {},
   "outputs": [],
   "source": [
    "u_field.plot(title=\"displacement field after a second\")"
   ]
  },
  {
   "cell_type": "code",
   "execution_count": null,
   "id": "12ef7658-0669-4b24-b04e-c572e4bfe80f",
   "metadata": {},
   "outputs": [],
   "source": [
    "state.fields."
   ]
  },
  {
   "cell_type": "code",
   "execution_count": 19,
   "id": "fc6e9fde-cf3c-4a39-af31-9f4705d30ced",
   "metadata": {},
   "outputs": [
    {
     "data": {
      "application/vnd.jupyter.widget-view+json": {
       "model_id": "6371b6677093422ab5dd9c6e7050339e",
       "version_major": 2,
       "version_minor": 0
      },
      "text/plain": [
       "Output()"
      ]
     },
     "metadata": {},
     "output_type": "display_data"
    },
    {
     "name": "stderr",
     "output_type": "stream",
     "text": [
      "Spent more time on handling trackers (30.358569999999872) than on the actual simulation (20.37580800000012)\n"
     ]
    }
   ],
   "source": [
    "from pde import PDE, FieldCollection, PlotTracker, ScalarField, UnitGrid\n",
    "\n",
    "# define the PDE\n",
    "a, b = 1, 3\n",
    "d0, d1 = 1, 0.1\n",
    "eq = PDE(\n",
    "    {\n",
    "        \"u\": f\"{d0} * laplace(u) + {a} - ({b} + 1) * u + u**2 * v\",\n",
    "        \"v\": f\"{d1} * laplace(v) + {b} * u - u**2 * v\",\n",
    "    }\n",
    ")\n",
    "\n",
    "# initialize state\n",
    "grid = UnitGrid([64, 64])\n",
    "u = ScalarField(grid, a, label=\"Field $u$\")\n",
    "v = b / a + 0.1 * ScalarField.random_normal(grid, label=\"Field $v$\")\n",
    "state = FieldCollection([u, v])\n",
    "\n",
    "# simulate the pde\n",
    "tracker = PlotTracker(interval=1, plot_args={\"vmin\": 0, \"vmax\": 5})\n",
    "sol = eq.solve(state, t_range=20, dt=1e-3, tracker=tracker)"
   ]
  },
  {
   "cell_type": "code",
   "execution_count": null,
   "id": "a97baf68-b03f-4051-b620-499a6165df51",
   "metadata": {},
   "outputs": [],
   "source": []
  }
 ],
 "metadata": {
  "kernelspec": {
   "display_name": "chameleon",
   "language": "python",
   "name": "chameleon"
  },
  "language_info": {
   "codemirror_mode": {
    "name": "ipython",
    "version": 3
   },
   "file_extension": ".py",
   "mimetype": "text/x-python",
   "name": "python",
   "nbconvert_exporter": "python",
   "pygments_lexer": "ipython3",
   "version": "3.7.4"
  }
 },
 "nbformat": 4,
 "nbformat_minor": 5
}
