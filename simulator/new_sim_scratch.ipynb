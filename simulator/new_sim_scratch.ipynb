{
 "cells": [
  {
   "cell_type": "code",
   "execution_count": null,
   "id": "aa19a508-f92f-4430-b131-e29194568d25",
   "metadata": {},
   "outputs": [],
   "source": [
    "import gym\n",
    "import numpy as np\n",
    "from stable_baselines3 import DDPG\n",
    "from stable_baselines3.common.env_checker import check_env\n",
    "from new_chameleon import Chameleon"
   ]
  },
  {
   "cell_type": "code",
   "execution_count": null,
   "id": "b021bd63-69f8-462e-b8fc-306abe7a43b2",
   "metadata": {},
   "outputs": [],
   "source": [
    "env = Chameleon(E=1, alpha=1)\n",
    "model = DDPG(\"MlpPolicy\", env, verbose=0)"
   ]
  },
  {
   "cell_type": "code",
   "execution_count": null,
   "id": "425f7a3f-ba05-4fcf-84e1-473cb9ef5a9a",
   "metadata": {},
   "outputs": [],
   "source": [
    "model.learn(total_timesteps=int(2e3))"
   ]
  },
  {
   "cell_type": "code",
   "execution_count": null,
   "id": "a4c859ab-93f5-4f51-aa88-a2c9db0be620",
   "metadata": {},
   "outputs": [],
   "source": []
  }
 ],
 "metadata": {
  "kernelspec": {
   "display_name": "chameleon",
   "language": "python",
   "name": "chameleon"
  },
  "language_info": {
   "codemirror_mode": {
    "name": "ipython",
    "version": 3
   },
   "file_extension": ".py",
   "mimetype": "text/x-python",
   "name": "python",
   "nbconvert_exporter": "python",
   "pygments_lexer": "ipython3",
   "version": "3.7.4"
  }
 },
 "nbformat": 4,
 "nbformat_minor": 5
}
