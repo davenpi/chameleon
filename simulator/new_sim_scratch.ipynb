{
 "cells": [
  {
   "cell_type": "code",
   "execution_count": null,
   "id": "aa19a508-f92f-4430-b131-e29194568d25",
   "metadata": {},
   "outputs": [],
   "source": [
    "import gym\n",
    "import pickle\n",
    "import numpy as np\n",
    "import matplotlib.pyplot as plt\n",
    "from stable_baselines3 import DDPG\n",
    "from stable_baselines3.common.env_checker import check_env\n",
    "from chameleon import Chameleon"
   ]
  },
  {
   "cell_type": "code",
   "execution_count": null,
   "id": "b021bd63-69f8-462e-b8fc-306abe7a43b2",
   "metadata": {},
   "outputs": [],
   "source": [
    "env = Chameleon(E=0.1, alpha=1)\n",
    "model = DDPG(\"MlpPolicy\", env, verbose=0)"
   ]
  },
  {
   "cell_type": "code",
   "execution_count": null,
   "id": "425f7a3f-ba05-4fcf-84e1-473cb9ef5a9a",
   "metadata": {
    "tags": []
   },
   "outputs": [],
   "source": [
    "model.learn(total_timesteps=int(5e3))"
   ]
  },
  {
   "cell_type": "code",
   "execution_count": null,
   "id": "625d035e-18d5-4989-a719-2dc3ec813fe7",
   "metadata": {},
   "outputs": [],
   "source": []
  },
  {
   "cell_type": "code",
   "execution_count": null,
   "id": "51598a02-a9d7-48ab-8f24-fb8193ce4627",
   "metadata": {},
   "outputs": [],
   "source": [
    "# env = Chameleon(E=0.1, alpha=1)\n",
    "# state = env.reset()\n",
    "# pos_hist = []\n",
    "# done = False\n",
    "# while not done:\n",
    "#     pos_hist.append(env.pos)\n",
    "#     action = model.predict(state)[0]\n",
    "#     print(action)\n",
    "#     state, reward, done, info = env.step(action)"
   ]
  },
  {
   "cell_type": "code",
   "execution_count": null,
   "id": "168472ef-c048-4df7-b7b9-d8e6cc54e136",
   "metadata": {},
   "outputs": [],
   "source": [
    "# history = []\n",
    "# for i in range(len(pos_hist)):\n",
    "#     x_p = pos_hist[i]\n",
    "#     y = np.zeros(env.n_elems)\n",
    "#     ar = np.vstack((x_p, y)).T\n",
    "#     history.append(ar)\n",
    "\n",
    "# ar = np.vstack((env.winning_pos, y)).T\n",
    "# history.append(ar)\n",
    "# with open(\"winning_history.txt\", \"wb\") as fp:\n",
    "#     pickle.dump(history, fp)"
   ]
  },
  {
   "cell_type": "code",
   "execution_count": null,
   "id": "ef2cef52-663f-489b-a3ad-88abdb72a5ce",
   "metadata": {},
   "outputs": [],
   "source": [
    "# plt.plot(env.pos, 1 - env.pos + env.pos**2)\n",
    "# plt.title(\"Stress vs position\")\n",
    "# plt.xlabel(\"position\")\n",
    "# plt.ylabel(\"stress\")\n",
    "# plt.savefig(\"stressvpos.png\")"
   ]
  },
  {
   "cell_type": "code",
   "execution_count": null,
   "id": "afff2135-6732-4ded-9826-b8e2a45ce1f0",
   "metadata": {},
   "outputs": [],
   "source": []
  }
 ],
 "metadata": {
  "kernelspec": {
   "display_name": "chameleon",
   "language": "python",
   "name": "chameleon"
  },
  "language_info": {
   "codemirror_mode": {
    "name": "ipython",
    "version": 3
   },
   "file_extension": ".py",
   "mimetype": "text/x-python",
   "name": "python",
   "nbconvert_exporter": "python",
   "pygments_lexer": "ipython3",
   "version": "3.7.4"
  }
 },
 "nbformat": 4,
 "nbformat_minor": 5
}
