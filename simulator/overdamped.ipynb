{
 "cells": [
  {
   "cell_type": "code",
   "execution_count": null,
   "id": "decdf668-db69-4ea6-b023-07b9d30096c4",
   "metadata": {},
   "outputs": [],
   "source": [
    "%reset -f\n",
    "import scipy.integrate as si\n",
    "import numpy as np\n",
    "import matplotlib.pyplot as plt\n",
    "import chameleon as c\n",
    "import time"
   ]
  },
  {
   "cell_type": "code",
   "execution_count": null,
   "id": "97b234d8-09fc-4830-a4b1-80919ec9ab09",
   "metadata": {},
   "outputs": [],
   "source": [
    "env = c.Chameleon()"
   ]
  },
  {
   "cell_type": "code",
   "execution_count": null,
   "id": "7bc59bbe-ec3b-46c4-9b3d-e7be07cbbc13",
   "metadata": {},
   "outputs": [],
   "source": [
    "def sig_a(env, t):\n",
    "    return -env.pos_init * t\n",
    "\n",
    "\n",
    "def integrate_to_t(env, t):\n",
    "    \"\"\"Integrate the environment from 0 to t\"\"\"\n",
    "    time_steps = int(t / env.dt)\n",
    "    t_arr = np.linspace(0, t, time_steps)\n",
    "    for t in t_arr:\n",
    "        sig = sig_a(env, t)\n",
    "        env.one_step_w_inertia(sig)\n",
    "    return"
   ]
  },
  {
   "cell_type": "code",
   "execution_count": null,
   "id": "89aba670-34e5-4735-9c6b-e062943b04e7",
   "metadata": {},
   "outputs": [],
   "source": [
    "env.u_hist"
   ]
  },
  {
   "cell_type": "code",
   "execution_count": null,
   "id": "fe2ab29f-5a26-49c5-8432-f5e88f6d0a68",
   "metadata": {},
   "outputs": [],
   "source": [
    "integrate_to_t(env, 1)"
   ]
  },
  {
   "cell_type": "code",
   "execution_count": null,
   "id": "4d365fc0-89f0-4ce2-8839-ccaa43e3b663",
   "metadata": {},
   "outputs": [],
   "source": [
    "# %%time\n",
    "# active_stress = env.E*env.pos_init\n",
    "# env.one_step_w_inertia(active_stress)"
   ]
  },
  {
   "cell_type": "code",
   "execution_count": null,
   "id": "19fb606a-36be-485d-a544-84493ad908fd",
   "metadata": {},
   "outputs": [],
   "source": [
    "env.pos"
   ]
  },
  {
   "cell_type": "code",
   "execution_count": null,
   "id": "0d76f913-6cc1-449d-81aa-4dbcd063090f",
   "metadata": {},
   "outputs": [],
   "source": [
    "env.u_current"
   ]
  },
  {
   "cell_type": "code",
   "execution_count": null,
   "id": "0deb7bdc-4369-4812-8130-76524240152c",
   "metadata": {},
   "outputs": [],
   "source": []
  }
 ],
 "metadata": {
  "kernelspec": {
   "display_name": "chameleon",
   "language": "python",
   "name": "chameleon"
  },
  "language_info": {
   "codemirror_mode": {
    "name": "ipython",
    "version": 3
   },
   "file_extension": ".py",
   "mimetype": "text/x-python",
   "name": "python",
   "nbconvert_exporter": "python",
   "pygments_lexer": "ipython3",
   "version": "3.7.4"
  }
 },
 "nbformat": 4,
 "nbformat_minor": 5
}
