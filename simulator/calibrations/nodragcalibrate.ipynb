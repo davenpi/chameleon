{
 "cells": [
  {
   "cell_type": "code",
   "execution_count": 1,
   "id": "112a1e4d-1ab2-4593-8ba4-b0d414325652",
   "metadata": {},
   "outputs": [],
   "source": [
    "%reset -f\n",
    "import numpy as np\n",
    "import matplotlib.pyplot as plt\n",
    "import chameleon as c\n",
    "import time"
   ]
  },
  {
   "cell_type": "markdown",
   "id": "60f82101-f4d3-492f-809d-d48c75c2c9cb",
   "metadata": {},
   "source": [
    "## Analytics vs numerical for the case when $\\sigma_a(x, t) = -xt$"
   ]
  },
  {
   "cell_type": "code",
   "execution_count": 2,
   "id": "bf467743-0c92-4198-8b7b-b635059bc0a2",
   "metadata": {},
   "outputs": [],
   "source": [
    "def sig_a(env, t):\n",
    "    \"\"\"\n",
    "    Function to specify active stress as a function of time.\n",
    "    We need to take in the environment so that we can get the\n",
    "    x postion.\n",
    "    \"\"\"\n",
    "    x = env.pos_init\n",
    "    return -x * t\n",
    "\n",
    "\n",
    "def integrate_to_t(env, t):\n",
    "    \"\"\"Integrate the environment from 0 to t\"\"\"\n",
    "    time_steps = int(t / env.dt)\n",
    "    t_arr = np.linspace(0, t, time_steps)\n",
    "    for t in t_arr:\n",
    "        sig = sig_a(env, t)\n",
    "        env.one_step(sig)\n",
    "    return\n",
    "\n",
    "\n",
    "def u(env, t):\n",
    "    \"\"\"\n",
    "    Analytic solution of equations of motion given the\n",
    "    sigma we specified.\n",
    "    \"\"\"\n",
    "    x_term = env.pos_init ** 2 / (2 * env.alpha * env.g ** 2)\n",
    "    t_term = env.g * t - 1 + np.exp(-env.g * t)\n",
    "    return x_term * t_term"
   ]
  },
  {
   "cell_type": "code",
   "execution_count": 3,
   "id": "29103f02-f42e-414f-8b29-af673d973c0c",
   "metadata": {},
   "outputs": [],
   "source": [
    "t = 10\n",
    "env = c.Chameleon(alpha=5, dt=0.1, init_length=1)\n",
    "analytic = u(env, t)\n",
    "integrate_to_t(env, t)"
   ]
  },
  {
   "cell_type": "code",
   "execution_count": 4,
   "id": "9d97ad09-b369-454e-88bc-658897466ce5",
   "metadata": {},
   "outputs": [
    {
     "data": {
      "image/png": "[encoded data removed]",
      "text/plain": [
       "<Figure size 432x288 with 1 Axes>"
      ]
     },
     "metadata": {
      "needs_background": "light"
     },
     "output_type": "display_data"
    }
   ],
   "source": [
    "plt.plot(env.pos_init, analytic)\n",
    "plt.plot(env.pos_init, env.u_current)\n",
    "plt.xlabel(\"x\")\n",
    "plt.ylabel(f\"$u(x, {t})$\")\n",
    "plt.legend((\"analytic\", \"numerical\"))\n",
    "plt.title(f\"Time: {t}\")\n",
    "plt.show()"
   ]
  },
  {
   "cell_type": "markdown",
   "id": "abd4cfbb-349d-460e-b760-810efd546395",
   "metadata": {},
   "source": [
    "## Now we consider case 2 where $\\sigma_a(x,t) = -sin^2(x)t$ and this gives\n",
    "\\begin{equation}u(x,t) = \\frac{x - sin(x)cos(x)}{2\\alpha\\gamma^2}\\left(\\gamma t -1 + e^{-\\gamma t}\\right)\\end{equation}"
   ]
  },
  {
   "cell_type": "code",
   "execution_count": 5,
   "id": "d1b9cdce-b84a-4b64-904a-bd4dea7de051",
   "metadata": {},
   "outputs": [],
   "source": [
    "def sig_a(env, t):\n",
    "    \"\"\"\n",
    "    Function to specify active stress as a function of time.\n",
    "    We need to take in the environment so that we can get the\n",
    "    x postion.\n",
    "    \"\"\"\n",
    "    x = env.pos_init\n",
    "    active_stress = -t * np.sin(x) ** 2\n",
    "    return active_stress\n",
    "\n",
    "\n",
    "def integrate_to_t(env, t):\n",
    "    \"\"\"Integrate the environment from 0 to t\"\"\"\n",
    "    time_steps = int(t / env.dt)\n",
    "    t_arr = np.linspace(0, t, time_steps)\n",
    "    for t in t_arr:\n",
    "        sig = sig_a(env, t)\n",
    "        env.one_step(sig)\n",
    "    return\n",
    "\n",
    "\n",
    "def u(env, t):\n",
    "    \"\"\"\n",
    "    Analytic solution of equations of motion given the\n",
    "    sigma we specified.\n",
    "    \"\"\"\n",
    "    x = env.pos_init\n",
    "    x_term = (x - np.sin(x) * np.cos(x)) / (2 * env.alpha * env.g ** 2)\n",
    "    t_term = env.g * t - 1 + np.exp(-env.g * t)\n",
    "    return x_term * t_term"
   ]
  },
  {
   "cell_type": "code",
   "execution_count": 6,
   "id": "79cb0530-20b0-421e-8263-061594f086fb",
   "metadata": {},
   "outputs": [],
   "source": [
    "t = 10\n",
    "env = c.Chameleon(alpha=100, dt=0.01, init_length=10)\n",
    "analytic = u(env, t)\n",
    "integrate_to_t(env, t)"
   ]
  },
  {
   "cell_type": "code",
   "execution_count": 7,
   "id": "053443ef-0390-45cf-b395-72715b951d77",
   "metadata": {},
   "outputs": [
    {
     "data": {
      "image/png": "[encoded data removed]",
      "text/plain": [
       "<Figure size 432x288 with 1 Axes>"
      ]
     },
     "metadata": {
      "needs_background": "light"
     },
     "output_type": "display_data"
    }
   ],
   "source": [
    "plt.plot(env.pos_init, analytic)\n",
    "plt.plot(env.pos_init, env.u_current)\n",
    "plt.xlabel(\"x\")\n",
    "plt.ylabel(f\"$u(x, {t})$\")\n",
    "plt.legend((\"analytic\", \"numerical\"))\n",
    "plt.title(f\"Time: {t}\")\n",
    "plt.show()"
   ]
  },
  {
   "cell_type": "markdown",
   "id": "58c7452b-6e2d-4798-94c6-8bbe1a93df25",
   "metadata": {},
   "source": [
    "## Now we use $\\sigma_a(x, t) = -sin^2(x)sin^2(t) - 1$ and this gives\n",
    "\\begin{equation}\n",
    "u(x, t) = \\frac{x - sinxcosx}{4\\alpha\\gamma(\\gamma^2+4)} (-\\gamma^2cos(2t) + \\gamma^2 - 2\\gamma sin(2t) ) + \\frac{x}{\\alpha \\gamma} (1- e^{-\\gamma t})\n",
    "\\end{equation}"
   ]
  },
  {
   "cell_type": "code",
   "execution_count": 8,
   "id": "351e0eb6-91f8-4340-a3f2-65654295219d",
   "metadata": {},
   "outputs": [],
   "source": [
    "def sig_a(env, t):\n",
    "    \"\"\"\n",
    "    Function to specify active stress as a function of time.\n",
    "    We need to take in the environment so that we can get the\n",
    "    x postion.\n",
    "    \"\"\"\n",
    "    x = env.pos_init\n",
    "    active_stress = -(np.sin(x) ** 2) * np.sin(t) ** 2 - 1\n",
    "    return active_stress\n",
    "\n",
    "\n",
    "def integrate_to_t(env, t):\n",
    "    \"\"\"Integrate the environment from 0 to t\"\"\"\n",
    "    time_steps = int(t / env.dt)\n",
    "    t_arr = np.linspace(0, t, time_steps)\n",
    "    for t in t_arr:\n",
    "        sig = sig_a(env, t)\n",
    "        env.one_step(sig)\n",
    "    return\n",
    "\n",
    "\n",
    "def u(env, t):\n",
    "    \"\"\"\n",
    "    Analytic solution of equations of motion given the\n",
    "    sigma we specified.\n",
    "    \"\"\"\n",
    "    x = env.pos_init\n",
    "    x_term1 = (x - np.sin(x) * np.cos(x)) / (4 * env.alpha * env.g * (env.g ** 2 + 4))\n",
    "    x_term2 = x / (env.alpha * env.g)\n",
    "    t_term1 = (\n",
    "        (-env.g ** 2) * np.cos(2 * t)\n",
    "        + env.g ** 2\n",
    "        - 2 * env.g * np.sin(2 * t)\n",
    "        + 4\n",
    "        - 4 * np.exp(-env.g * t)\n",
    "    )\n",
    "    t_term2 = 1 - np.exp(-env.g * t)\n",
    "    return x_term1 * t_term1 + x_term2 * t_term2"
   ]
  },
  {
   "cell_type": "code",
   "execution_count": 9,
   "id": "0febcb95-92c5-42d6-9ad0-1112155bebe0",
   "metadata": {},
   "outputs": [],
   "source": [
    "t = 10\n",
    "env = c.Chameleon(alpha=10, E=20, dt=0.001, init_length=3)\n",
    "analytic = u(env, t)\n",
    "integrate_to_t(env, t)"
   ]
  },
  {
   "cell_type": "code",
   "execution_count": 10,
   "id": "10627a16-7743-451a-9914-80ac2be93389",
   "metadata": {},
   "outputs": [
    {
     "data": {
      "image/png": "[encoded data removed]",
      "text/plain": [
       "<Figure size 432x288 with 1 Axes>"
      ]
     },
     "metadata": {
      "needs_background": "light"
     },
     "output_type": "display_data"
    }
   ],
   "source": [
    "plt.plot(env.pos_init, analytic)\n",
    "plt.plot(env.pos_init, env.u_current)\n",
    "plt.xlabel(\"x\")\n",
    "plt.ylabel(f\"$u(x, {t})$\")\n",
    "plt.legend((\"analytic\", \"numerical\"))\n",
    "plt.title(f\"Time: {t}\")\n",
    "plt.show()"
   ]
  },
  {
   "cell_type": "code",
   "execution_count": null,
   "id": "1e7acd03-4f77-42a7-8ed3-9f84a800b63d",
   "metadata": {},
   "outputs": [],
   "source": []
  }
 ],
 "metadata": {
  "kernelspec": {
   "display_name": "chameleon",
   "language": "python",
   "name": "chameleon"
  },
  "language_info": {
   "codemirror_mode": {
    "name": "ipython",
    "version": 3
   },
   "file_extension": ".py",
   "mimetype": "text/x-python",
   "name": "python",
   "nbconvert_exporter": "python",
   "pygments_lexer": "ipython3",
   "version": "3.7.4"
  }
 },
 "nbformat": 4,
 "nbformat_minor": 5
}
