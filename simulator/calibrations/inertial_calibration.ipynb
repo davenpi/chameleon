{
 "cells": [
  {
   "cell_type": "code",
   "execution_count": null,
   "id": "decdf668-db69-4ea6-b023-07b9d30096c4",
   "metadata": {},
   "outputs": [],
   "source": [
    "%reset -f\n",
    "import scipy.integrate as si\n",
    "import numpy as np\n",
    "import matplotlib.pyplot as plt\n",
    "import chameleon as c\n",
    "import time"
   ]
  },
  {
   "cell_type": "code",
   "execution_count": null,
   "id": "97b234d8-09fc-4830-a4b1-80919ec9ab09",
   "metadata": {},
   "outputs": [],
   "source": []
  },
  {
   "cell_type": "code",
   "execution_count": null,
   "id": "7bc59bbe-ec3b-46c4-9b3d-e7be07cbbc13",
   "metadata": {},
   "outputs": [],
   "source": [
    "def sig_a(env, t):\n",
    "    return -(np.sin(env.pos_init) ** 2) * np.sin(t) ** 2\n",
    "\n",
    "\n",
    "def integrate_to_t(env, t):\n",
    "    \"\"\"Integrate the environment from 0 to t\"\"\"\n",
    "    time_steps = int(t / env.dt)\n",
    "    t_arr = np.linspace(0, t, time_steps)\n",
    "    for t in t_arr:\n",
    "        sig = sig_a(env, t)\n",
    "        env.one_step_return(sig)\n",
    "    return"
   ]
  },
  {
   "cell_type": "markdown",
   "id": "d1ee3f82-3ec4-43b0-8ded-5d1c7120454b",
   "metadata": {},
   "source": [
    "# I want to have the rod in an initially overstretched position. \n",
    "I need to update the boundary conditions in `env.U0` to ensure that happens"
   ]
  },
  {
   "cell_type": "code",
   "execution_count": null,
   "id": "fe2ab29f-5a26-49c5-8432-f5e88f6d0a68",
   "metadata": {},
   "outputs": [],
   "source": [
    "m = 2\n",
    "L = 10\n",
    "cd = 10\n",
    "a = 3\n",
    "E = 4\n",
    "T = 10\n",
    "env = c.Chameleon(dt=T / 1000, c=cd, m=m, init_length=L, alpha=a, E=E)\n",
    "env.u_current = np.sin(env.pos_init)  # U(x) = x^2\n",
    "env.U0[0] = env.u_current[-1]\n",
    "env.U0[1] = 1"
   ]
  },
  {
   "cell_type": "code",
   "execution_count": null,
   "id": "d8ca0ef4-a617-42e7-a5e9-96093021ccb1",
   "metadata": {},
   "outputs": [],
   "source": [
    "plt.plot(env.u_current)\n",
    "plt.show"
   ]
  },
  {
   "cell_type": "code",
   "execution_count": null,
   "id": "fe17f4e1-9e48-4b62-80c6-fe749f6d9597",
   "metadata": {},
   "outputs": [],
   "source": [
    "integrate_to_t(env, T)"
   ]
  },
  {
   "cell_type": "code",
   "execution_count": null,
   "id": "bcccbf69-aec7-4fb6-b956-f18dead43548",
   "metadata": {},
   "outputs": [],
   "source": [
    "a = [\n",
    "    {0.0},\n",
    "    {-0.00635343},\n",
    "    {-0.0118364},\n",
    "    {-0.0157159},\n",
    "    {-0.0175119},\n",
    "    {-0.0170737},\n",
    "    {-0.0146029},\n",
    "    {-0.0106223},\n",
    "    {-0.00589291},\n",
    "    {-0.0012941},\n",
    "    {0.00231547},\n",
    "    {0.00423327},\n",
    "    {0.00402387},\n",
    "    {0.00158767},\n",
    "    {-0.00282339},\n",
    "    {-0.00864555},\n",
    "    {-0.0150923},\n",
    "    {-0.0212786},\n",
    "    {-0.0263603},\n",
    "    {-0.0296678},\n",
    "    {-0.0308117},\n",
    "    {-0.029744},\n",
    "    {-0.026766},\n",
    "    {-0.0224804},\n",
    "    {-0.0176965},\n",
    "    {-0.0133022},\n",
    "    {-0.0101239},\n",
    "    {-0.00879601},\n",
    "    {-0.0096608},\n",
    "    {-0.0127143},\n",
    "    {-0.0176072},\n",
    "    {-0.0236994},\n",
    "    {-0.0301618},\n",
    "    {-0.0361067},\n",
    "    {-0.0407281},\n",
    "    {-0.0434291},\n",
    "    {-0.0439157},\n",
    "    {-0.0422438},\n",
    "    {-0.03881},\n",
    "    {-0.034289},\n",
    "    {-0.0295272},\n",
    "    {-0.025409},\n",
    "    {-0.0227173},\n",
    "    {-0.0220096},\n",
    "    {-0.0235304},\n",
    "    {-0.0271722},\n",
    "    {-0.0324927},\n",
    "    {-0.0387846},\n",
    "    {-0.0451873},\n",
    "    {-0.0508225},\n",
    "    {-0.0549333},\n",
    "]\n",
    "a = [s.pop() for s in a]"
   ]
  },
  {
   "cell_type": "code",
   "execution_count": null,
   "id": "0d76f913-6cc1-449d-81aa-4dbcd063090f",
   "metadata": {},
   "outputs": [],
   "source": [
    "plt.plot(np.linspace(0, env.length, len(a)), a)\n",
    "plt.plot(env.pos_init, env.u_current)\n",
    "plt.legend((\"Analytic\", \"Simulation\"))\n",
    "plt.title(f\"Displacement at time {T}:  Overdamped\")\n",
    "plt.xlabel(\"x\")\n",
    "plt.ylabel(f\"$u(x, {T})$\")\n",
    "plt.show()"
   ]
  },
  {
   "cell_type": "code",
   "execution_count": null,
   "id": "316fbc45-7416-48ea-9010-b145b76a0a65",
   "metadata": {},
   "outputs": [],
   "source": [
    "# import pickle\n",
    "# l = [1,2,3,4]\n",
    "# with open(\"pos_hist\", \"wb\") as fp:\n",
    "#     pickle.dump(env.pos_history, fp)\n",
    "\n",
    "# with open(\"test\", \"rb\") as fp:\n",
    "#     b = pickle.load(fp)"
   ]
  },
  {
   "cell_type": "code",
   "execution_count": null,
   "id": "bf36d6d3-3108-4fcd-b5b8-b14527f455f6",
   "metadata": {},
   "outputs": [],
   "source": []
  },
  {
   "cell_type": "code",
   "execution_count": null,
   "id": "b28f56cd-9c73-4c9b-870c-875c8f73a8d1",
   "metadata": {},
   "outputs": [],
   "source": []
  },
  {
   "cell_type": "code",
   "execution_count": null,
   "id": "31ba687c-c073-412a-88da-4f8c6777e51b",
   "metadata": {},
   "outputs": [],
   "source": []
  },
  {
   "cell_type": "code",
   "execution_count": null,
   "id": "fa020c11-f0d7-46ca-af5e-679f72853c4e",
   "metadata": {},
   "outputs": [],
   "source": []
  }
 ],
 "metadata": {
  "kernelspec": {
   "display_name": "chameleon",
   "language": "python",
   "name": "chameleon"
  },
  "language_info": {
   "codemirror_mode": {
    "name": "ipython",
    "version": 3
   },
   "file_extension": ".py",
   "mimetype": "text/x-python",
   "name": "python",
   "nbconvert_exporter": "python",
   "pygments_lexer": "ipython3",
   "version": "3.7.4"
  }
 },
 "nbformat": 4,
 "nbformat_minor": 5
}
