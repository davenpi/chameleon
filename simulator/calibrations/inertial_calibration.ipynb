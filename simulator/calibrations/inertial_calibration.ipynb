{
 "cells": [
  {
   "cell_type": "code",
   "execution_count": 1,
   "id": "decdf668-db69-4ea6-b023-07b9d30096c4",
   "metadata": {},
   "outputs": [],
   "source": [
    "%reset -f\n",
    "import scipy.integrate as si\n",
    "import numpy as np\n",
    "import matplotlib.pyplot as plt\n",
    "import chameleon as c\n",
    "import time"
   ]
  },
  {
   "cell_type": "code",
   "execution_count": 2,
   "id": "7bc59bbe-ec3b-46c4-9b3d-e7be07cbbc13",
   "metadata": {},
   "outputs": [],
   "source": [
    "def sig_a(env, t):\n",
    "    return -(np.sin(env.pos_init) ** 2) * np.sin(t) ** 2\n",
    "\n",
    "\n",
    "def integrate_to_t(env, t):\n",
    "    \"\"\"Integrate the environment from 0 to t\"\"\"\n",
    "    time_steps = int(t / env.dt)\n",
    "    t_arr = np.linspace(0, t, time_steps)\n",
    "    for t in t_arr:\n",
    "        sig = sig_a(env, t)\n",
    "        env.one_step_return(sig)\n",
    "    return"
   ]
  },
  {
   "cell_type": "markdown",
   "id": "d1ee3f82-3ec4-43b0-8ded-5d1c7120454b",
   "metadata": {},
   "source": [
    "# I want to have the rod in an initially overstretched position. \n",
    "I need to update the boundary conditions in `env.U0` to ensure that happens"
   ]
  },
  {
   "cell_type": "code",
   "execution_count": 20,
   "id": "fe2ab29f-5a26-49c5-8432-f5e88f6d0a68",
   "metadata": {},
   "outputs": [],
   "source": [
    "m = 2\n",
    "L = 10\n",
    "cd = 10\n",
    "a = 3\n",
    "E = 4\n",
    "T = 0.50\n",
    "env = c.Chameleon(dt=T / 1000, c=cd, m=m, init_length=L, alpha=a, E=E)\n",
    "env.u_current = np.sin(env.pos_init)\n",
    "env.u_hist.append(env.u_current)\n",
    "env.U0[0] = env.u_current[-1]\n",
    "env.U0[1] = 1"
   ]
  },
  {
   "cell_type": "code",
   "execution_count": 21,
   "id": "fe17f4e1-9e48-4b62-80c6-fe749f6d9597",
   "metadata": {},
   "outputs": [],
   "source": [
    "integrate_to_t(env, T)"
   ]
  },
  {
   "cell_type": "code",
   "execution_count": 22,
   "id": "bcccbf69-aec7-4fb6-b956-f18dead43548",
   "metadata": {},
   "outputs": [],
   "source": [
    "a = [\n",
    "    {0.0},\n",
    "    {0.099374},\n",
    "    {0.194854},\n",
    "    {0.282682},\n",
    "    {0.359367},\n",
    "    {0.421811},\n",
    "    {0.467436},\n",
    "    {0.494283},\n",
    "    {0.501109},\n",
    "    {0.487448},\n",
    "    {0.453659},\n",
    "    {0.400922},\n",
    "    {0.331214},\n",
    "    {0.247238},\n",
    "    {0.152319},\n",
    "    {0.0502633},\n",
    "    {-0.054805},\n",
    "    {-0.158627},\n",
    "    {-0.256999},\n",
    "    {-0.345961},\n",
    "    {-0.42197},\n",
    "    {-0.48205},\n",
    "    {-0.52391},\n",
    "    {-0.546034},\n",
    "    {-0.547719},\n",
    "    {-0.529092},\n",
    "    {-0.491078},\n",
    "    {-0.435349},\n",
    "    {-0.364239},\n",
    "    {-0.280641},\n",
    "    {-0.1879},\n",
    "    {-0.0896768},\n",
    "    {0.0101733},\n",
    "    {0.107741},\n",
    "    {0.199194},\n",
    "    {0.280914},\n",
    "    {0.349627},\n",
    "    {0.402524},\n",
    "    {0.437375},\n",
    "    {0.45263},\n",
    "    {0.447495},\n",
    "    {0.421981},\n",
    "    {0.376929},\n",
    "    {0.313991},\n",
    "    {0.235579},\n",
    "    {0.144773},\n",
    "    {0.0451987},\n",
    "    {-0.0591305},\n",
    "    {-0.163989},\n",
    "    {-0.265127},\n",
    "    {-0.358461},\n",
    "]\n",
    "a = [s.pop() for s in a]"
   ]
  },
  {
   "cell_type": "code",
   "execution_count": 23,
   "id": "0d76f913-6cc1-449d-81aa-4dbcd063090f",
   "metadata": {},
   "outputs": [
    {
     "data": {
      "image/png": "[encoded data removed]",
      "text/plain": [
       "<Figure size 432x288 with 1 Axes>"
      ]
     },
     "metadata": {
      "needs_background": "light"
     },
     "output_type": "display_data"
    }
   ],
   "source": [
    "plt.plot(np.linspace(0, env.length, len(a)), a)\n",
    "plt.plot(env.pos_init, env.u_current)\n",
    "plt.legend((\"Analytic\", \"Simulation\"))\n",
    "plt.title(f\"Displacement at time {T}:  Overdamped\")\n",
    "plt.xlabel(\"x\")\n",
    "plt.ylabel(f\"$u(x, {T})$\")\n",
    "plt.show()"
   ]
  },
  {
   "cell_type": "code",
   "execution_count": 24,
   "id": "316fbc45-7416-48ea-9010-b145b76a0a65",
   "metadata": {},
   "outputs": [],
   "source": [
    "# import pickle\n",
    "# l = [1,2,3,4]\n",
    "# with open(\"pos_hist\", \"wb\") as fp:\n",
    "#     pickle.dump(env.pos_history, fp)\n",
    "\n",
    "# with open(\"test\", \"rb\") as fp:\n",
    "#     b = pickle.load(fp)"
   ]
  },
  {
   "cell_type": "code",
   "execution_count": 25,
   "id": "bf36d6d3-3108-4fcd-b5b8-b14527f455f6",
   "metadata": {
    "tags": []
   },
   "outputs": [
    {
     "data": {
      "text/plain": [
       "[0.9999999999998899,\n",
       " 1.0108610294603526,\n",
       " 1.0083078265223921,\n",
       " 1.0057611401219635,\n",
       " 1.0032209537018666,\n",
       " 1.0006872507397624,\n",
       " 0.9981600147579428,\n",
       " 0.9956392293224425,\n",
       " 0.9931248780390423,\n",
       " 0.99061694455993]"
      ]
     },
     "execution_count": 25,
     "metadata": {},
     "output_type": "execute_result"
    }
   ],
   "source": [
    "env.u_velocity_history[:10]"
   ]
  },
  {
   "cell_type": "code",
   "execution_count": null,
   "id": "b28f56cd-9c73-4c9b-870c-875c8f73a8d1",
   "metadata": {},
   "outputs": [],
   "source": []
  },
  {
   "cell_type": "code",
   "execution_count": null,
   "id": "31ba687c-c073-412a-88da-4f8c6777e51b",
   "metadata": {},
   "outputs": [],
   "source": []
  },
  {
   "cell_type": "code",
   "execution_count": null,
   "id": "fa020c11-f0d7-46ca-af5e-679f72853c4e",
   "metadata": {},
   "outputs": [],
   "source": []
  }
 ],
 "metadata": {
  "kernelspec": {
   "display_name": "chameleon",
   "language": "python",
   "name": "chameleon"
  },
  "language_info": {
   "codemirror_mode": {
    "name": "ipython",
    "version": 3
   },
   "file_extension": ".py",
   "mimetype": "text/x-python",
   "name": "python",
   "nbconvert_exporter": "python",
   "pygments_lexer": "ipython3",
   "version": "3.7.4"
  }
 },
 "nbformat": 4,
 "nbformat_minor": 5
}
