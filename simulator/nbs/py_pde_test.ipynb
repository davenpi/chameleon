{
 "cells": [
  {
   "cell_type": "code",
   "execution_count": 47,
   "id": "1a4bebb8-9396-45d7-a18c-b1692af8dabd",
   "metadata": {},
   "outputs": [],
   "source": [
    "import pde\n",
    "import numpy as np"
   ]
  },
  {
   "cell_type": "code",
   "execution_count": 62,
   "id": "12ae756a-8ad0-4dd0-ba9a-63d890850a72",
   "metadata": {},
   "outputs": [],
   "source": [
    "L = 1\n",
    "num_points = 20\n",
    "E = 10\n",
    "alpha = 1\n",
    "grid = pde.CartesianGrid([[0, L]], [num_points])"
   ]
  },
  {
   "cell_type": "markdown",
   "id": "81411001-d632-49be-8e2e-b1869dd10c51",
   "metadata": {},
   "source": [
    "# The equation i wish to simulate is\n",
    "$ E \\frac{\\partial^2 u}{\\partial x^2} + \\frac{\\partial \\sigma}{\\partial x} = \\alpha \\frac{\\partial u}{\\partial t} $"
   ]
  },
  {
   "cell_type": "code",
   "execution_count": 63,
   "id": "f6e7e3ae-3e5f-4481-a6e0-39ef1a4e8823",
   "metadata": {},
   "outputs": [],
   "source": [
    "eq = pde.PDE(\n",
    "    rhs={\"u\": f\"{E/alpha} * laplace(u) + {1/alpha} * gradient(sigma)\", \"sigma\": \"0\"},\n",
    "    bc_ops={\n",
    "        \"u:*\": ({\"value\": 0}, {\"derivative\": -0.047}),\n",
    "        \"sigma:*\": ({\"value\": 0}, {\"value\": 10}),\n",
    "    },\n",
    ")"
   ]
  },
  {
   "cell_type": "code",
   "execution_count": 64,
   "id": "7862a483-be5a-4b4a-836d-4ee2b090d03d",
   "metadata": {},
   "outputs": [
    {
     "data": {
      "text/plain": [
       "{'u:*': ({'value': 0}, {'derivative': -0.047}),\n",
       " 'sigma:*': ({'value': 0}, {'value': 10}),\n",
       " '*:*': 'natural'}"
      ]
     },
     "execution_count": 64,
     "metadata": {},
     "output_type": "execute_result"
    }
   ],
   "source": [
    "eq.bcs"
   ]
  },
  {
   "cell_type": "code",
   "execution_count": 65,
   "id": "8b2e307f-26c9-4a6b-939c-23cda5bd4cc4",
   "metadata": {},
   "outputs": [],
   "source": [
    "u_field = pde.ScalarField(grid, 0.0, label=\"$u$\")\n",
    "sig_field = pde.ScalarField(grid, np.linspace(0, 10, num_points), label=\"$\\sigma$\")"
   ]
  },
  {
   "cell_type": "code",
   "execution_count": 66,
   "id": "a6edd85d-33ea-4d46-b33a-b53bfa7d936b",
   "metadata": {},
   "outputs": [
    {
     "data": {
      "application/vnd.jupyter.widget-view+json": {
       "model_id": "0761463786b0465db6b97e3308ca1ff4",
       "version_major": 2,
       "version_minor": 0
      },
      "text/plain": [
       "  0%|          | 0/10.0 [00:00<?, ?it/s]"
      ]
     },
     "metadata": {},
     "output_type": "display_data"
    },
    {
     "name": "stderr",
     "output_type": "stream",
     "text": [
      "Simulation aborted at t=3.1189999999999998 (Field was not finite)\n"
     ]
    }
   ],
   "source": [
    "state = pde.FieldCollection([u_field, sig_field])\n",
    "# tracker = pde.PlotTracker(interval=1,)\n",
    "sol = eq.solve(\n",
    "    state,\n",
    "    t_range=10,\n",
    "    dt=1e-3,\n",
    ")  # tracker=tracker)"
   ]
  },
  {
   "cell_type": "code",
   "execution_count": 67,
   "id": "62c69be0-3f63-457a-8625-e5d762891299",
   "metadata": {},
   "outputs": [
    {
     "data": {
      "text/plain": [
       "ScalarField(grid=CartesianGrid(bounds=((0.0, 1.0),), shape=(20,), periodic=[False]), data=[nan nan nan nan nan nan nan nan nan nan nan nan nan nan nan nan nan nan\n",
       " nan nan], label=\"$u$\")"
      ]
     },
     "execution_count": 67,
     "metadata": {},
     "output_type": "execute_result"
    }
   ],
   "source": [
    "sol[0]"
   ]
  },
  {
   "cell_type": "code",
   "execution_count": 55,
   "id": "30202363-a168-44bf-9f54-c9a1081487b4",
   "metadata": {},
   "outputs": [
    {
     "data": {
      "text/plain": [
       "array(0.25501476)"
      ]
     },
     "execution_count": 55,
     "metadata": {},
     "output_type": "execute_result"
    }
   ],
   "source": [
    "sol[0].interpolate(-0.01)"
   ]
  },
  {
   "cell_type": "code",
   "execution_count": 56,
   "id": "ec60f440-d504-4172-b0ad-08e261bf050d",
   "metadata": {},
   "outputs": [],
   "source": [
    "u_grad = np.gradient(sol.fields[0].data, edge_order=2)"
   ]
  },
  {
   "cell_type": "code",
   "execution_count": 57,
   "id": "4e5ea9d8-dc23-4806-8796-914b94e13b04",
   "metadata": {},
   "outputs": [
    {
     "data": {
      "text/plain": [
       "-0.0049409484395397385"
      ]
     },
     "execution_count": 57,
     "metadata": {},
     "output_type": "execute_result"
    }
   ],
   "source": [
    "u_grad[-1] * 2"
   ]
  },
  {
   "cell_type": "code",
   "execution_count": 58,
   "id": "12ccbf77-9951-4083-9c79-6721f3d4278b",
   "metadata": {},
   "outputs": [
    {
     "data": {
      "image/png": "[encoded data removed]",
      "text/plain": [
       "<Figure size 432x288 with 1 Axes>"
      ]
     },
     "metadata": {
      "needs_background": "light"
     },
     "output_type": "display_data"
    },
    {
     "data": {
      "text/plain": [
       "<pde.tools.plotting.PlotReference at 0x7f7f0c9ff730>"
      ]
     },
     "execution_count": 58,
     "metadata": {},
     "output_type": "execute_result"
    }
   ],
   "source": [
    "u_field.plot(title=\"displacement field after a second\")"
   ]
  },
  {
   "cell_type": "code",
   "execution_count": 59,
   "id": "12ef7658-0669-4b24-b04e-c572e4bfe80f",
   "metadata": {},
   "outputs": [
    {
     "ename": "SyntaxError",
     "evalue": "invalid syntax (4291986749.py, line 1)",
     "output_type": "error",
     "traceback": [
      "\u001b[0;36m  File \u001b[0;32m\"/var/folders/7w/j5gl6mrn46jd965bzw_01wh40000gn/T/ipykernel_24874/4291986749.py\"\u001b[0;36m, line \u001b[0;32m1\u001b[0m\n\u001b[0;31m    state.fields.\u001b[0m\n\u001b[0m                 ^\u001b[0m\n\u001b[0;31mSyntaxError\u001b[0m\u001b[0;31m:\u001b[0m invalid syntax\n"
     ]
    }
   ],
   "source": [
    "state.fields."
   ]
  },
  {
   "cell_type": "code",
   "execution_count": 60,
   "id": "fc6e9fde-cf3c-4a39-af31-9f4705d30ced",
   "metadata": {},
   "outputs": [
    {
     "data": {
      "application/vnd.jupyter.widget-view+json": {
       "model_id": "b93cf256158b45838c58c585e7ca5e14",
       "version_major": 2,
       "version_minor": 0
      },
      "text/plain": [
       "Output()"
      ]
     },
     "metadata": {},
     "output_type": "display_data"
    },
    {
     "name": "stderr",
     "output_type": "stream",
     "text": [
      "Spent more time on handling trackers (31.162654000000202) than on the actual simulation (21.336659999999824)\n"
     ]
    }
   ],
   "source": [
    "from pde import PDE, FieldCollection, PlotTracker, ScalarField, UnitGrid\n",
    "\n",
    "# define the PDE\n",
    "a, b = 1, 3\n",
    "d0, d1 = 1, 0.1\n",
    "eq = PDE(\n",
    "    {\n",
    "        \"u\": f\"{d0} * laplace(u) + {a} - ({b} + 1) * u + u**2 * v\",\n",
    "        \"v\": f\"{d1} * laplace(v) + {b} * u - u**2 * v\",\n",
    "    }\n",
    ")\n",
    "\n",
    "# initialize state\n",
    "grid = UnitGrid([64, 64])\n",
    "u = ScalarField(grid, a, label=\"Field $u$\")\n",
    "v = b / a + 0.1 * ScalarField.random_normal(grid, label=\"Field $v$\")\n",
    "state = FieldCollection([u, v])\n",
    "\n",
    "# simulate the pde\n",
    "tracker = PlotTracker(interval=1, plot_args={\"vmin\": 0, \"vmax\": 5})\n",
    "sol = eq.solve(state, t_range=20, dt=1e-3, tracker=tracker)"
   ]
  },
  {
   "cell_type": "code",
   "execution_count": null,
   "id": "a97baf68-b03f-4051-b620-499a6165df51",
   "metadata": {},
   "outputs": [],
   "source": []
  }
 ],
 "metadata": {
  "kernelspec": {
   "display_name": "chameleon",
   "language": "python",
   "name": "chameleon"
  },
  "language_info": {
   "codemirror_mode": {
    "name": "ipython",
    "version": 3
   },
   "file_extension": ".py",
   "mimetype": "text/x-python",
   "name": "python",
   "nbconvert_exporter": "python",
   "pygments_lexer": "ipython3",
   "version": "3.7.4"
  }
 },
 "nbformat": 4,
 "nbformat_minor": 5
}
