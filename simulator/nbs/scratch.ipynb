{
 "cells": [
  {
   "cell_type": "code",
   "execution_count": null,
   "id": "ee113fb0-106f-485b-9c0d-60ee380d1fa8",
   "metadata": {},
   "outputs": [],
   "source": [
    "%reset -f\n",
    "import time\n",
    "import pickle\n",
    "import gym\n",
    "from stable_baselines3 import DDPG\n",
    "from stable_baselines3.common.env_checker import check_env\n",
    "import matplotlib.pyplot as plt\n",
    "import numpy as np\n",
    "from tqdm import tqdm\n",
    "import derivatives as d\n",
    "import forward_helpers as fh\n",
    "from chameleon import Chameleon"
   ]
  },
  {
   "cell_type": "markdown",
   "id": "b6b718df-09f2-455f-a7ae-be40454d622a",
   "metadata": {},
   "source": [
    "## Doing the RL"
   ]
  },
  {
   "cell_type": "code",
   "execution_count": null,
   "id": "4ba304ab-3810-44c0-ac91-300d0ce280e7",
   "metadata": {},
   "outputs": [],
   "source": [
    "env = Chameleon(E=1e-1, target_pos=0.141, dt=1e-6)\n",
    "model = DDPG(\"MlpPolicy\", env, verbose=0)"
   ]
  },
  {
   "cell_type": "code",
   "execution_count": null,
   "id": "b77ebd39-f807-4dc4-ad08-5380e1449210",
   "metadata": {
    "tags": []
   },
   "outputs": [],
   "source": [
    "model.learn(total_timesteps=int(5e3))"
   ]
  },
  {
   "cell_type": "code",
   "execution_count": null,
   "id": "27af766a-3005-4b94-8cf6-3aa62ee2bbff",
   "metadata": {},
   "outputs": [],
   "source": [
    "# model = DDPG.load(\"successful_reaching_E0.01\")"
   ]
  },
  {
   "cell_type": "code",
   "execution_count": null,
   "id": "4964c69c-f5b0-4e90-9139-fe27d4b01e06",
   "metadata": {},
   "outputs": [],
   "source": [
    "# done = False\n",
    "# state = env.reset()\n",
    "# pos_hist = []\n",
    "# pos_hist.append(env.position_history[-1])\n",
    "# while not done:\n",
    "#     action = model.predict(state)[0]\n",
    "#     state, rew, done, _ = env.step(action)\n",
    "#     pos_hist.append(env.position_history[-1])"
   ]
  },
  {
   "cell_type": "code",
   "execution_count": null,
   "id": "04650112-cb90-4369-844d-bb901b0c8582",
   "metadata": {},
   "outputs": [],
   "source": [
    "# history = []\n",
    "# for i in range(len(pos_hist)):\n",
    "#     x_p = pos_hist[i]\n",
    "#     y = np.zeros(env.n_elems)\n",
    "#     ar = np.vstack((x_p, y)).T\n",
    "#     history.append(ar)\n",
    "\n",
    "# with open(\"winning_history.txt\", \"wb\") as fp:\n",
    "#     pickle.dump(history, fp)"
   ]
  },
  {
   "cell_type": "code",
   "execution_count": null,
   "id": "fc66f15c-17d1-401f-8465-6aabcdb87188",
   "metadata": {},
   "outputs": [],
   "source": []
  }
 ],
 "metadata": {
  "kernelspec": {
   "display_name": "chameleon",
   "language": "python",
   "name": "chameleon"
  },
  "language_info": {
   "codemirror_mode": {
    "name": "ipython",
    "version": 3
   },
   "file_extension": ".py",
   "mimetype": "text/x-python",
   "name": "python",
   "nbconvert_exporter": "python",
   "pygments_lexer": "ipython3",
   "version": "3.7.4"
  }
 },
 "nbformat": 4,
 "nbformat_minor": 5
}
