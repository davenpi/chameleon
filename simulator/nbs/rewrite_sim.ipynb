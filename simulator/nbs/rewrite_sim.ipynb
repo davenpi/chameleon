{
 "cells": [
  {
   "cell_type": "code",
   "execution_count": 1,
   "id": "f4de3bc2-bbec-44cd-a60a-7a49b1fe5976",
   "metadata": {},
   "outputs": [],
   "source": [
    "import numpy as np"
   ]
  },
  {
   "cell_type": "code",
   "execution_count": null,
   "id": "42fef41a-a8ce-493e-9a25-b0633bad4dfa",
   "metadata": {},
   "outputs": [],
   "source": [
    "# writing a new function to do one step of updating the displacement. \n",
    "def one_step(u_current : np.ndarray, active_stress : np.ndarray dt: float) -> np.ndarray:\n",
    "    grad = np.gradient(u, edge_order=2)\n",
    "    return u_current**2"
   ]
  },
  {
   "cell_type": "code",
   "execution_count": null,
   "id": "e970d90f-4a5a-4eca-a748-40ba1fd522b2",
   "metadata": {},
   "outputs": [],
   "source": []
  },
  {
   "cell_type": "code",
   "execution_count": null,
   "id": "9cf1b1f6-ed5e-4d21-9dbf-47f2e920b08f",
   "metadata": {},
   "outputs": [],
   "source": []
  }
 ],
 "metadata": {
  "kernelspec": {
   "display_name": "chameleon",
   "language": "python",
   "name": "chameleon"
  },
  "language_info": {
   "codemirror_mode": {
    "name": "ipython",
    "version": 3
   },
   "file_extension": ".py",
   "mimetype": "text/x-python",
   "name": "python",
   "nbconvert_exporter": "python",
   "pygments_lexer": "ipython3",
   "version": "3.7.4"
  }
 },
 "nbformat": 4,
 "nbformat_minor": 5
}
