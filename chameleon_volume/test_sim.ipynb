{
 "cells": [
  {
   "cell_type": "code",
   "execution_count": null,
   "id": "c9fb873a-1ad8-40bf-a93a-bff15dc3cc57",
   "metadata": {},
   "outputs": [],
   "source": [
    "import copy\n",
    "import numpy as np\n",
    "import matplotlib.pyplot as plt"
   ]
  },
  {
   "cell_type": "markdown",
   "id": "2f9b7324-c68d-44ec-a7ad-1720dcd1a6b3",
   "metadata": {},
   "source": [
    "## We need to simulate both the volume conservation and the dynamics\n",
    "\n",
    "### The dynamics says \n",
    "\n",
    "\\begin{equation}\n",
    "\\rho r^2 (\\partial_t v) = \\partial_x (\\sigma r^2)\n",
    "\\end{equation}\n",
    "\n",
    "where $v = \\partial_t u$\n",
    "\n",
    "### Volume conservation says \n",
    "\n",
    "\\begin{equation}\n",
    "\\partial_t [r^2(1 + \\partial_x u)] = (1+\\partial_x u)\\partial_t r^2  + r^2 \\partial_t (1+\\partial_x u) = 0\n",
    "\\end{equation}\n",
    "\n",
    "This converts into an update equation \n",
    "\n",
    "\\begin{equation}\n",
    "r^2_{t+1} = r^2_t - \\Delta t \\frac{r^2_t\\partial_t (1+\\partial_x u)}{(1+\\partial_x u)_t}\n",
    "\\end{equation}\n",
    "\n",
    "### The algoritm is \n",
    "\n",
    "- set initial $r^2$\n",
    "- take action and update $u$\n",
    "- update $r^2$\n",
    "- repeat"
   ]
  },
  {
   "cell_type": "code",
   "execution_count": null,
   "id": "88838225-3073-4d48-9c7e-bff70d74d844",
   "metadata": {},
   "outputs": [],
   "source": [
    "from chameleon import Chameleon\n",
    "\n",
    "c = Chameleon()"
   ]
  },
  {
   "cell_type": "code",
   "execution_count": null,
   "id": "49f8b1b8-4569-4cbb-9be8-5faa8c456186",
   "metadata": {},
   "outputs": [],
   "source": [
    "c.one_step(np.linspace(0, 1, 50) ** 2)"
   ]
  },
  {
   "cell_type": "code",
   "execution_count": null,
   "id": "dbd277e8-38cf-4df4-8bf3-987464a191ae",
   "metadata": {},
   "outputs": [],
   "source": [
    "c.u"
   ]
  },
  {
   "cell_type": "code",
   "execution_count": null,
   "id": "4153c280-67bd-4cd4-a785-ea782330a913",
   "metadata": {},
   "outputs": [],
   "source": [
    "c.pos"
   ]
  },
  {
   "cell_type": "code",
   "execution_count": null,
   "id": "78849d81-bcca-4bb2-b4f2-bfe35b08249c",
   "metadata": {},
   "outputs": [],
   "source": [
    "np.diff(c.pos)"
   ]
  },
  {
   "cell_type": "code",
   "execution_count": null,
   "id": "395e5154-bd02-44c8-b605-7a2fe00b9090",
   "metadata": {},
   "outputs": [],
   "source": [
    "c.r"
   ]
  },
  {
   "cell_type": "code",
   "execution_count": null,
   "id": "6ebb0afb-93d1-4ce5-9c3d-27939b91f6d8",
   "metadata": {},
   "outputs": [],
   "source": [
    "np.arange(1, 50, 2)"
   ]
  },
  {
   "cell_type": "code",
   "execution_count": null,
   "id": "277ed036-22a8-4a79-9150-91dc9a381d4d",
   "metadata": {},
   "outputs": [],
   "source": []
  }
 ],
 "metadata": {
  "kernelspec": {
   "display_name": "chameleon",
   "language": "python",
   "name": "chameleon"
  },
  "language_info": {
   "codemirror_mode": {
    "name": "ipython",
    "version": 3
   },
   "file_extension": ".py",
   "mimetype": "text/x-python",
   "name": "python",
   "nbconvert_exporter": "python",
   "pygments_lexer": "ipython3",
   "version": "3.7.4"
  }
 },
 "nbformat": 4,
 "nbformat_minor": 5
}
