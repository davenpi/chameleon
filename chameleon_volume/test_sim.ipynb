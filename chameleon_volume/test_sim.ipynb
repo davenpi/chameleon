{
 "cells": [
  {
   "cell_type": "markdown",
   "id": "2f9b7324-c68d-44ec-a7ad-1720dcd1a6b3",
   "metadata": {},
   "source": [
    "## We need to simulate both the volume conservation and the dynamics\n",
    "\n",
    "### The dynamics says \n",
    "\n",
    "\\begin{equation}\n",
    "\\rho r^2 (\\partial_t v) = \\partial_x (\\sigma r^2)\n",
    "\\end{equation}\n",
    "\n",
    "where $v = \\partial_t u$\n",
    "\n",
    "### Volume conservation says \n",
    "\n",
    "\\begin{equation}\n",
    "\\partial_t [r^2(1 + \\partial_x u)] = (1+\\partial_x u)\\partial_t r^2  + r^2 \\partial^2_{tx} u = 0\n",
    "\\end{equation}\n",
    "\n",
    "### The algoritm is \n",
    "\n",
    "- set initial $r^2$\n",
    "- take action and update $u$\n",
    "- update $r^2$\n",
    "- repeat"
   ]
  },
  {
   "cell_type": "code",
   "execution_count": 7,
   "id": "88838225-3073-4d48-9c7e-bff70d74d844",
   "metadata": {},
   "outputs": [],
   "source": [
    "import copy\n",
    "import numpy as np\n",
    "import matplotlib.pyplot as plt\n",
    "from chameleon import Chameleon\n",
    "\n",
    "\n",
    "def volume(cham):\n",
    "    v = np.trapz(cham.r, dx=cham.dx)\n",
    "    return v\n",
    "\n",
    "\n",
    "c = Chameleon()"
   ]
  },
  {
   "cell_type": "code",
   "execution_count": 8,
   "id": "4c40b01d-b899-4f51-bd08-21da814eddbb",
   "metadata": {},
   "outputs": [],
   "source": [
    "for i in range(5):\n",
    "    active_stress = -np.ones(c.n_elems)\n",
    "    c.one_step(active_stress)"
   ]
  },
  {
   "cell_type": "code",
   "execution_count": 9,
   "id": "4dd21eb8-037a-4d77-8225-44fd25b6735a",
   "metadata": {},
   "outputs": [
    {
     "data": {
      "text/plain": [
       "0.8703032523425293"
      ]
     },
     "execution_count": 9,
     "metadata": {},
     "output_type": "execute_result"
    }
   ],
   "source": [
    "c.get_volume()"
   ]
  },
  {
   "cell_type": "code",
   "execution_count": 10,
   "id": "32605e0a-bf60-4756-bae1-3c0abb53911b",
   "metadata": {},
   "outputs": [
    {
     "data": {
      "text/plain": [
       "array([ 0.00000000e+00,  1.01010101e-02,  2.02020202e-02,  3.03030303e-02,\n",
       "        4.04040404e-02,  5.05050505e-02,  6.06060606e-02,  7.07070707e-02,\n",
       "        8.08080808e-02,  9.09090909e-02,  1.01010101e-01,  1.11111111e-01,\n",
       "        1.21212121e-01,  1.31313131e-01,  1.41414141e-01,  1.51515152e-01,\n",
       "        1.61616162e-01,  1.71717172e-01,  1.81818182e-01,  1.91919192e-01,\n",
       "        2.02020202e-01,  2.12121212e-01,  2.22222222e-01,  2.32323232e-01,\n",
       "        2.42424242e-01,  2.52525253e-01,  2.62626263e-01,  2.72727273e-01,\n",
       "        2.82828283e-01,  2.92929293e-01,  3.03030303e-01,  3.13131313e-01,\n",
       "        3.23232323e-01,  3.33333333e-01,  3.43434343e-01,  3.53535354e-01,\n",
       "        3.63636364e-01,  3.73737374e-01,  3.83838384e-01,  3.93939394e-01,\n",
       "        4.04040404e-01,  4.14141414e-01,  4.24242424e-01,  4.34343434e-01,\n",
       "        4.44444444e-01,  4.54545455e-01,  4.64646465e-01,  4.74747475e-01,\n",
       "        4.84848485e-01,  4.94949495e-01,  5.05050505e-01,  5.15151515e-01,\n",
       "        5.25252525e-01,  5.35353535e-01,  5.45454545e-01,  5.55555556e-01,\n",
       "        5.65656566e-01,  5.75757576e-01,  5.85858586e-01,  5.95959596e-01,\n",
       "        6.06060606e-01,  6.16161616e-01,  6.26262626e-01,  6.36363636e-01,\n",
       "        6.46464646e-01,  6.56565657e-01,  6.66666667e-01,  6.76767677e-01,\n",
       "        6.86868687e-01,  6.96969697e-01,  7.07070707e-01,  7.17171717e-01,\n",
       "        7.27272727e-01,  7.37373737e-01,  7.47474747e-01,  7.57575758e-01,\n",
       "        7.67676768e-01,  7.77777778e-01,  7.87878788e-01,  7.97979798e-01,\n",
       "        8.08080808e-01,  8.18181818e-01,  8.28282828e-01,  8.38383838e-01,\n",
       "        8.48484848e-01,  8.58585859e-01,  8.68686869e-01,  8.78787879e-01,\n",
       "        8.88888889e-01,  8.98989899e-01,  9.09090909e-01,  3.45024512e+00,\n",
       "        2.87266196e+01, -1.14385362e+02, -6.69605295e+01,  1.71640051e+04,\n",
       "        4.19110790e+00, -3.07808364e+04, -6.32688074e+02, -6.32677482e+02])"
      ]
     },
     "execution_count": 10,
     "metadata": {},
     "output_type": "execute_result"
    }
   ],
   "source": [
    "c.pos"
   ]
  },
  {
   "cell_type": "code",
   "execution_count": null,
   "id": "085009ab-efc8-4295-b682-201e71b3b549",
   "metadata": {},
   "outputs": [],
   "source": [
    "c.dt"
   ]
  },
  {
   "cell_type": "code",
   "execution_count": null,
   "id": "f7204d67-999f-4aba-a833-d3d4c61fdbcc",
   "metadata": {},
   "outputs": [],
   "source": []
  }
 ],
 "metadata": {
  "kernelspec": {
   "display_name": "chameleon",
   "language": "python",
   "name": "chameleon"
  },
  "language_info": {
   "codemirror_mode": {
    "name": "ipython",
    "version": 3
   },
   "file_extension": ".py",
   "mimetype": "text/x-python",
   "name": "python",
   "nbconvert_exporter": "python",
   "pygments_lexer": "ipython3",
   "version": "3.7.4"
  }
 },
 "nbformat": 4,
 "nbformat_minor": 5
}
