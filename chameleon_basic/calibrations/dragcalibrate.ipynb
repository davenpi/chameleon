{
 "cells": [
  {
   "cell_type": "code",
   "execution_count": 1,
   "id": "b280d2b0-b12c-4c59-9541-2145a87072e2",
   "metadata": {},
   "outputs": [],
   "source": [
    "%reset -f\n",
    "import numpy as np\n",
    "import matplotlib.pyplot as plt\n",
    "import chameleon as c\n",
    "import time"
   ]
  },
  {
   "cell_type": "markdown",
   "id": "6007311e-5135-49c6-a7fb-b8bb290a7523",
   "metadata": {},
   "source": [
    "# Calibration with $\\sigma = -xt$"
   ]
  },
  {
   "cell_type": "code",
   "execution_count": 2,
   "id": "77eed80b-139d-451a-9e73-7f0dd6472c20",
   "metadata": {},
   "outputs": [],
   "source": [
    "def sig_a(env, t):\n",
    "    \"\"\"\n",
    "    Function to specify active stress as a function of time.\n",
    "    We need to take in the environment so that we can get the\n",
    "    x postion.\n",
    "    \"\"\"\n",
    "    x = env.pos_init\n",
    "    return -x * t\n",
    "\n",
    "\n",
    "def integrate_to_t(env, t):\n",
    "    \"\"\"Integrate the environment from 0 to t\"\"\"\n",
    "    time_steps = int(t / env.dt)\n",
    "    t_arr = np.linspace(0, t, time_steps)\n",
    "    for t in t_arr:\n",
    "        sig = sig_a(env, t)\n",
    "        env.one_step_drag(sig)\n",
    "    return"
   ]
  },
  {
   "cell_type": "markdown",
   "id": "9221cedb-44ab-452c-8e5d-33f87608f67c",
   "metadata": {},
   "source": [
    "Computing numerical answer"
   ]
  },
  {
   "cell_type": "code",
   "execution_count": 3,
   "id": "6dd39e67-397d-40eb-a072-c4832f863b59",
   "metadata": {},
   "outputs": [],
   "source": [
    "t = 10\n",
    "L = 10\n",
    "C = 1\n",
    "alpha = 1\n",
    "E = 1\n",
    "env = c.Chameleon(alpha=alpha, dt=0.001, init_length=L, E=E, C=1)\n",
    "# analytic = u(env, t)\n",
    "integrate_to_t(env, t)"
   ]
  },
  {
   "cell_type": "markdown",
   "id": "fb5cd3ad-71c1-400c-bb47-6329d58d6113",
   "metadata": {},
   "source": [
    "Analytic answer from mathematica"
   ]
  },
  {
   "cell_type": "code",
   "execution_count": 4,
   "id": "8ea10641-20ae-4b30-8e16-52bef9868b9b",
   "metadata": {},
   "outputs": [],
   "source": [
    "a = [\n",
    "    {0.0},\n",
    "    {-23.3412},\n",
    "    {-37.6824},\n",
    "    {-43.0236},\n",
    "    {-39.3647},\n",
    "    {-26.7057},\n",
    "    {-5.04674},\n",
    "    {25.6123},\n",
    "    {65.2714},\n",
    "    {113.931},\n",
    "    {171.59},\n",
    "]\n",
    "a = [s.pop() for s in a]"
   ]
  },
  {
   "cell_type": "code",
   "execution_count": 5,
   "id": "3bc4b1b2-cccb-4750-a22a-9794634a1382",
   "metadata": {},
   "outputs": [
    {
     "data": {
      "image/png": "[encoded data removed]",
      "text/plain": [
       "<Figure size 432x288 with 1 Axes>"
      ]
     },
     "metadata": {
      "needs_background": "light"
     },
     "output_type": "display_data"
    }
   ],
   "source": [
    "# plt.plot(env.pos_init, analytic)\n",
    "plt.plot(env.pos_init, env.u_current)\n",
    "plt.plot(a)\n",
    "# plt.plot(env.pos_init, analytic)\n",
    "plt.xlabel(\"x\")\n",
    "plt.ylabel(f\"$u(x, {t})$\")\n",
    "# plt.legend((\"drag\", \"no drag\"))\n",
    "plt.title(f\"Time: {t}\")\n",
    "plt.show()"
   ]
  },
  {
   "cell_type": "markdown",
   "id": "547c707b-61be-488b-9eab-688a1a0a913f",
   "metadata": {},
   "source": [
    "# Calibrate with $\\sigma_a(x, t) = -sin^2(x)t$"
   ]
  },
  {
   "cell_type": "code",
   "execution_count": 19,
   "id": "4298ce12-d4d3-418c-bb98-c563917cdb26",
   "metadata": {},
   "outputs": [],
   "source": [
    "def sig_a(env, t):\n",
    "    \"\"\"\n",
    "    Function to specify active stress as a function of time.\n",
    "    We need to take in the environment so that we can get the\n",
    "    x postion.\n",
    "    \"\"\"\n",
    "    x = env.pos_init\n",
    "    return -(np.sin(x) ** 2) * t\n",
    "\n",
    "\n",
    "def integrate_to_t(env, t):\n",
    "    \"\"\"Integrate the environment from 0 to t\"\"\"\n",
    "    time_steps = int(t / env.dt)\n",
    "    t_arr = np.linspace(0, t, time_steps)\n",
    "    for t in t_arr:\n",
    "        sig = sig_a(env, t)\n",
    "        env.one_step_drag(sig)\n",
    "    return"
   ]
  },
  {
   "cell_type": "code",
   "execution_count": 20,
   "id": "b122e897-14e3-4da2-8972-8f31acd993a1",
   "metadata": {},
   "outputs": [],
   "source": [
    "t = 10\n",
    "L = 10\n",
    "C = 1\n",
    "alpha = 5\n",
    "E = 20\n",
    "env = c.Chameleon(alpha=alpha, dt=0.0001, init_length=L, E=E, C=C)\n",
    "# analytic = u(env, t)\n",
    "integrate_to_t(env, t)"
   ]
  },
  {
   "cell_type": "code",
   "execution_count": 21,
   "id": "21149d16-edea-4c99-864e-2107e83b9380",
   "metadata": {},
   "outputs": [],
   "source": [
    "a = [\n",
    "    {0.0},\n",
    "    {0.121},\n",
    "    {0.555877},\n",
    "    {0.729516},\n",
    "    {0.806704},\n",
    "    {1.22541},\n",
    "    {1.45632},\n",
    "    {1.50201},\n",
    "    {1.88965},\n",
    "    {2.17791},\n",
    "    {2.20694},\n",
    "]\n",
    "a = [s.pop() for s in a]"
   ]
  },
  {
   "cell_type": "code",
   "execution_count": 22,
   "id": "04085d32-ebb9-4c6e-afbc-d8695c581b77",
   "metadata": {},
   "outputs": [
    {
     "data": {
      "image/png": "[encoded data removed]",
      "text/plain": [
       "<Figure size 432x288 with 1 Axes>"
      ]
     },
     "metadata": {
      "needs_background": "light"
     },
     "output_type": "display_data"
    }
   ],
   "source": [
    "# plt.plot(env.pos_init, analytic)\n",
    "plt.plot(env.pos_init, env.u_current)\n",
    "plt.plot(np.linspace(0, 10, 11), a)\n",
    "plt.xlabel(\"x\")\n",
    "plt.ylabel(f\"$u(x, {t})$\")\n",
    "plt.legend((\"Numerical\", \"Analytic\"))\n",
    "plt.title(f\"Time: {t}\")\n",
    "plt.show()"
   ]
  },
  {
   "cell_type": "markdown",
   "id": "08fb257d-5ccb-4707-91c6-ba2f24e43fc4",
   "metadata": {},
   "source": [
    "# Calibrating with $\\sigma_a = -sin^2(x)sin^2(t) -1$ "
   ]
  },
  {
   "cell_type": "code",
   "execution_count": 10,
   "id": "508b6843-4fa7-479b-a8e3-1d9cf9a9c5c1",
   "metadata": {},
   "outputs": [],
   "source": [
    "def sig_a(env, t):\n",
    "    \"\"\"\n",
    "    Function to specify active stress as a function of time.\n",
    "    We need to take in the environment so that we can get the\n",
    "    x postion.\n",
    "    \"\"\"\n",
    "    x = env.pos_init\n",
    "    return -(np.sin(x) ** 2) * (np.sin(t) ** 2) - 1\n",
    "\n",
    "\n",
    "def integrate_to_t(env, t):\n",
    "    \"\"\"Integrate the environment from 0 to t\"\"\"\n",
    "    time_steps = int(t / env.dt)\n",
    "    t_arr = np.linspace(0, t, time_steps)\n",
    "    for t in t_arr:\n",
    "        sig = sig_a(env, t)\n",
    "        env.one_step_drag(sig)\n",
    "    return"
   ]
  },
  {
   "cell_type": "code",
   "execution_count": 11,
   "id": "7b9d8cdd-e6c0-48c4-a805-0cda7d6d6488",
   "metadata": {},
   "outputs": [],
   "source": [
    "t = 10\n",
    "L = 10\n",
    "C = 1\n",
    "alpha = 5\n",
    "E = 1\n",
    "env = c.Chameleon(alpha=alpha, dt=0.5, init_length=L, E=E, C=C)\n",
    "# analytic = u(env, t)\n",
    "integrate_to_t(env, t)"
   ]
  },
  {
   "cell_type": "code",
   "execution_count": 12,
   "id": "c3a96eec-1ced-40d1-95bd-54f3369d6b58",
   "metadata": {},
   "outputs": [],
   "source": [
    "a = [\n",
    "    {0.0},\n",
    "    {0.516557},\n",
    "    {1.2815},\n",
    "    {1.83972},\n",
    "    {2.3216},\n",
    "    {3.07375},\n",
    "    {3.67729},\n",
    "    {4.13425},\n",
    "    {4.86182},\n",
    "    {5.51074},\n",
    "    {5.95451},\n",
    "]\n",
    "a = [s.pop() for s in a]"
   ]
  },
  {
   "cell_type": "code",
   "execution_count": 13,
   "id": "a74b9c26-ef4b-4c3c-a2d1-4abe3be43270",
   "metadata": {},
   "outputs": [
    {
     "data": {
      "image/png": "[encoded data removed]",
      "text/plain": [
       "<Figure size 432x288 with 1 Axes>"
      ]
     },
     "metadata": {
      "needs_background": "light"
     },
     "output_type": "display_data"
    }
   ],
   "source": [
    "# plt.plot(env.pos_init, analytic)\n",
    "plt.plot(env.pos_init, env.u_current)\n",
    "plt.plot(np.linspace(0, 10, 11), a)\n",
    "plt.xlabel(\"x\")\n",
    "plt.ylabel(f\"$u(x, {t})$\")\n",
    "plt.legend((\"Numerical\", \"Analytic\"))\n",
    "plt.title(f\"Time: {t}\")\n",
    "plt.show()"
   ]
  },
  {
   "cell_type": "code",
   "execution_count": null,
   "id": "62439e27-7e3a-46ad-8bca-1c261f5bb508",
   "metadata": {},
   "outputs": [],
   "source": []
  }
 ],
 "metadata": {
  "kernelspec": {
   "display_name": "chameleon",
   "language": "python",
   "name": "chameleon"
  },
  "language_info": {
   "codemirror_mode": {
    "name": "ipython",
    "version": 3
   },
   "file_extension": ".py",
   "mimetype": "text/x-python",
   "name": "python",
   "nbconvert_exporter": "python",
   "pygments_lexer": "ipython3",
   "version": "3.7.4"
  }
 },
 "nbformat": 4,
 "nbformat_minor": 5
}
