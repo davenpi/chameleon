{
 "cells": [
  {
   "cell_type": "code",
   "execution_count": null,
   "id": "decdf668-db69-4ea6-b023-07b9d30096c4",
   "metadata": {},
   "outputs": [],
   "source": [
    "%reset -f\n",
    "import scipy.integrate as si\n",
    "import numpy as np\n",
    "import matplotlib.pyplot as plt\n",
    "import chameleon as c\n",
    "import time"
   ]
  },
  {
   "cell_type": "code",
   "execution_count": null,
   "id": "7bc59bbe-ec3b-46c4-9b3d-e7be07cbbc13",
   "metadata": {},
   "outputs": [],
   "source": [
    "def sig_a(env, t):\n",
    "    return -(np.sin(env.pos_init) ** 2) * np.sin(t) ** 2\n",
    "\n",
    "\n",
    "def integrate_to_t(env, t):\n",
    "    \"\"\"Integrate the environment from 0 to t\"\"\"\n",
    "    time_steps = int(t / env.dt)\n",
    "    t_arr = np.linspace(0, t, time_steps)\n",
    "    for t in t_arr:\n",
    "        sig = sig_a(env, t)\n",
    "        env.one_step_return(sig)\n",
    "        # env.step(sig)\n",
    "    return"
   ]
  },
  {
   "cell_type": "markdown",
   "id": "d1ee3f82-3ec4-43b0-8ded-5d1c7120454b",
   "metadata": {},
   "source": [
    "# I want to have the rod in an initially overstretched position. \n",
    "I need to update the boundary conditions in `env.U0` to ensure that happens"
   ]
  },
  {
   "cell_type": "code",
   "execution_count": null,
   "id": "fe2ab29f-5a26-49c5-8432-f5e88f6d0a68",
   "metadata": {},
   "outputs": [],
   "source": [
    "m = 1\n",
    "L = 2\n",
    "cd = 10\n",
    "a = 10\n",
    "E = 50\n",
    "T = 5\n",
    "env = c.Chameleon(dt=T / 1000, c=cd, m=m, init_length=L, alpha=a, E=E)\n",
    "# env.episode_length = int(1e7)\n",
    "# env.returning = True\n",
    "# env.u_current = np.sin(env.pos_init)\n",
    "# env.u_hist.append(env.u_current)\n",
    "# env.U0[0] = env.u_current[-1]\n",
    "# env.U0[1] = 1"
   ]
  },
  {
   "cell_type": "code",
   "execution_count": null,
   "id": "fe17f4e1-9e48-4b62-80c6-fe749f6d9597",
   "metadata": {},
   "outputs": [],
   "source": [
    "integrate_to_t(env, T)"
   ]
  },
  {
   "cell_type": "code",
   "execution_count": null,
   "id": "bcccbf69-aec7-4fb6-b956-f18dead43548",
   "metadata": {},
   "outputs": [],
   "source": [
    "a = [\n",
    "    {0.0},\n",
    "    {-0.000280303},\n",
    "    {-0.000266894},\n",
    "    {0.000287571},\n",
    "    {0.00154501},\n",
    "    {0.00355637},\n",
    "    {0.00625354},\n",
    "    {0.00946018},\n",
    "    {0.0129195},\n",
    "    {0.0163347},\n",
    "    {0.0194162},\n",
    "]\n",
    "a = [s.pop() for s in a]"
   ]
  },
  {
   "cell_type": "code",
   "execution_count": null,
   "id": "0d76f913-6cc1-449d-81aa-4dbcd063090f",
   "metadata": {},
   "outputs": [],
   "source": [
    "plt.plot(np.linspace(0, env.length, len(a)), a)\n",
    "plt.plot(env.pos_init, env.u_current)\n",
    "plt.legend((\"Analytic\", \"Simulation\"))\n",
    "plt.title(f\"Displacement at time {T}:  Overdamped\")\n",
    "plt.xlabel(\"x\")\n",
    "plt.ylabel(f\"$u(x, {T})$\")\n",
    "plt.show()"
   ]
  },
  {
   "cell_type": "code",
   "execution_count": null,
   "id": "316fbc45-7416-48ea-9010-b145b76a0a65",
   "metadata": {},
   "outputs": [],
   "source": [
    "# import pickle\n",
    "# l = [1,2,3,4]\n",
    "# with open(\"pos_hist\", \"wb\") as fp:\n",
    "#     pickle.dump(env.pos_history, fp)\n",
    "\n",
    "# with open(\"test\", \"rb\") as fp:\n",
    "#     b = pickle.load(fp)"
   ]
  },
  {
   "cell_type": "code",
   "execution_count": null,
   "id": "73d4660a-455b-480e-820b-d08d0ab850b6",
   "metadata": {},
   "outputs": [],
   "source": [
    "env.u_tiny"
   ]
  },
  {
   "cell_type": "code",
   "execution_count": null,
   "id": "51e56062-60af-4749-9e16-cf1496da7b95",
   "metadata": {},
   "outputs": [],
   "source": [
    "env.u_current[-1]"
   ]
  },
  {
   "cell_type": "code",
   "execution_count": null,
   "id": "9f6bd069-a2bc-4536-bd36-01f7421974a1",
   "metadata": {},
   "outputs": [],
   "source": []
  }
 ],
 "metadata": {
  "kernelspec": {
   "display_name": "chameleon",
   "language": "python",
   "name": "chameleon"
  },
  "language_info": {
   "codemirror_mode": {
    "name": "ipython",
    "version": 3
   },
   "file_extension": ".py",
   "mimetype": "text/x-python",
   "name": "python",
   "nbconvert_exporter": "python",
   "pygments_lexer": "ipython3",
   "version": "3.7.4"
  }
 },
 "nbformat": 4,
 "nbformat_minor": 5
}
